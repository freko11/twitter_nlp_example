{
  "nbformat": 4,
  "nbformat_minor": 0,
  "metadata": {
    "colab": {
      "provenance": []
    },
    "kernelspec": {
      "name": "python3",
      "display_name": "Python 3"
    },
    "language_info": {
      "name": "python"
    },
    "accelerator": "GPU",
    "gpuClass": "standard"
  },
  "cells": [
    {
      "cell_type": "markdown",
      "source": [
        "NLP has the goal of deriving information out of natural language (form sequences text or speech).\n",
        "\n",
        "NLP problems are known as sequence to sequence problems (seq2seq)."
      ],
      "metadata": {
        "id": "qdDdI94v8Ohr"
      }
    },
    {
      "cell_type": "code",
      "source": [
        "!nvidia-smi -L"
      ],
      "metadata": {
        "colab": {
          "base_uri": "https://localhost:8080/"
        },
        "id": "YLnjAjma8Vpw",
        "outputId": "a05f64e8-433b-4cbe-dd6a-b695e2de8cfa"
      },
      "execution_count": null,
      "outputs": [
        {
          "output_type": "stream",
          "name": "stdout",
          "text": [
            "GPU 0: Tesla T4 (UUID: GPU-d2fd9c30-4b2b-f12f-4b95-c616253131b5)\n"
          ]
        }
      ]
    },
    {
      "cell_type": "code",
      "source": [
        "!wget https://raw.githubusercontent.com/mrdbourke/tensorflow-deep-learning/main/extras/helper_functions.py"
      ],
      "metadata": {
        "colab": {
          "base_uri": "https://localhost:8080/"
        },
        "id": "wQMIs4KI8lKB",
        "outputId": "967ed1a1-320b-44b0-babf-9a176a2853e6"
      },
      "execution_count": null,
      "outputs": [
        {
          "output_type": "stream",
          "name": "stdout",
          "text": [
            "--2022-06-21 23:20:27--  https://raw.githubusercontent.com/mrdbourke/tensorflow-deep-learning/main/extras/helper_functions.py\n",
            "Resolving raw.githubusercontent.com (raw.githubusercontent.com)... 185.199.108.133, 185.199.111.133, 185.199.109.133, ...\n",
            "Connecting to raw.githubusercontent.com (raw.githubusercontent.com)|185.199.108.133|:443... connected.\n",
            "HTTP request sent, awaiting response... 200 OK\n",
            "Length: 10246 (10K) [text/plain]\n",
            "Saving to: ‘helper_functions.py’\n",
            "\n",
            "helper_functions.py 100%[===================>]  10.01K  --.-KB/s    in 0s      \n",
            "\n",
            "2022-06-21 23:20:27 (111 MB/s) - ‘helper_functions.py’ saved [10246/10246]\n",
            "\n"
          ]
        }
      ]
    },
    {
      "cell_type": "code",
      "source": [
        "from helper_functions import *"
      ],
      "metadata": {
        "id": "6FGh1_t28zgf"
      },
      "execution_count": null,
      "outputs": []
    },
    {
      "cell_type": "code",
      "source": [
        "# Use kaggle nlp intro dataset (twitter disaster tweet)\n",
        "\n",
        "!wget https://storage.googleapis.com/ztm_tf_course/nlp_getting_started.zip\n",
        "\n",
        "unzip_data('nlp_getting_started.zip')"
      ],
      "metadata": {
        "colab": {
          "base_uri": "https://localhost:8080/"
        },
        "id": "FFe8ronb82rw",
        "outputId": "7877adf2-fbbd-4d51-a07a-9d0312a996ff"
      },
      "execution_count": null,
      "outputs": [
        {
          "output_type": "stream",
          "name": "stdout",
          "text": [
            "--2022-06-21 23:20:30--  https://storage.googleapis.com/ztm_tf_course/nlp_getting_started.zip\n",
            "Resolving storage.googleapis.com (storage.googleapis.com)... 173.194.193.128, 173.194.192.128, 172.217.219.128, ...\n",
            "Connecting to storage.googleapis.com (storage.googleapis.com)|173.194.193.128|:443... connected.\n",
            "HTTP request sent, awaiting response... 200 OK\n",
            "Length: 607343 (593K) [application/zip]\n",
            "Saving to: ‘nlp_getting_started.zip’\n",
            "\n",
            "\rnlp_getting_started   0%[                    ]       0  --.-KB/s               \rnlp_getting_started 100%[===================>] 593.11K  --.-KB/s    in 0.005s  \n",
            "\n",
            "2022-06-21 23:20:30 (118 MB/s) - ‘nlp_getting_started.zip’ saved [607343/607343]\n",
            "\n"
          ]
        }
      ]
    },
    {
      "cell_type": "code",
      "source": [
        "# Visualize a text dataset\n",
        "\n",
        "import pandas as pd\n",
        "import numpy as np\n",
        "import tensorflow as tf\n",
        "\n",
        "train_df = pd.read_csv('train.csv')\n",
        "test_df = pd.read_csv('test.csv')\n",
        "\n",
        "train_df"
      ],
      "metadata": {
        "colab": {
          "base_uri": "https://localhost:8080/",
          "height": 424
        },
        "id": "zFUw7yvd9VJH",
        "outputId": "3641c402-0b8e-42cd-b4ad-01a7b0551130"
      },
      "execution_count": null,
      "outputs": [
        {
          "output_type": "execute_result",
          "data": {
            "text/plain": [
              "         id keyword location  \\\n",
              "0         1     NaN      NaN   \n",
              "1         4     NaN      NaN   \n",
              "2         5     NaN      NaN   \n",
              "3         6     NaN      NaN   \n",
              "4         7     NaN      NaN   \n",
              "...     ...     ...      ...   \n",
              "7608  10869     NaN      NaN   \n",
              "7609  10870     NaN      NaN   \n",
              "7610  10871     NaN      NaN   \n",
              "7611  10872     NaN      NaN   \n",
              "7612  10873     NaN      NaN   \n",
              "\n",
              "                                                   text  target  \n",
              "0     Our Deeds are the Reason of this #earthquake M...       1  \n",
              "1                Forest fire near La Ronge Sask. Canada       1  \n",
              "2     All residents asked to 'shelter in place' are ...       1  \n",
              "3     13,000 people receive #wildfires evacuation or...       1  \n",
              "4     Just got sent this photo from Ruby #Alaska as ...       1  \n",
              "...                                                 ...     ...  \n",
              "7608  Two giant cranes holding a bridge collapse int...       1  \n",
              "7609  @aria_ahrary @TheTawniest The out of control w...       1  \n",
              "7610  M1.94 [01:04 UTC]?5km S of Volcano Hawaii. htt...       1  \n",
              "7611  Police investigating after an e-bike collided ...       1  \n",
              "7612  The Latest: More Homes Razed by Northern Calif...       1  \n",
              "\n",
              "[7613 rows x 5 columns]"
            ],
            "text/html": [
              "\n",
              "  <div id=\"df-0008070a-ced5-4755-bf44-1f5d6fa3ee48\">\n",
              "    <div class=\"colab-df-container\">\n",
              "      <div>\n",
              "<style scoped>\n",
              "    .dataframe tbody tr th:only-of-type {\n",
              "        vertical-align: middle;\n",
              "    }\n",
              "\n",
              "    .dataframe tbody tr th {\n",
              "        vertical-align: top;\n",
              "    }\n",
              "\n",
              "    .dataframe thead th {\n",
              "        text-align: right;\n",
              "    }\n",
              "</style>\n",
              "<table border=\"1\" class=\"dataframe\">\n",
              "  <thead>\n",
              "    <tr style=\"text-align: right;\">\n",
              "      <th></th>\n",
              "      <th>id</th>\n",
              "      <th>keyword</th>\n",
              "      <th>location</th>\n",
              "      <th>text</th>\n",
              "      <th>target</th>\n",
              "    </tr>\n",
              "  </thead>\n",
              "  <tbody>\n",
              "    <tr>\n",
              "      <th>0</th>\n",
              "      <td>1</td>\n",
              "      <td>NaN</td>\n",
              "      <td>NaN</td>\n",
              "      <td>Our Deeds are the Reason of this #earthquake M...</td>\n",
              "      <td>1</td>\n",
              "    </tr>\n",
              "    <tr>\n",
              "      <th>1</th>\n",
              "      <td>4</td>\n",
              "      <td>NaN</td>\n",
              "      <td>NaN</td>\n",
              "      <td>Forest fire near La Ronge Sask. Canada</td>\n",
              "      <td>1</td>\n",
              "    </tr>\n",
              "    <tr>\n",
              "      <th>2</th>\n",
              "      <td>5</td>\n",
              "      <td>NaN</td>\n",
              "      <td>NaN</td>\n",
              "      <td>All residents asked to 'shelter in place' are ...</td>\n",
              "      <td>1</td>\n",
              "    </tr>\n",
              "    <tr>\n",
              "      <th>3</th>\n",
              "      <td>6</td>\n",
              "      <td>NaN</td>\n",
              "      <td>NaN</td>\n",
              "      <td>13,000 people receive #wildfires evacuation or...</td>\n",
              "      <td>1</td>\n",
              "    </tr>\n",
              "    <tr>\n",
              "      <th>4</th>\n",
              "      <td>7</td>\n",
              "      <td>NaN</td>\n",
              "      <td>NaN</td>\n",
              "      <td>Just got sent this photo from Ruby #Alaska as ...</td>\n",
              "      <td>1</td>\n",
              "    </tr>\n",
              "    <tr>\n",
              "      <th>...</th>\n",
              "      <td>...</td>\n",
              "      <td>...</td>\n",
              "      <td>...</td>\n",
              "      <td>...</td>\n",
              "      <td>...</td>\n",
              "    </tr>\n",
              "    <tr>\n",
              "      <th>7608</th>\n",
              "      <td>10869</td>\n",
              "      <td>NaN</td>\n",
              "      <td>NaN</td>\n",
              "      <td>Two giant cranes holding a bridge collapse int...</td>\n",
              "      <td>1</td>\n",
              "    </tr>\n",
              "    <tr>\n",
              "      <th>7609</th>\n",
              "      <td>10870</td>\n",
              "      <td>NaN</td>\n",
              "      <td>NaN</td>\n",
              "      <td>@aria_ahrary @TheTawniest The out of control w...</td>\n",
              "      <td>1</td>\n",
              "    </tr>\n",
              "    <tr>\n",
              "      <th>7610</th>\n",
              "      <td>10871</td>\n",
              "      <td>NaN</td>\n",
              "      <td>NaN</td>\n",
              "      <td>M1.94 [01:04 UTC]?5km S of Volcano Hawaii. htt...</td>\n",
              "      <td>1</td>\n",
              "    </tr>\n",
              "    <tr>\n",
              "      <th>7611</th>\n",
              "      <td>10872</td>\n",
              "      <td>NaN</td>\n",
              "      <td>NaN</td>\n",
              "      <td>Police investigating after an e-bike collided ...</td>\n",
              "      <td>1</td>\n",
              "    </tr>\n",
              "    <tr>\n",
              "      <th>7612</th>\n",
              "      <td>10873</td>\n",
              "      <td>NaN</td>\n",
              "      <td>NaN</td>\n",
              "      <td>The Latest: More Homes Razed by Northern Calif...</td>\n",
              "      <td>1</td>\n",
              "    </tr>\n",
              "  </tbody>\n",
              "</table>\n",
              "<p>7613 rows × 5 columns</p>\n",
              "</div>\n",
              "      <button class=\"colab-df-convert\" onclick=\"convertToInteractive('df-0008070a-ced5-4755-bf44-1f5d6fa3ee48')\"\n",
              "              title=\"Convert this dataframe to an interactive table.\"\n",
              "              style=\"display:none;\">\n",
              "        \n",
              "  <svg xmlns=\"http://www.w3.org/2000/svg\" height=\"24px\"viewBox=\"0 0 24 24\"\n",
              "       width=\"24px\">\n",
              "    <path d=\"M0 0h24v24H0V0z\" fill=\"none\"/>\n",
              "    <path d=\"M18.56 5.44l.94 2.06.94-2.06 2.06-.94-2.06-.94-.94-2.06-.94 2.06-2.06.94zm-11 1L8.5 8.5l.94-2.06 2.06-.94-2.06-.94L8.5 2.5l-.94 2.06-2.06.94zm10 10l.94 2.06.94-2.06 2.06-.94-2.06-.94-.94-2.06-.94 2.06-2.06.94z\"/><path d=\"M17.41 7.96l-1.37-1.37c-.4-.4-.92-.59-1.43-.59-.52 0-1.04.2-1.43.59L10.3 9.45l-7.72 7.72c-.78.78-.78 2.05 0 2.83L4 21.41c.39.39.9.59 1.41.59.51 0 1.02-.2 1.41-.59l7.78-7.78 2.81-2.81c.8-.78.8-2.07 0-2.86zM5.41 20L4 18.59l7.72-7.72 1.47 1.35L5.41 20z\"/>\n",
              "  </svg>\n",
              "      </button>\n",
              "      \n",
              "  <style>\n",
              "    .colab-df-container {\n",
              "      display:flex;\n",
              "      flex-wrap:wrap;\n",
              "      gap: 12px;\n",
              "    }\n",
              "\n",
              "    .colab-df-convert {\n",
              "      background-color: #E8F0FE;\n",
              "      border: none;\n",
              "      border-radius: 50%;\n",
              "      cursor: pointer;\n",
              "      display: none;\n",
              "      fill: #1967D2;\n",
              "      height: 32px;\n",
              "      padding: 0 0 0 0;\n",
              "      width: 32px;\n",
              "    }\n",
              "\n",
              "    .colab-df-convert:hover {\n",
              "      background-color: #E2EBFA;\n",
              "      box-shadow: 0px 1px 2px rgba(60, 64, 67, 0.3), 0px 1px 3px 1px rgba(60, 64, 67, 0.15);\n",
              "      fill: #174EA6;\n",
              "    }\n",
              "\n",
              "    [theme=dark] .colab-df-convert {\n",
              "      background-color: #3B4455;\n",
              "      fill: #D2E3FC;\n",
              "    }\n",
              "\n",
              "    [theme=dark] .colab-df-convert:hover {\n",
              "      background-color: #434B5C;\n",
              "      box-shadow: 0px 1px 3px 1px rgba(0, 0, 0, 0.15);\n",
              "      filter: drop-shadow(0px 1px 2px rgba(0, 0, 0, 0.3));\n",
              "      fill: #FFFFFF;\n",
              "    }\n",
              "  </style>\n",
              "\n",
              "      <script>\n",
              "        const buttonEl =\n",
              "          document.querySelector('#df-0008070a-ced5-4755-bf44-1f5d6fa3ee48 button.colab-df-convert');\n",
              "        buttonEl.style.display =\n",
              "          google.colab.kernel.accessAllowed ? 'block' : 'none';\n",
              "\n",
              "        async function convertToInteractive(key) {\n",
              "          const element = document.querySelector('#df-0008070a-ced5-4755-bf44-1f5d6fa3ee48');\n",
              "          const dataTable =\n",
              "            await google.colab.kernel.invokeFunction('convertToInteractive',\n",
              "                                                     [key], {});\n",
              "          if (!dataTable) return;\n",
              "\n",
              "          const docLinkHtml = 'Like what you see? Visit the ' +\n",
              "            '<a target=\"_blank\" href=https://colab.research.google.com/notebooks/data_table.ipynb>data table notebook</a>'\n",
              "            + ' to learn more about interactive tables.';\n",
              "          element.innerHTML = '';\n",
              "          dataTable['output_type'] = 'display_data';\n",
              "          await google.colab.output.renderOutput(dataTable, element);\n",
              "          const docLink = document.createElement('div');\n",
              "          docLink.innerHTML = docLinkHtml;\n",
              "          element.appendChild(docLink);\n",
              "        }\n",
              "      </script>\n",
              "    </div>\n",
              "  </div>\n",
              "  "
            ]
          },
          "metadata": {},
          "execution_count": 5
        }
      ]
    },
    {
      "cell_type": "code",
      "source": [
        "# Shuffle training data\n",
        "\n",
        "train_df_shuffled = train_df.sample(frac=1, random_state=42)\n",
        "train_df_shuffled"
      ],
      "metadata": {
        "colab": {
          "base_uri": "https://localhost:8080/",
          "height": 468
        },
        "id": "9s-gQMqn-KJo",
        "outputId": "673e236f-35b3-422e-b487-d907d61857ee"
      },
      "execution_count": null,
      "outputs": [
        {
          "output_type": "execute_result",
          "data": {
            "text/plain": [
              "         id       keyword                        location  \\\n",
              "2644   3796   destruction                             NaN   \n",
              "2227   3185        deluge                             NaN   \n",
              "5448   7769        police                              UK   \n",
              "132     191    aftershock                             NaN   \n",
              "6845   9810        trauma           Montgomery County, MD   \n",
              "...     ...           ...                             ...   \n",
              "5226   7470  obliteration                         Merica!   \n",
              "5390   7691         panic                             NaN   \n",
              "860    1242         blood                             NaN   \n",
              "7603  10862           NaN                             NaN   \n",
              "7270  10409     whirlwind  Stamford & Cork (& Shropshire)   \n",
              "\n",
              "                                                   text  target  \n",
              "2644  So you have a new weapon that can cause un-ima...       1  \n",
              "2227  The f$&amp;@ing things I do for #GISHWHES Just...       0  \n",
              "5448  DT @georgegalloway: RT @Galloway4Mayor: ÛÏThe...       1  \n",
              "132   Aftershock back to school kick off was great. ...       0  \n",
              "6845  in response to trauma Children of Addicts deve...       0  \n",
              "...                                                 ...     ...  \n",
              "5226  @Eganator2000 There aren't many Obliteration s...       0  \n",
              "5390  just had a panic attack bc I don't have enough...       0  \n",
              "860   Omron HEM-712C Automatic Blood Pressure Monito...       0  \n",
              "7603  Officials say a quarantine is in place at an A...       1  \n",
              "7270  I moved to England five years ago today. What ...       1  \n",
              "\n",
              "[7613 rows x 5 columns]"
            ],
            "text/html": [
              "\n",
              "  <div id=\"df-a5f5a823-a91d-4736-92d4-dc8ae32aca7f\">\n",
              "    <div class=\"colab-df-container\">\n",
              "      <div>\n",
              "<style scoped>\n",
              "    .dataframe tbody tr th:only-of-type {\n",
              "        vertical-align: middle;\n",
              "    }\n",
              "\n",
              "    .dataframe tbody tr th {\n",
              "        vertical-align: top;\n",
              "    }\n",
              "\n",
              "    .dataframe thead th {\n",
              "        text-align: right;\n",
              "    }\n",
              "</style>\n",
              "<table border=\"1\" class=\"dataframe\">\n",
              "  <thead>\n",
              "    <tr style=\"text-align: right;\">\n",
              "      <th></th>\n",
              "      <th>id</th>\n",
              "      <th>keyword</th>\n",
              "      <th>location</th>\n",
              "      <th>text</th>\n",
              "      <th>target</th>\n",
              "    </tr>\n",
              "  </thead>\n",
              "  <tbody>\n",
              "    <tr>\n",
              "      <th>2644</th>\n",
              "      <td>3796</td>\n",
              "      <td>destruction</td>\n",
              "      <td>NaN</td>\n",
              "      <td>So you have a new weapon that can cause un-ima...</td>\n",
              "      <td>1</td>\n",
              "    </tr>\n",
              "    <tr>\n",
              "      <th>2227</th>\n",
              "      <td>3185</td>\n",
              "      <td>deluge</td>\n",
              "      <td>NaN</td>\n",
              "      <td>The f$&amp;amp;@ing things I do for #GISHWHES Just...</td>\n",
              "      <td>0</td>\n",
              "    </tr>\n",
              "    <tr>\n",
              "      <th>5448</th>\n",
              "      <td>7769</td>\n",
              "      <td>police</td>\n",
              "      <td>UK</td>\n",
              "      <td>DT @georgegalloway: RT @Galloway4Mayor: ÛÏThe...</td>\n",
              "      <td>1</td>\n",
              "    </tr>\n",
              "    <tr>\n",
              "      <th>132</th>\n",
              "      <td>191</td>\n",
              "      <td>aftershock</td>\n",
              "      <td>NaN</td>\n",
              "      <td>Aftershock back to school kick off was great. ...</td>\n",
              "      <td>0</td>\n",
              "    </tr>\n",
              "    <tr>\n",
              "      <th>6845</th>\n",
              "      <td>9810</td>\n",
              "      <td>trauma</td>\n",
              "      <td>Montgomery County, MD</td>\n",
              "      <td>in response to trauma Children of Addicts deve...</td>\n",
              "      <td>0</td>\n",
              "    </tr>\n",
              "    <tr>\n",
              "      <th>...</th>\n",
              "      <td>...</td>\n",
              "      <td>...</td>\n",
              "      <td>...</td>\n",
              "      <td>...</td>\n",
              "      <td>...</td>\n",
              "    </tr>\n",
              "    <tr>\n",
              "      <th>5226</th>\n",
              "      <td>7470</td>\n",
              "      <td>obliteration</td>\n",
              "      <td>Merica!</td>\n",
              "      <td>@Eganator2000 There aren't many Obliteration s...</td>\n",
              "      <td>0</td>\n",
              "    </tr>\n",
              "    <tr>\n",
              "      <th>5390</th>\n",
              "      <td>7691</td>\n",
              "      <td>panic</td>\n",
              "      <td>NaN</td>\n",
              "      <td>just had a panic attack bc I don't have enough...</td>\n",
              "      <td>0</td>\n",
              "    </tr>\n",
              "    <tr>\n",
              "      <th>860</th>\n",
              "      <td>1242</td>\n",
              "      <td>blood</td>\n",
              "      <td>NaN</td>\n",
              "      <td>Omron HEM-712C Automatic Blood Pressure Monito...</td>\n",
              "      <td>0</td>\n",
              "    </tr>\n",
              "    <tr>\n",
              "      <th>7603</th>\n",
              "      <td>10862</td>\n",
              "      <td>NaN</td>\n",
              "      <td>NaN</td>\n",
              "      <td>Officials say a quarantine is in place at an A...</td>\n",
              "      <td>1</td>\n",
              "    </tr>\n",
              "    <tr>\n",
              "      <th>7270</th>\n",
              "      <td>10409</td>\n",
              "      <td>whirlwind</td>\n",
              "      <td>Stamford &amp; Cork (&amp; Shropshire)</td>\n",
              "      <td>I moved to England five years ago today. What ...</td>\n",
              "      <td>1</td>\n",
              "    </tr>\n",
              "  </tbody>\n",
              "</table>\n",
              "<p>7613 rows × 5 columns</p>\n",
              "</div>\n",
              "      <button class=\"colab-df-convert\" onclick=\"convertToInteractive('df-a5f5a823-a91d-4736-92d4-dc8ae32aca7f')\"\n",
              "              title=\"Convert this dataframe to an interactive table.\"\n",
              "              style=\"display:none;\">\n",
              "        \n",
              "  <svg xmlns=\"http://www.w3.org/2000/svg\" height=\"24px\"viewBox=\"0 0 24 24\"\n",
              "       width=\"24px\">\n",
              "    <path d=\"M0 0h24v24H0V0z\" fill=\"none\"/>\n",
              "    <path d=\"M18.56 5.44l.94 2.06.94-2.06 2.06-.94-2.06-.94-.94-2.06-.94 2.06-2.06.94zm-11 1L8.5 8.5l.94-2.06 2.06-.94-2.06-.94L8.5 2.5l-.94 2.06-2.06.94zm10 10l.94 2.06.94-2.06 2.06-.94-2.06-.94-.94-2.06-.94 2.06-2.06.94z\"/><path d=\"M17.41 7.96l-1.37-1.37c-.4-.4-.92-.59-1.43-.59-.52 0-1.04.2-1.43.59L10.3 9.45l-7.72 7.72c-.78.78-.78 2.05 0 2.83L4 21.41c.39.39.9.59 1.41.59.51 0 1.02-.2 1.41-.59l7.78-7.78 2.81-2.81c.8-.78.8-2.07 0-2.86zM5.41 20L4 18.59l7.72-7.72 1.47 1.35L5.41 20z\"/>\n",
              "  </svg>\n",
              "      </button>\n",
              "      \n",
              "  <style>\n",
              "    .colab-df-container {\n",
              "      display:flex;\n",
              "      flex-wrap:wrap;\n",
              "      gap: 12px;\n",
              "    }\n",
              "\n",
              "    .colab-df-convert {\n",
              "      background-color: #E8F0FE;\n",
              "      border: none;\n",
              "      border-radius: 50%;\n",
              "      cursor: pointer;\n",
              "      display: none;\n",
              "      fill: #1967D2;\n",
              "      height: 32px;\n",
              "      padding: 0 0 0 0;\n",
              "      width: 32px;\n",
              "    }\n",
              "\n",
              "    .colab-df-convert:hover {\n",
              "      background-color: #E2EBFA;\n",
              "      box-shadow: 0px 1px 2px rgba(60, 64, 67, 0.3), 0px 1px 3px 1px rgba(60, 64, 67, 0.15);\n",
              "      fill: #174EA6;\n",
              "    }\n",
              "\n",
              "    [theme=dark] .colab-df-convert {\n",
              "      background-color: #3B4455;\n",
              "      fill: #D2E3FC;\n",
              "    }\n",
              "\n",
              "    [theme=dark] .colab-df-convert:hover {\n",
              "      background-color: #434B5C;\n",
              "      box-shadow: 0px 1px 3px 1px rgba(0, 0, 0, 0.15);\n",
              "      filter: drop-shadow(0px 1px 2px rgba(0, 0, 0, 0.3));\n",
              "      fill: #FFFFFF;\n",
              "    }\n",
              "  </style>\n",
              "\n",
              "      <script>\n",
              "        const buttonEl =\n",
              "          document.querySelector('#df-a5f5a823-a91d-4736-92d4-dc8ae32aca7f button.colab-df-convert');\n",
              "        buttonEl.style.display =\n",
              "          google.colab.kernel.accessAllowed ? 'block' : 'none';\n",
              "\n",
              "        async function convertToInteractive(key) {\n",
              "          const element = document.querySelector('#df-a5f5a823-a91d-4736-92d4-dc8ae32aca7f');\n",
              "          const dataTable =\n",
              "            await google.colab.kernel.invokeFunction('convertToInteractive',\n",
              "                                                     [key], {});\n",
              "          if (!dataTable) return;\n",
              "\n",
              "          const docLinkHtml = 'Like what you see? Visit the ' +\n",
              "            '<a target=\"_blank\" href=https://colab.research.google.com/notebooks/data_table.ipynb>data table notebook</a>'\n",
              "            + ' to learn more about interactive tables.';\n",
              "          element.innerHTML = '';\n",
              "          dataTable['output_type'] = 'display_data';\n",
              "          await google.colab.output.renderOutput(dataTable, element);\n",
              "          const docLink = document.createElement('div');\n",
              "          docLink.innerHTML = docLinkHtml;\n",
              "          element.appendChild(docLink);\n",
              "        }\n",
              "      </script>\n",
              "    </div>\n",
              "  </div>\n",
              "  "
            ]
          },
          "metadata": {},
          "execution_count": 6
        }
      ]
    },
    {
      "cell_type": "code",
      "source": [
        "train_df.target.value_counts()"
      ],
      "metadata": {
        "colab": {
          "base_uri": "https://localhost:8080/"
        },
        "id": "iNuniaMH-1So",
        "outputId": "beba922c-e475-4643-deac-4131bd69b8e2"
      },
      "execution_count": null,
      "outputs": [
        {
          "output_type": "execute_result",
          "data": {
            "text/plain": [
              "0    4342\n",
              "1    3271\n",
              "Name: target, dtype: int64"
            ]
          },
          "metadata": {},
          "execution_count": 7
        }
      ]
    },
    {
      "cell_type": "code",
      "source": [
        "import random\n",
        "random_index = random.randint(0, len(train_df)-5)\n",
        "\n",
        "for row in train_df_shuffled[['text', 'target']][random_index:random_index+5].itertuples():\n",
        "  _, text, target = row\n",
        "  print(f\"Target: {target}\", '(real disaster)' if target > 0 else '(not real disaster)')\n",
        "  print(f\"Text:\\n{text}\\n\")\n",
        "  print(\"---\\n\")"
      ],
      "metadata": {
        "colab": {
          "base_uri": "https://localhost:8080/"
        },
        "id": "UU9ZQCbm-6r3",
        "outputId": "0ff80f6b-1149-4a5b-f197-be31e529873e"
      },
      "execution_count": null,
      "outputs": [
        {
          "output_type": "stream",
          "name": "stdout",
          "text": [
            "Target: 1 (real disaster)\n",
            "Text:\n",
            "...//..// whao.. 12000 Nigerian refugees repatriated from Cameroon http://t.co/HuhWPmryWz\n",
            "\n",
            "---\n",
            "\n",
            "Target: 0 (not real disaster)\n",
            "Text:\n",
            "master0fsloths has a crush: http://t.co/SZX6v0bbjF\n",
            "\n",
            "---\n",
            "\n",
            "Target: 1 (real disaster)\n",
            "Text:\n",
            "Aircraft debris confirmed to be from MH370 - Nation | The Star Online http://t.co/heS0bPU60Y\n",
            "\n",
            "---\n",
            "\n",
            "Target: 0 (not real disaster)\n",
            "Text:\n",
            "Wtf? Her biological father is holding her hostage and her adoptive parents haven't even looked for her. Criminal minds got me fucked up.\n",
            "\n",
            "---\n",
            "\n",
            "Target: 0 (not real disaster)\n",
            "Text:\n",
            "'I tried to save Mido Macia': One of the murder accused has testified he tried to save Mido MaciaÛªs life. http://t.co/vxVfAEEY0q\n",
            "\n",
            "---\n",
            "\n"
          ]
        }
      ]
    },
    {
      "cell_type": "code",
      "source": [
        "from sklearn.model_selection import train_test_split"
      ],
      "metadata": {
        "id": "4CsQCTEbBKQt"
      },
      "execution_count": null,
      "outputs": []
    },
    {
      "cell_type": "code",
      "source": [
        "train_sentences, val_sentences, train_labels, val_labels = train_test_split(train_df_shuffled['text'].to_numpy(),\n",
        "                                                                            train_df_shuffled['target'].to_numpy(),\n",
        "                                                                            test_size=0.1,\n",
        "                                                                            random_state=42)"
      ],
      "metadata": {
        "id": "h__UMpmdDguf"
      },
      "execution_count": null,
      "outputs": []
    },
    {
      "cell_type": "code",
      "source": [
        "len(train_sentences), len(val_sentences), len(train_labels), len(val_labels)"
      ],
      "metadata": {
        "colab": {
          "base_uri": "https://localhost:8080/"
        },
        "id": "9NYxc8pIESL8",
        "outputId": "3dd2a03d-cd8b-4faa-a6f9-70351b07610a"
      },
      "execution_count": null,
      "outputs": [
        {
          "output_type": "execute_result",
          "data": {
            "text/plain": [
              "(6851, 762, 6851, 762)"
            ]
          },
          "metadata": {},
          "execution_count": 11
        }
      ]
    },
    {
      "cell_type": "code",
      "source": [
        "train_sentences"
      ],
      "metadata": {
        "colab": {
          "base_uri": "https://localhost:8080/"
        },
        "id": "iZB8JrMfEa2l",
        "outputId": "92f3e0e0-ef5a-49b4-be7c-3611880b4796"
      },
      "execution_count": null,
      "outputs": [
        {
          "output_type": "execute_result",
          "data": {
            "text/plain": [
              "array(['@mogacola @zamtriossu i screamed after hitting tweet',\n",
              "       'Imagine getting flattened by Kurt Zouma',\n",
              "       '@Gurmeetramrahim #MSGDoing111WelfareWorks Green S welfare force ke appx 65000 members har time disaster victim ki help ke liye tyar hai....',\n",
              "       ...,\n",
              "       'Near them on the sand half sunk a shattered visage lies... http://t.co/0kCCG1BT06',\n",
              "       \"kesabaran membuahkan hasil indah pada saat tepat! life isn't about waiting for the storm to pass it's about learning to dance in the rain.\",\n",
              "       \"@ScottDPierce @billharris_tv @HarrisGle @Beezersun I'm forfeiting this years fantasy football pool out of fear I may win n get my ass kicked\"],\n",
              "      dtype=object)"
            ]
          },
          "metadata": {},
          "execution_count": 12
        }
      ]
    },
    {
      "cell_type": "code",
      "source": [
        "train_labels"
      ],
      "metadata": {
        "colab": {
          "base_uri": "https://localhost:8080/"
        },
        "id": "UCeatSkYEgfG",
        "outputId": "b65ec947-ab1d-46be-c750-829ce4863128"
      },
      "execution_count": null,
      "outputs": [
        {
          "output_type": "execute_result",
          "data": {
            "text/plain": [
              "array([0, 0, 1, ..., 1, 1, 0])"
            ]
          },
          "metadata": {},
          "execution_count": 13
        }
      ]
    },
    {
      "cell_type": "markdown",
      "source": [
        "We shall convert our sentences into numbers via tokenization"
      ],
      "metadata": {
        "id": "R4dGICAcuAep"
      }
    },
    {
      "cell_type": "code",
      "source": [
        "from tensorflow.keras.layers.experimental.preprocessing import TextVectorization"
      ],
      "metadata": {
        "id": "NVQZB5PsEive"
      },
      "execution_count": null,
      "outputs": []
    },
    {
      "cell_type": "code",
      "source": [
        "# example of default textvectorization parameters\n",
        "\n",
        "text_vectorization = TextVectorization(max_tokens=None, # how many words in the vocabulary (automatically add <OOV>)\n",
        "                                        standardize='lower_and_strip_punctuation',\n",
        "                                        split='whitespace',\n",
        "                                        ngrams=None, # create groups of n-words\n",
        "                                        output_mode='int',\n",
        "                                        output_sequence_length=None, # how long you want your sequences to be\n",
        "                                        # pad_to_max_tokens=True # only used when max_tokens is being set\n",
        "                                       )\n"
      ],
      "metadata": {
        "id": "DHGjNqiZt2IZ"
      },
      "execution_count": null,
      "outputs": []
    },
    {
      "cell_type": "code",
      "source": [
        "len(train_sentences[0].split())"
      ],
      "metadata": {
        "colab": {
          "base_uri": "https://localhost:8080/"
        },
        "id": "NpyP13NVxvDn",
        "outputId": "5cd9342f-bcb4-47a7-abb9-c7a76fbadf43"
      },
      "execution_count": null,
      "outputs": [
        {
          "output_type": "execute_result",
          "data": {
            "text/plain": [
              "7"
            ]
          },
          "metadata": {},
          "execution_count": 16
        }
      ]
    },
    {
      "cell_type": "code",
      "source": [
        "# find the average number of tokens (words) in the training tweets\n",
        "\n",
        "round(sum([len(i.split()) for i in train_sentences])/len(train_sentences))"
      ],
      "metadata": {
        "colab": {
          "base_uri": "https://localhost:8080/"
        },
        "id": "6x1kiM4_v2fs",
        "outputId": "aa80e0a6-2532-48a3-add8-85f3e4839291"
      },
      "execution_count": null,
      "outputs": [
        {
          "output_type": "execute_result",
          "data": {
            "text/plain": [
              "15"
            ]
          },
          "metadata": {},
          "execution_count": 17
        }
      ]
    },
    {
      "cell_type": "code",
      "source": [
        "# setup text vectorization variables\n",
        "\n",
        "max_vocab_length = 10000 # max number of words to have in our vocabulary\n",
        "max_length = 15 # max length our sequences will be (e.g how many words from a tweet does a model see?)\n",
        "\n",
        "text_vectorizer = TextVectorization(max_tokens=max_vocab_length,\n",
        "                                    output_mode='int',\n",
        "                                    output_sequence_length=max_length)"
      ],
      "metadata": {
        "id": "m0uqgTVxx9km"
      },
      "execution_count": null,
      "outputs": []
    },
    {
      "cell_type": "code",
      "source": [
        "# Fit the text veectorizer to training text\n",
        "\n",
        "text_vectorizer.adapt(train_sentences)"
      ],
      "metadata": {
        "id": "2WmH11zwysgn"
      },
      "execution_count": null,
      "outputs": []
    },
    {
      "cell_type": "code",
      "source": [
        "sample_sentence = \"There's a flood in my street\"\n",
        "text_vectorizer([sample_sentence])"
      ],
      "metadata": {
        "colab": {
          "base_uri": "https://localhost:8080/"
        },
        "id": "-LkaiQMYzPyV",
        "outputId": "d5e42187-4477-4d93-de66-33f9118c1347"
      },
      "execution_count": null,
      "outputs": [
        {
          "output_type": "execute_result",
          "data": {
            "text/plain": [
              "<tf.Tensor: shape=(1, 15), dtype=int64, numpy=\n",
              "array([[264,   3, 232,   4,  13, 698,   0,   0,   0,   0,   0,   0,   0,\n",
              "          0,   0]])>"
            ]
          },
          "metadata": {},
          "execution_count": 20
        }
      ]
    },
    {
      "cell_type": "code",
      "source": [
        "# Choose a random sentence from training data and tokenize it\n",
        "\n",
        "random_sentence = random.choice(train_sentences)\n",
        "print(f\"Original Text:\\n {random_sentence}\\\n",
        "        \\n\\n Vectorized sentence:\")\n",
        "\n",
        "text_vectorizer([random_sentence])"
      ],
      "metadata": {
        "colab": {
          "base_uri": "https://localhost:8080/"
        },
        "id": "FbL0z3J8zeSO",
        "outputId": "af681c3d-b783-46f0-d200-b850a2acff88"
      },
      "execution_count": null,
      "outputs": [
        {
          "output_type": "stream",
          "name": "stdout",
          "text": [
            "Original Text:\n",
            " @HearItFromPa Also pls help us w/ our campaign to warn the public about the hazardous keratin treatments. The Brazilian Blowout COPYCATS.        \n",
            "\n",
            " Vectorized sentence:\n"
          ]
        },
        {
          "output_type": "execute_result",
          "data": {
            "text/plain": [
              "<tf.Tensor: shape=(1, 15), dtype=int64, numpy=\n",
              "array([[   1,  336, 2796,  148,   69,  308,  103, 2531,    5, 3263,    2,\n",
              "         926,   54,    2,  511]])>"
            ]
          },
          "metadata": {},
          "execution_count": 21
        }
      ]
    },
    {
      "cell_type": "code",
      "source": [
        "# get unique words in the vocabulary\n",
        "\n",
        "words_in_vocab = text_vectorizer.get_vocabulary()\n",
        "top_5_words = words_in_vocab[:5]\n",
        "bottom_5_words = words_in_vocab[-5:]\n",
        "print(f\"Number of words in vocab: {len(words_in_vocab)}\")\n",
        "print(f\"5 most common words in vocab: {top_5_words}\")\n",
        "print(f\"5 least common words in vocab: {bottom_5_words}\")"
      ],
      "metadata": {
        "colab": {
          "base_uri": "https://localhost:8080/"
        },
        "id": "RaOh2Crt0YrG",
        "outputId": "fb9935fb-e4d7-4303-f5ec-54dce4920dbb"
      },
      "execution_count": null,
      "outputs": [
        {
          "output_type": "stream",
          "name": "stdout",
          "text": [
            "Number of words in vocab: 10000\n",
            "5 most common words in vocab: ['', '[UNK]', 'the', 'a', 'in']\n",
            "5 least common words in vocab: ['pages', 'paeds', 'pads', 'padres', 'paddytomlinson1']\n"
          ]
        }
      ]
    },
    {
      "cell_type": "markdown",
      "source": [
        "Now we will create embedding to turn tokenized text into embedding vectors.\n",
        "\n",
        "We will embed using embedding layer\n",
        "Important parameters:\n",
        "1. input_dim = the size of our vocabulary\n",
        "2. output_dim = the size of the output embedding vector, (e.g a value of 100 means that each token gets represented by a vector of length 100)\n",
        "3. input_length = length of the sequences being passed to the embedding layer"
      ],
      "metadata": {
        "id": "VK5i5y1Y26OR"
      }
    },
    {
      "cell_type": "code",
      "source": [
        "from tensorflow.keras import layers\n",
        "\n",
        "embedding = layers.Embedding(input_dim=max_vocab_length,\n",
        "                             output_dim=128, # set to a number divisible by 8\n",
        "                             input_length=max_length)\n",
        "\n",
        "embedding"
      ],
      "metadata": {
        "colab": {
          "base_uri": "https://localhost:8080/"
        },
        "id": "eylhFBCe3BA7",
        "outputId": "d8ae35b0-de47-4b23-eef6-42e1a4ab5844"
      },
      "execution_count": null,
      "outputs": [
        {
          "output_type": "execute_result",
          "data": {
            "text/plain": [
              "<keras.layers.embeddings.Embedding at 0x7f974010c750>"
            ]
          },
          "metadata": {},
          "execution_count": 23
        }
      ]
    },
    {
      "cell_type": "code",
      "source": [
        "random_sentence = random.choice(train_sentences)\n",
        "print(f\"Original text:\\n {random_sentence}\\\n",
        "        \\n\\nEmbedded version:\")\n",
        "\n",
        "# Embed the random sentence ( turn it into dense vectors of fixed size)\n",
        "\n",
        "sample_embed = embedding(text_vectorizer([random_sentence]))\n",
        "sample_embed"
      ],
      "metadata": {
        "colab": {
          "base_uri": "https://localhost:8080/"
        },
        "id": "Wd6xUWs63-q1",
        "outputId": "06cd0243-b0d2-405a-a2b8-69c17e056e90"
      },
      "execution_count": null,
      "outputs": [
        {
          "output_type": "stream",
          "name": "stdout",
          "text": [
            "Original text:\n",
            " A young heavyweight rapping off of detonate I been a leader not a lemon better get it straight ??        \n",
            "\n",
            "Embedded version:\n"
          ]
        },
        {
          "output_type": "execute_result",
          "data": {
            "text/plain": [
              "<tf.Tensor: shape=(1, 15, 128), dtype=float32, numpy=\n",
              "array([[[ 0.01182454,  0.0487738 , -0.00132646, ..., -0.04095899,\n",
              "          0.03358522, -0.02007678],\n",
              "        [ 0.0400529 , -0.0253121 , -0.03710928, ..., -0.00476837,\n",
              "         -0.00136345, -0.04718352],\n",
              "        [ 0.02646002, -0.02894971, -0.01822377, ..., -0.02618322,\n",
              "         -0.02741423,  0.04813552],\n",
              "        ...,\n",
              "        [ 0.01182454,  0.0487738 , -0.00132646, ..., -0.04095899,\n",
              "          0.03358522, -0.02007678],\n",
              "        [-0.03628442,  0.01188965,  0.04164651, ..., -0.02691101,\n",
              "          0.01615917,  0.0413182 ],\n",
              "        [-0.02273284, -0.01041701, -0.04036831, ..., -0.01431387,\n",
              "         -0.0261867 ,  0.04682029]]], dtype=float32)>"
            ]
          },
          "metadata": {},
          "execution_count": 24
        }
      ]
    },
    {
      "cell_type": "code",
      "source": [
        "# checkout a single token embedding (this is for the first word of the sentence)\n",
        "\n",
        "sample_embed[0][0], sample_embed[0][0].shape, random_sentence[0]"
      ],
      "metadata": {
        "colab": {
          "base_uri": "https://localhost:8080/"
        },
        "id": "B_t4at0h4hj9",
        "outputId": "8b8d9b48-8ece-4c68-f434-4a2db59a510e"
      },
      "execution_count": null,
      "outputs": [
        {
          "output_type": "execute_result",
          "data": {
            "text/plain": [
              "(<tf.Tensor: shape=(128,), dtype=float32, numpy=\n",
              " array([ 1.1824537e-02,  4.8773799e-02, -1.3264641e-03, -4.4280935e-02,\n",
              "         3.9890613e-02, -2.7232682e-02,  1.5998650e-02, -2.0722127e-02,\n",
              "        -4.3734789e-02, -3.9288640e-02,  3.3824373e-02,  2.5081087e-02,\n",
              "         1.1285543e-03,  2.4776570e-03, -2.6314009e-02, -4.1583799e-02,\n",
              "        -2.0868767e-02, -2.2269381e-02,  1.6310874e-02,  3.1367604e-02,\n",
              "        -3.5856254e-03,  7.3812492e-03, -2.2937680e-02, -9.6552446e-04,\n",
              "         4.0967587e-02, -2.6207078e-02, -4.9192429e-02,  6.1642043e-03,\n",
              "         2.7207542e-02, -2.3447812e-02,  4.8634280e-02,  3.8328219e-02,\n",
              "         4.4506598e-02,  4.8650157e-02, -3.5649527e-02,  1.2495294e-03,\n",
              "        -3.1780183e-02, -3.3773325e-02,  2.0322327e-02,  1.5953038e-02,\n",
              "         2.2595335e-02,  1.1663068e-02,  3.0117121e-02,  4.4891983e-04,\n",
              "         1.0635115e-02, -3.8845383e-02, -1.3811886e-02,  3.7456524e-02,\n",
              "        -8.5330382e-03, -3.4750104e-03, -8.3262697e-03,  1.8440392e-02,\n",
              "         2.1107484e-02,  4.0017638e-02, -2.0280613e-02, -1.9674301e-02,\n",
              "        -2.3473239e-02, -4.6948172e-02,  1.6298141e-02, -2.2922074e-02,\n",
              "         2.1455888e-02,  5.0636418e-03, -4.0590249e-02,  1.0788664e-03,\n",
              "        -3.7829090e-02, -2.0952880e-02, -4.8779324e-04,  4.3661568e-02,\n",
              "        -1.6524516e-02, -1.1662729e-03,  3.8866494e-02, -3.8034905e-02,\n",
              "        -1.9371761e-02, -3.1570509e-02,  1.3992999e-02,  7.1249902e-05,\n",
              "         4.8498880e-02,  1.7701093e-02, -3.1780757e-02, -2.3277318e-02,\n",
              "        -2.4152135e-02, -1.7426025e-02, -1.6753413e-02,  6.2110424e-03,\n",
              "        -6.9660060e-03, -1.9287026e-02,  2.9781941e-02,  2.9084351e-02,\n",
              "         4.9770959e-03, -2.5178408e-02,  9.2682615e-03,  1.6798448e-02,\n",
              "        -2.1059943e-02,  4.1888621e-02,  2.3253430e-02,  1.5023481e-02,\n",
              "         3.1930916e-03, -3.0934168e-02,  2.8893482e-02,  4.4926357e-02,\n",
              "         8.5865147e-03,  5.1847808e-03,  4.7321543e-03,  3.2508027e-02,\n",
              "        -4.5865178e-03,  3.1653378e-02,  3.5848331e-02,  3.6897410e-02,\n",
              "        -4.7707498e-02,  1.3377320e-02,  4.4898693e-02,  3.0470792e-02,\n",
              "        -2.1374190e-02, -7.2444454e-03, -3.8162291e-02, -2.4643337e-02,\n",
              "        -2.6399208e-02,  4.3532576e-02,  4.5913327e-02,  4.7233965e-02,\n",
              "        -4.8952758e-02,  1.6765866e-02, -4.8390366e-02, -2.5144244e-02,\n",
              "        -2.2207607e-02, -4.0958989e-02,  3.3585224e-02, -2.0076776e-02],\n",
              "       dtype=float32)>, TensorShape([128]), 'A')"
            ]
          },
          "metadata": {},
          "execution_count": 25
        }
      ]
    },
    {
      "cell_type": "code",
      "source": [
        "# Baseline model (naive bayes with tf-idf)\n",
        "from sklearn.feature_extraction.text import TfidfVectorizer\n",
        "from sklearn.naive_bayes import MultinomialNB\n",
        "from sklearn.pipeline import Pipeline\n",
        "\n",
        "model_0 = Pipeline([\n",
        "                    ('tfidf', TfidfVectorizer()), # convert words into numbers using tfidf\n",
        "                    ('clf', MultinomialNB()) # model the text\n",
        "])\n",
        "\n",
        "model_0.fit(train_sentences, train_labels)\n"
      ],
      "metadata": {
        "id": "YnHp4KoP5QW8",
        "colab": {
          "base_uri": "https://localhost:8080/"
        },
        "outputId": "b30f0ba4-568f-4142-c3f8-074f95e91977"
      },
      "execution_count": null,
      "outputs": [
        {
          "output_type": "execute_result",
          "data": {
            "text/plain": [
              "Pipeline(steps=[('tfidf', TfidfVectorizer()), ('clf', MultinomialNB())])"
            ]
          },
          "metadata": {},
          "execution_count": 26
        }
      ]
    },
    {
      "cell_type": "code",
      "source": [
        "# Evaluate baseline model\n",
        "\n",
        "baseline_score = model_0.score(val_sentences, val_labels)\n",
        "print(f\"Our baseline model achieved an accuracy score of: {baseline_score*100:.2f}%\")"
      ],
      "metadata": {
        "colab": {
          "base_uri": "https://localhost:8080/"
        },
        "id": "k0bRqEp_aKnW",
        "outputId": "6b7d6eb3-fe87-421f-998a-bb434f6ab4b5"
      },
      "execution_count": null,
      "outputs": [
        {
          "output_type": "stream",
          "name": "stdout",
          "text": [
            "Our baseline model achieved an accuracy score of: 79.27%\n"
          ]
        }
      ]
    },
    {
      "cell_type": "code",
      "source": [
        "baseline_preds = model_0.predict(val_sentences)\n",
        "baseline_preds"
      ],
      "metadata": {
        "colab": {
          "base_uri": "https://localhost:8080/"
        },
        "id": "02Xcrw11bX6y",
        "outputId": "4a6d82b5-16b5-4b49-fbd4-314b3852a962"
      },
      "execution_count": null,
      "outputs": [
        {
          "output_type": "execute_result",
          "data": {
            "text/plain": [
              "array([1, 1, 1, 0, 0, 1, 1, 1, 1, 0, 0, 1, 0, 0, 0, 0, 0, 0, 0, 1, 1, 0,\n",
              "       0, 0, 1, 1, 0, 0, 0, 0, 1, 0, 0, 0, 0, 0, 1, 0, 0, 1, 0, 0, 0, 0,\n",
              "       0, 1, 0, 1, 0, 1, 0, 1, 0, 0, 0, 0, 0, 1, 0, 0, 0, 1, 1, 0, 1, 1,\n",
              "       0, 0, 0, 0, 0, 0, 0, 0, 0, 1, 0, 0, 0, 1, 1, 0, 1, 0, 0, 0, 0, 0,\n",
              "       1, 1, 1, 0, 0, 0, 1, 1, 1, 1, 1, 1, 1, 0, 0, 1, 1, 0, 0, 1, 0, 0,\n",
              "       1, 0, 0, 0, 0, 0, 0, 1, 1, 0, 1, 0, 0, 1, 0, 0, 0, 0, 0, 1, 0, 1,\n",
              "       1, 1, 1, 0, 1, 0, 0, 0, 1, 0, 0, 0, 0, 0, 0, 0, 0, 1, 1, 0, 0, 0,\n",
              "       0, 1, 0, 0, 1, 0, 1, 0, 0, 1, 0, 0, 1, 0, 1, 0, 1, 0, 1, 0, 1, 0,\n",
              "       0, 0, 0, 1, 0, 1, 1, 1, 1, 0, 0, 1, 0, 0, 0, 1, 0, 0, 0, 0, 0, 0,\n",
              "       1, 0, 0, 1, 1, 0, 0, 1, 0, 1, 1, 1, 0, 1, 0, 0, 0, 0, 1, 1, 0, 0,\n",
              "       1, 0, 0, 0, 1, 0, 0, 1, 1, 1, 0, 0, 1, 0, 1, 0, 0, 0, 0, 0, 0, 0,\n",
              "       1, 1, 0, 0, 1, 0, 0, 0, 0, 0, 0, 0, 1, 0, 1, 1, 0, 0, 0, 0, 0, 1,\n",
              "       1, 0, 1, 0, 0, 0, 0, 0, 1, 0, 0, 1, 0, 0, 1, 0, 0, 0, 1, 0, 1, 0,\n",
              "       1, 0, 0, 0, 0, 0, 0, 0, 0, 1, 0, 1, 0, 0, 0, 0, 0, 1, 0, 0, 0, 0,\n",
              "       0, 0, 0, 1, 0, 0, 1, 0, 1, 0, 0, 0, 0, 0, 1, 0, 1, 0, 0, 1, 0, 1,\n",
              "       0, 0, 1, 0, 0, 1, 0, 0, 0, 0, 0, 0, 1, 1, 0, 0, 0, 0, 0, 0, 0, 0,\n",
              "       0, 0, 0, 0, 1, 1, 1, 0, 0, 0, 0, 0, 0, 0, 0, 0, 0, 0, 0, 0, 0, 0,\n",
              "       0, 0, 0, 0, 0, 1, 1, 1, 0, 0, 0, 1, 1, 0, 1, 0, 0, 0, 0, 0, 0, 1,\n",
              "       0, 0, 0, 0, 1, 0, 1, 1, 0, 1, 0, 0, 0, 0, 1, 0, 0, 0, 1, 1, 0, 1,\n",
              "       0, 0, 1, 1, 1, 1, 0, 0, 0, 1, 0, 0, 0, 0, 0, 0, 0, 0, 0, 0, 1, 1,\n",
              "       0, 1, 0, 0, 0, 1, 0, 0, 0, 0, 0, 1, 1, 1, 1, 1, 0, 0, 1, 1, 1, 0,\n",
              "       0, 0, 1, 1, 0, 0, 1, 0, 0, 1, 0, 0, 0, 0, 1, 1, 0, 0, 0, 0, 0, 1,\n",
              "       0, 1, 0, 0, 0, 0, 0, 1, 0, 0, 0, 0, 0, 1, 0, 0, 1, 0, 0, 1, 0, 0,\n",
              "       0, 1, 0, 0, 0, 0, 0, 0, 1, 0, 1, 1, 1, 1, 0, 0, 1, 1, 0, 0, 0, 0,\n",
              "       0, 1, 1, 1, 0, 0, 1, 0, 1, 0, 0, 0, 0, 0, 0, 0, 0, 0, 0, 1, 1, 0,\n",
              "       0, 1, 0, 1, 0, 1, 0, 0, 0, 0, 0, 0, 1, 1, 1, 0, 1, 1, 0, 0, 1, 1,\n",
              "       1, 0, 0, 0, 0, 0, 1, 0, 0, 0, 1, 0, 0, 1, 0, 0, 0, 0, 0, 0, 0, 0,\n",
              "       0, 0, 0, 1, 1, 0, 0, 0, 1, 1, 1, 0, 1, 0, 0, 1, 0, 1, 0, 0, 1, 0,\n",
              "       0, 1, 0, 1, 1, 0, 1, 0, 0, 0, 0, 0, 0, 0, 0, 1, 1, 1, 1, 0, 0, 0,\n",
              "       0, 0, 1, 0, 1, 0, 0, 0, 0, 0, 0, 0, 1, 0, 0, 0, 0, 0, 0, 1, 0, 0,\n",
              "       0, 0, 1, 0, 0, 0, 0, 0, 1, 1, 0, 0, 0, 0, 1, 0, 1, 1, 0, 0, 0, 0,\n",
              "       0, 0, 0, 1, 0, 0, 0, 0, 1, 1, 1, 0, 1, 1, 1, 1, 1, 0, 0, 0, 1, 0,\n",
              "       0, 0, 0, 0, 0, 0, 0, 0, 1, 0, 0, 0, 0, 0, 1, 0, 0, 0, 0, 1, 0, 0,\n",
              "       0, 0, 1, 0, 0, 1, 1, 1, 1, 1, 0, 0, 0, 1, 1, 0, 0, 1, 0, 0, 0, 0,\n",
              "       0, 0, 0, 0, 1, 0, 1, 1, 0, 0, 0, 1, 0, 0])"
            ]
          },
          "metadata": {},
          "execution_count": 28
        }
      ]
    },
    {
      "cell_type": "code",
      "source": [
        "# Build a function to track our models results and evaluating them on accuracy, precision, recall, f1-score\n",
        "\n",
        "from sklearn.metrics import accuracy_score, precision_recall_fscore_support\n",
        "\n",
        "def calculate_results(y_true, y_pred):\n",
        "\n",
        "  # accuracy\n",
        "  model_accuracy = accuracy_score(y_true, y_pred) * 100\n",
        "\n",
        "  # precision, recall and f1-score using weighted average\n",
        "  model_precision , model_recall, model_f1, _ = precision_recall_fscore_support(y_true, y_pred, average='weighted')\n",
        "  model_results = {'accuracy': model_accuracy,\n",
        "                   'precision': model_precision,\n",
        "                   'recall': model_recall,\n",
        "                   'f1': model_f1}\n",
        "\n",
        "  return model_results"
      ],
      "metadata": {
        "id": "VaYrK77Bbtai"
      },
      "execution_count": null,
      "outputs": []
    },
    {
      "cell_type": "code",
      "source": [
        "baseline_results = calculate_results(val_labels, baseline_preds)\n",
        "baseline_results"
      ],
      "metadata": {
        "colab": {
          "base_uri": "https://localhost:8080/"
        },
        "id": "PV0ZhT9hdrdK",
        "outputId": "b23aa870-7312-4296-8569-043bc9541161"
      },
      "execution_count": null,
      "outputs": [
        {
          "output_type": "execute_result",
          "data": {
            "text/plain": [
              "{'accuracy': 79.26509186351706,\n",
              " 'f1': 0.7862189758049549,\n",
              " 'precision': 0.8111390004213173,\n",
              " 'recall': 0.7926509186351706}"
            ]
          },
          "metadata": {},
          "execution_count": 30
        }
      ]
    },
    {
      "cell_type": "markdown",
      "source": [
        "\n",
        "Now we shall proceed to model_1: Feed forward neural network (dense model)"
      ],
      "metadata": {
        "id": "LVPvbOqjeUGW"
      }
    },
    {
      "cell_type": "code",
      "source": [
        "# Create a tensorboard callback\n",
        "\n",
        "SAVE_DIR = 'model_logs'"
      ],
      "metadata": {
        "id": "ySvjzEvwfn-5"
      },
      "execution_count": null,
      "outputs": []
    },
    {
      "cell_type": "code",
      "source": [
        "from tensorflow.keras import layers\n",
        "inputs = layers.Input(shape=(1,), dtype=tf.string) # inputs are 1 dimensional string\n",
        "x = text_vectorizer(inputs) # turn the input text into numbers\n",
        "x = embedding(x) # create embedding of inputs\n",
        "x = layers.GlobalAveragePooling1D()(x) # condense the feature vector for each token to one vector\n",
        "outputs = layers.Dense(1, activation='sigmoid')(x)\n",
        "model_1 = tf.keras.Model(inputs, outputs, name='model_1_dense')"
      ],
      "metadata": {
        "id": "c8gXsLkrgEqA"
      },
      "execution_count": null,
      "outputs": []
    },
    {
      "cell_type": "code",
      "source": [
        "model_1.summary()"
      ],
      "metadata": {
        "colab": {
          "base_uri": "https://localhost:8080/"
        },
        "id": "6XJc_cpWgxIf",
        "outputId": "b1d60bb5-09ec-4d0a-ce74-598e7959cbd9"
      },
      "execution_count": null,
      "outputs": [
        {
          "output_type": "stream",
          "name": "stdout",
          "text": [
            "Model: \"model_1_dense\"\n",
            "_________________________________________________________________\n",
            " Layer (type)                Output Shape              Param #   \n",
            "=================================================================\n",
            " input_1 (InputLayer)        [(None, 1)]               0         \n",
            "                                                                 \n",
            " text_vectorization_1 (TextV  (None, 15)               0         \n",
            " ectorization)                                                   \n",
            "                                                                 \n",
            " embedding (Embedding)       (None, 15, 128)           1280000   \n",
            "                                                                 \n",
            " global_average_pooling1d (G  (None, 128)              0         \n",
            " lobalAveragePooling1D)                                          \n",
            "                                                                 \n",
            " dense (Dense)               (None, 1)                 129       \n",
            "                                                                 \n",
            "=================================================================\n",
            "Total params: 1,280,129\n",
            "Trainable params: 1,280,129\n",
            "Non-trainable params: 0\n",
            "_________________________________________________________________\n"
          ]
        }
      ]
    },
    {
      "cell_type": "code",
      "source": [
        "model_1.compile(loss='binary_crossentropy',\n",
        "                optimizer=tf.keras.optimizers.Adam(),\n",
        "                metrics=['accuracy'])"
      ],
      "metadata": {
        "id": "8bUtmrMwg16o"
      },
      "execution_count": null,
      "outputs": []
    },
    {
      "cell_type": "code",
      "source": [
        "model_1_history = model_1.fit(x=train_sentences,\n",
        "                              y=train_labels,\n",
        "                              epochs=5,\n",
        "                              validation_data=(val_sentences, val_labels),\n",
        "                              callbacks=[create_tensorboard_callback(dir_name=SAVE_DIR,\n",
        "                                                                     experiment_name='model_1_dense')])"
      ],
      "metadata": {
        "colab": {
          "base_uri": "https://localhost:8080/"
        },
        "id": "vRiEP6XfhOzY",
        "outputId": "53e04bec-a105-4542-c47b-739d0ab0553f"
      },
      "execution_count": null,
      "outputs": [
        {
          "output_type": "stream",
          "name": "stdout",
          "text": [
            "Saving TensorBoard log files to: model_logs/model_1_dense/20220621-232038\n",
            "Epoch 1/5\n",
            "215/215 [==============================] - 9s 10ms/step - loss: 0.6126 - accuracy: 0.6916 - val_loss: 0.5363 - val_accuracy: 0.7612\n",
            "Epoch 2/5\n",
            "215/215 [==============================] - 2s 8ms/step - loss: 0.4418 - accuracy: 0.8181 - val_loss: 0.4686 - val_accuracy: 0.7848\n",
            "Epoch 3/5\n",
            "215/215 [==============================] - 1s 6ms/step - loss: 0.3466 - accuracy: 0.8621 - val_loss: 0.4590 - val_accuracy: 0.7887\n",
            "Epoch 4/5\n",
            "215/215 [==============================] - 1s 7ms/step - loss: 0.2837 - accuracy: 0.8905 - val_loss: 0.4679 - val_accuracy: 0.7887\n",
            "Epoch 5/5\n",
            "215/215 [==============================] - 2s 8ms/step - loss: 0.2372 - accuracy: 0.9117 - val_loss: 0.4798 - val_accuracy: 0.7848\n"
          ]
        }
      ]
    },
    {
      "cell_type": "code",
      "source": [
        "model_1.evaluate(val_sentences, val_labels)"
      ],
      "metadata": {
        "colab": {
          "base_uri": "https://localhost:8080/"
        },
        "id": "ZiA4__7EhnRv",
        "outputId": "972edf61-1c71-4e01-927b-4f3d5c319419"
      },
      "execution_count": null,
      "outputs": [
        {
          "output_type": "stream",
          "name": "stdout",
          "text": [
            "24/24 [==============================] - 0s 3ms/step - loss: 0.4798 - accuracy: 0.7848\n"
          ]
        },
        {
          "output_type": "execute_result",
          "data": {
            "text/plain": [
              "[0.47983670234680176, 0.7847769260406494]"
            ]
          },
          "metadata": {},
          "execution_count": 36
        }
      ]
    },
    {
      "cell_type": "code",
      "source": [
        "model_1_pred_probs = model_1.predict(val_sentences)\n",
        "model_1_pred_probs.shape"
      ],
      "metadata": {
        "colab": {
          "base_uri": "https://localhost:8080/"
        },
        "id": "CkuaN4yai3hI",
        "outputId": "d71a08a0-d1fb-4951-c727-96f97cda3af1"
      },
      "execution_count": null,
      "outputs": [
        {
          "output_type": "execute_result",
          "data": {
            "text/plain": [
              "(762, 1)"
            ]
          },
          "metadata": {},
          "execution_count": 37
        }
      ]
    },
    {
      "cell_type": "code",
      "source": [
        "# Convert prediction probability into labels\n",
        "\n",
        "model_1_pred = tf.squeeze(tf.round(model_1_pred_probs))\n",
        "model_1_pred"
      ],
      "metadata": {
        "colab": {
          "base_uri": "https://localhost:8080/"
        },
        "id": "yz_aX__ki_lo",
        "outputId": "8f536e11-26c6-4d22-d0ff-8c8180c881e8"
      },
      "execution_count": null,
      "outputs": [
        {
          "output_type": "execute_result",
          "data": {
            "text/plain": [
              "<tf.Tensor: shape=(762,), dtype=float32, numpy=\n",
              "array([0., 1., 1., 0., 0., 1., 1., 1., 1., 0., 0., 1., 0., 0., 0., 0., 0.,\n",
              "       0., 0., 1., 1., 0., 0., 0., 1., 1., 0., 0., 0., 0., 1., 0., 0., 0.,\n",
              "       1., 0., 1., 0., 0., 1., 0., 0., 0., 0., 1., 1., 0., 1., 0., 1., 0.,\n",
              "       1., 0., 0., 0., 0., 0., 1., 0., 0., 0., 1., 1., 0., 1., 1., 1., 0.,\n",
              "       0., 0., 0., 0., 1., 0., 0., 0., 0., 1., 0., 1., 0., 0., 1., 0., 0.,\n",
              "       0., 0., 0., 1., 1., 1., 0., 1., 0., 1., 1., 1., 1., 1., 1., 1., 0.,\n",
              "       0., 1., 1., 0., 1., 1., 0., 0., 1., 0., 0., 0., 0., 0., 0., 1., 1.,\n",
              "       0., 1., 0., 0., 1., 0., 0., 1., 0., 0., 1., 0., 1., 1., 1., 1., 0.,\n",
              "       1., 0., 0., 0., 1., 0., 0., 1., 0., 1., 0., 0., 0., 1., 0., 0., 1.,\n",
              "       0., 0., 1., 1., 1., 1., 0., 1., 0., 0., 1., 0., 0., 1., 0., 1., 0.,\n",
              "       1., 1., 1., 0., 1., 0., 0., 0., 1., 1., 0., 1., 1., 1., 1., 0., 0.,\n",
              "       1., 0., 0., 0., 1., 0., 0., 0., 0., 0., 0., 1., 0., 0., 1., 1., 0.,\n",
              "       0., 1., 1., 1., 1., 1., 0., 1., 0., 0., 0., 0., 1., 1., 1., 0., 1.,\n",
              "       0., 0., 0., 1., 0., 1., 1., 1., 1., 0., 0., 1., 0., 1., 0., 1., 0.,\n",
              "       0., 0., 0., 0., 1., 1., 0., 0., 1., 0., 0., 0., 0., 1., 0., 0., 1.,\n",
              "       0., 1., 1., 0., 0., 0., 0., 0., 1., 1., 1., 1., 0., 0., 0., 0., 0.,\n",
              "       1., 0., 0., 1., 0., 0., 1., 0., 0., 0., 1., 1., 1., 1., 1., 0., 1.,\n",
              "       0., 1., 0., 0., 0., 0., 1., 0., 1., 0., 1., 0., 0., 0., 1., 0., 0.,\n",
              "       0., 0., 0., 0., 0., 1., 0., 0., 1., 0., 1., 0., 0., 0., 0., 0., 1.,\n",
              "       0., 1., 0., 0., 1., 0., 1., 0., 0., 1., 0., 0., 1., 0., 0., 1., 1.,\n",
              "       0., 0., 1., 1., 1., 1., 1., 0., 0., 0., 0., 1., 0., 0., 0., 0., 1.,\n",
              "       1., 1., 0., 0., 0., 0., 1., 0., 0., 0., 0., 1., 0., 0., 0., 0., 0.,\n",
              "       0., 0., 0., 0., 0., 1., 1., 1., 1., 0., 1., 1., 1., 0., 1., 0., 1.,\n",
              "       0., 0., 1., 0., 1., 0., 0., 0., 0., 1., 0., 1., 1., 0., 1., 0., 0.,\n",
              "       0., 1., 1., 0., 0., 0., 1., 1., 0., 0., 1., 0., 1., 1., 1., 1., 0.,\n",
              "       0., 0., 1., 1., 0., 0., 0., 0., 0., 0., 0., 1., 0., 1., 1., 0., 1.,\n",
              "       0., 0., 0., 1., 0., 0., 0., 0., 0., 1., 1., 1., 1., 1., 0., 0., 1.,\n",
              "       1., 1., 0., 0., 0., 1., 1., 0., 0., 1., 0., 0., 1., 0., 0., 1., 0.,\n",
              "       1., 1., 0., 0., 0., 0., 0., 1., 0., 0., 1., 0., 0., 0., 0., 1., 1.,\n",
              "       0., 0., 0., 0., 1., 0., 1., 1., 1., 1., 1., 0., 0., 0., 1., 0., 0.,\n",
              "       0., 0., 0., 0., 1., 0., 1., 1., 1., 1., 0., 0., 1., 0., 0., 0., 0.,\n",
              "       0., 1., 1., 1., 1., 0., 0., 1., 0., 0., 0., 1., 1., 0., 0., 1., 0.,\n",
              "       0., 0., 0., 1., 1., 0., 1., 1., 0., 1., 0., 1., 0., 0., 0., 0., 0.,\n",
              "       0., 1., 0., 1., 0., 1., 1., 0., 0., 1., 1., 1., 0., 0., 0., 0., 0.,\n",
              "       1., 0., 0., 0., 1., 0., 0., 1., 0., 0., 0., 0., 0., 0., 0., 0., 0.,\n",
              "       0., 0., 1., 1., 1., 0., 0., 1., 1., 1., 0., 1., 0., 1., 1., 0., 1.,\n",
              "       0., 1., 1., 0., 0., 0., 0., 0., 1., 0., 1., 0., 1., 0., 0., 0., 1.,\n",
              "       0., 0., 1., 1., 1., 1., 0., 0., 0., 1., 0., 1., 0., 1., 1., 0., 0.,\n",
              "       0., 0., 0., 1., 1., 0., 0., 0., 0., 0., 0., 1., 0., 0., 0., 0., 1.,\n",
              "       0., 1., 0., 0., 0., 1., 1., 0., 0., 0., 0., 1., 1., 1., 0., 0., 1.,\n",
              "       0., 0., 1., 0., 0., 1., 0., 0., 0., 0., 1., 1., 1., 0., 1., 0., 1.,\n",
              "       0., 1., 0., 0., 0., 1., 0., 0., 0., 0., 0., 0., 0., 0., 0., 1., 0.,\n",
              "       0., 0., 0., 0., 1., 0., 1., 0., 0., 1., 0., 0., 0., 0., 1., 0., 0.,\n",
              "       1., 1., 1., 1., 1., 0., 0., 0., 1., 1., 1., 0., 1., 1., 0., 0., 0.,\n",
              "       0., 0., 0., 0., 1., 0., 1., 1., 0., 0., 0., 1., 0., 0.],\n",
              "      dtype=float32)>"
            ]
          },
          "metadata": {},
          "execution_count": 38
        }
      ]
    },
    {
      "cell_type": "code",
      "source": [
        "model_1_results = calculate_results(val_labels,\n",
        "                                    model_1_pred)\n",
        "model_1_results"
      ],
      "metadata": {
        "colab": {
          "base_uri": "https://localhost:8080/"
        },
        "id": "R9Sx4FQ2kVNB",
        "outputId": "5482e267-2a7d-4521-c6bc-65ffa713869e"
      },
      "execution_count": null,
      "outputs": [
        {
          "output_type": "execute_result",
          "data": {
            "text/plain": [
              "{'accuracy': 78.4776902887139,\n",
              " 'f1': 0.7827022002767159,\n",
              " 'precision': 0.7870511640590381,\n",
              " 'recall': 0.7847769028871391}"
            ]
          },
          "metadata": {},
          "execution_count": 39
        }
      ]
    },
    {
      "cell_type": "code",
      "source": [
        "baseline_results"
      ],
      "metadata": {
        "colab": {
          "base_uri": "https://localhost:8080/"
        },
        "id": "5OoQaeBqkevf",
        "outputId": "43b300c9-73c2-47dd-b3ed-3002fc16bc10"
      },
      "execution_count": null,
      "outputs": [
        {
          "output_type": "execute_result",
          "data": {
            "text/plain": [
              "{'accuracy': 79.26509186351706,\n",
              " 'f1': 0.7862189758049549,\n",
              " 'precision': 0.8111390004213173,\n",
              " 'recall': 0.7926509186351706}"
            ]
          },
          "metadata": {},
          "execution_count": 40
        }
      ]
    },
    {
      "cell_type": "code",
      "source": [
        "# Visualizing learned embedding\n",
        "# get the vocabulary from the text vectorization layer\n",
        "\n",
        "words_in_vocab = text_vectorizer.get_vocabulary()\n",
        "len(words_in_vocab), words_in_vocab[:10]"
      ],
      "metadata": {
        "colab": {
          "base_uri": "https://localhost:8080/"
        },
        "id": "a5sIHB5nlYLv",
        "outputId": "77db9b52-89a0-4c9e-d78a-86ffa34415a6"
      },
      "execution_count": null,
      "outputs": [
        {
          "output_type": "execute_result",
          "data": {
            "text/plain": [
              "(10000, ['', '[UNK]', 'the', 'a', 'in', 'to', 'of', 'and', 'i', 'is'])"
            ]
          },
          "metadata": {},
          "execution_count": 41
        }
      ]
    },
    {
      "cell_type": "code",
      "source": [
        "# get the weight matrix of embedding layer\n",
        "\n",
        "embed_weights = model_1.get_layer('embedding').get_weights()[0]\n",
        "embed_weights.shape"
      ],
      "metadata": {
        "colab": {
          "base_uri": "https://localhost:8080/"
        },
        "id": "Cb6b3kQ5ljlP",
        "outputId": "573dbd14-53fa-4fe5-c626-6f1d92531d76"
      },
      "execution_count": null,
      "outputs": [
        {
          "output_type": "execute_result",
          "data": {
            "text/plain": [
              "(10000, 128)"
            ]
          },
          "metadata": {},
          "execution_count": 42
        }
      ]
    },
    {
      "cell_type": "markdown",
      "source": [
        "Now we have the embedding matrix our model has learnedto repreent our tokens, let's see how we can visualize it.\n",
        "\n",
        "We can use tensorflow projector"
      ],
      "metadata": {
        "id": "IMCe1Fr6m9Kr"
      }
    },
    {
      "cell_type": "code",
      "source": [
        "# Create embedding files\n",
        "import io \n",
        "\n",
        "out_v = io.open('vectors.tsv', 'w', encoding='utf-8')\n",
        "out_m = io.open('metadata.tsv', 'w', encoding='utf-8')\n",
        "\n",
        "for index, word in enumerate(words_in_vocab):\n",
        "  if index == 0:\n",
        "    continue  # skip 0, it's padding.\n",
        "  vec = embed_weights[index]\n",
        "  out_v.write('\\t'.join([str(x) for x in vec]) + \"\\n\")\n",
        "  out_m.write(word + \"\\n\")\n",
        "out_v.close()\n",
        "out_m.close()"
      ],
      "metadata": {
        "id": "tNiuB9PVnC02"
      },
      "execution_count": null,
      "outputs": []
    },
    {
      "cell_type": "code",
      "source": [
        "try:\n",
        "  from google.colab import files\n",
        "  files.download('vectors.tsv')\n",
        "  files.download('metadata.tsv')\n",
        "except Exception:\n",
        "  pass"
      ],
      "metadata": {
        "id": "F7YZ_KNxsIiD",
        "colab": {
          "base_uri": "https://localhost:8080/",
          "height": 17
        },
        "outputId": "16ab1465-1a4a-4a90-aacc-d615f572939f"
      },
      "execution_count": null,
      "outputs": [
        {
          "output_type": "display_data",
          "data": {
            "text/plain": [
              "<IPython.core.display.Javascript object>"
            ],
            "application/javascript": [
              "\n",
              "    async function download(id, filename, size) {\n",
              "      if (!google.colab.kernel.accessAllowed) {\n",
              "        return;\n",
              "      }\n",
              "      const div = document.createElement('div');\n",
              "      const label = document.createElement('label');\n",
              "      label.textContent = `Downloading \"${filename}\": `;\n",
              "      div.appendChild(label);\n",
              "      const progress = document.createElement('progress');\n",
              "      progress.max = size;\n",
              "      div.appendChild(progress);\n",
              "      document.body.appendChild(div);\n",
              "\n",
              "      const buffers = [];\n",
              "      let downloaded = 0;\n",
              "\n",
              "      const channel = await google.colab.kernel.comms.open(id);\n",
              "      // Send a message to notify the kernel that we're ready.\n",
              "      channel.send({})\n",
              "\n",
              "      for await (const message of channel.messages) {\n",
              "        // Send a message to notify the kernel that we're ready.\n",
              "        channel.send({})\n",
              "        if (message.buffers) {\n",
              "          for (const buffer of message.buffers) {\n",
              "            buffers.push(buffer);\n",
              "            downloaded += buffer.byteLength;\n",
              "            progress.value = downloaded;\n",
              "          }\n",
              "        }\n",
              "      }\n",
              "      const blob = new Blob(buffers, {type: 'application/binary'});\n",
              "      const a = document.createElement('a');\n",
              "      a.href = window.URL.createObjectURL(blob);\n",
              "      a.download = filename;\n",
              "      div.appendChild(a);\n",
              "      a.click();\n",
              "      div.remove();\n",
              "    }\n",
              "  "
            ]
          },
          "metadata": {}
        },
        {
          "output_type": "display_data",
          "data": {
            "text/plain": [
              "<IPython.core.display.Javascript object>"
            ],
            "application/javascript": [
              "download(\"download_d64945c0-f6fa-40f8-8db0-52a9534d4ff1\", \"vectors.tsv\", 15381416)"
            ]
          },
          "metadata": {}
        },
        {
          "output_type": "display_data",
          "data": {
            "text/plain": [
              "<IPython.core.display.Javascript object>"
            ],
            "application/javascript": [
              "\n",
              "    async function download(id, filename, size) {\n",
              "      if (!google.colab.kernel.accessAllowed) {\n",
              "        return;\n",
              "      }\n",
              "      const div = document.createElement('div');\n",
              "      const label = document.createElement('label');\n",
              "      label.textContent = `Downloading \"${filename}\": `;\n",
              "      div.appendChild(label);\n",
              "      const progress = document.createElement('progress');\n",
              "      progress.max = size;\n",
              "      div.appendChild(progress);\n",
              "      document.body.appendChild(div);\n",
              "\n",
              "      const buffers = [];\n",
              "      let downloaded = 0;\n",
              "\n",
              "      const channel = await google.colab.kernel.comms.open(id);\n",
              "      // Send a message to notify the kernel that we're ready.\n",
              "      channel.send({})\n",
              "\n",
              "      for await (const message of channel.messages) {\n",
              "        // Send a message to notify the kernel that we're ready.\n",
              "        channel.send({})\n",
              "        if (message.buffers) {\n",
              "          for (const buffer of message.buffers) {\n",
              "            buffers.push(buffer);\n",
              "            downloaded += buffer.byteLength;\n",
              "            progress.value = downloaded;\n",
              "          }\n",
              "        }\n",
              "      }\n",
              "      const blob = new Blob(buffers, {type: 'application/binary'});\n",
              "      const a = document.createElement('a');\n",
              "      a.href = window.URL.createObjectURL(blob);\n",
              "      a.download = filename;\n",
              "      div.appendChild(a);\n",
              "      a.click();\n",
              "      div.remove();\n",
              "    }\n",
              "  "
            ]
          },
          "metadata": {}
        },
        {
          "output_type": "display_data",
          "data": {
            "text/plain": [
              "<IPython.core.display.Javascript object>"
            ],
            "application/javascript": [
              "download(\"download_866e2599-ead2-4249-993c-718a5aedfe21\", \"metadata.tsv\", 80388)"
            ]
          },
          "metadata": {}
        }
      ]
    },
    {
      "cell_type": "markdown",
      "source": [
        "Recurrent Neural Networks\n",
        "RNN are useful for sequence data.\n",
        "\n",
        "Premise of a recurrent neural network is to use the representation of a previous input to aid the representation of a later input"
      ],
      "metadata": {
        "id": "LG4hSorseKB1"
      }
    },
    {
      "cell_type": "code",
      "source": [
        "# Building model_2, an LSTM RNN model\n",
        "\n",
        "from tensorflow.keras import layers\n",
        "inputs = layers.Input(shape=(1,), dtype='string')\n",
        "x = text_vectorizer(inputs)\n",
        "x = embedding(x)\n",
        "# print(x.shape)\n",
        "# x = layers.LSTM(units=64, return_sequences=True)(x) # when stacking RNN cells, need to return sequences\n",
        "# print(x.shape)\n",
        "x = layers.LSTM(64)(x)\n",
        "# print(x.shape)\n",
        "# x = layers.Dense(64, activation='relu')(x)\n",
        "outputs = layers.Dense(1, activation='sigmoid')(x)\n",
        "model_2 = tf.keras.Model(inputs, outputs, name='model_2_LSTM')"
      ],
      "metadata": {
        "id": "_bGDFgNoeYVO"
      },
      "execution_count": null,
      "outputs": []
    },
    {
      "cell_type": "code",
      "source": [
        "model_2.summary()"
      ],
      "metadata": {
        "colab": {
          "base_uri": "https://localhost:8080/"
        },
        "id": "SPRIBUJzgsMe",
        "outputId": "5f25d00c-85ee-44db-ee38-08bdf107ba72"
      },
      "execution_count": null,
      "outputs": [
        {
          "output_type": "stream",
          "name": "stdout",
          "text": [
            "Model: \"model_2_LSTM\"\n",
            "_________________________________________________________________\n",
            " Layer (type)                Output Shape              Param #   \n",
            "=================================================================\n",
            " input_2 (InputLayer)        [(None, 1)]               0         \n",
            "                                                                 \n",
            " text_vectorization_1 (TextV  (None, 15)               0         \n",
            " ectorization)                                                   \n",
            "                                                                 \n",
            " embedding (Embedding)       (None, 15, 128)           1280000   \n",
            "                                                                 \n",
            " lstm (LSTM)                 (None, 64)                49408     \n",
            "                                                                 \n",
            " dense_1 (Dense)             (None, 1)                 65        \n",
            "                                                                 \n",
            "=================================================================\n",
            "Total params: 1,329,473\n",
            "Trainable params: 1,329,473\n",
            "Non-trainable params: 0\n",
            "_________________________________________________________________\n"
          ]
        }
      ]
    },
    {
      "cell_type": "code",
      "source": [
        "model_2.compile(loss='binary_crossentropy',\n",
        "                optimizer=tf.keras.optimizers.Adam(),\n",
        "                metrics=['accuracy'])"
      ],
      "metadata": {
        "id": "fj5K_2lbiD6n"
      },
      "execution_count": null,
      "outputs": []
    },
    {
      "cell_type": "code",
      "source": [
        "model_2_history = model_2.fit(train_sentences,\n",
        "                              train_labels,\n",
        "                              epochs=5,\n",
        "                              validation_data=(val_sentences, val_labels),\n",
        "                              callbacks=[create_tensorboard_callback(SAVE_DIR,\n",
        "                                                                     'model_2_LSTM')])"
      ],
      "metadata": {
        "colab": {
          "base_uri": "https://localhost:8080/"
        },
        "id": "0tHqJuFliPHP",
        "outputId": "cf537e94-22f2-4ef1-94bc-555c652e1edd"
      },
      "execution_count": null,
      "outputs": [
        {
          "output_type": "stream",
          "name": "stdout",
          "text": [
            "Saving TensorBoard log files to: model_logs/model_2_LSTM/20220621-232102\n",
            "Epoch 1/5\n",
            "215/215 [==============================] - 6s 8ms/step - loss: 0.2209 - accuracy: 0.9190 - val_loss: 0.5944 - val_accuracy: 0.7835\n",
            "Epoch 2/5\n",
            "215/215 [==============================] - 1s 6ms/step - loss: 0.1534 - accuracy: 0.9419 - val_loss: 0.5793 - val_accuracy: 0.7835\n",
            "Epoch 3/5\n",
            "215/215 [==============================] - 1s 6ms/step - loss: 0.1282 - accuracy: 0.9531 - val_loss: 0.7630 - val_accuracy: 0.7795\n",
            "Epoch 4/5\n",
            "215/215 [==============================] - 1s 6ms/step - loss: 0.1041 - accuracy: 0.9584 - val_loss: 0.7762 - val_accuracy: 0.7743\n",
            "Epoch 5/5\n",
            "215/215 [==============================] - 1s 6ms/step - loss: 0.0876 - accuracy: 0.9637 - val_loss: 0.7904 - val_accuracy: 0.7822\n"
          ]
        }
      ]
    },
    {
      "cell_type": "code",
      "source": [
        "model_2_pred_probs = model_2.predict(val_sentences)\n",
        "model_2_pred_probs"
      ],
      "metadata": {
        "colab": {
          "base_uri": "https://localhost:8080/"
        },
        "id": "f8uH949MikXl",
        "outputId": "f39d080f-afbb-40f4-baf8-9807ce488239"
      },
      "execution_count": null,
      "outputs": [
        {
          "output_type": "execute_result",
          "data": {
            "text/plain": [
              "array([[8.29527825e-02],\n",
              "       [8.58333528e-01],\n",
              "       [9.99746501e-01],\n",
              "       [1.09039493e-01],\n",
              "       [1.18071889e-03],\n",
              "       [9.96035874e-01],\n",
              "       [7.74803877e-01],\n",
              "       [9.99837279e-01],\n",
              "       [9.99651670e-01],\n",
              "       [4.93561119e-01],\n",
              "       [2.03403970e-03],\n",
              "       [8.88809562e-01],\n",
              "       [1.22034829e-03],\n",
              "       [2.70359665e-01],\n",
              "       [3.22622538e-04],\n",
              "       [6.32098913e-02],\n",
              "       [5.22336736e-03],\n",
              "       [1.81734026e-03],\n",
              "       [1.30626723e-01],\n",
              "       [9.97658014e-01],\n",
              "       [9.96128917e-01],\n",
              "       [9.63796221e-04],\n",
              "       [9.83570814e-01],\n",
              "       [2.36427151e-02],\n",
              "       [9.99529958e-01],\n",
              "       [9.99806941e-01],\n",
              "       [2.93613914e-02],\n",
              "       [6.32700883e-03],\n",
              "       [1.94906176e-03],\n",
              "       [2.46436268e-01],\n",
              "       [9.41227078e-01],\n",
              "       [3.28803547e-02],\n",
              "       [1.77301958e-01],\n",
              "       [1.82384364e-02],\n",
              "       [6.45724595e-01],\n",
              "       [2.44226336e-01],\n",
              "       [9.99526620e-01],\n",
              "       [2.85021514e-01],\n",
              "       [9.05335769e-02],\n",
              "       [9.99686837e-01],\n",
              "       [2.18130901e-01],\n",
              "       [5.87404706e-04],\n",
              "       [5.48203766e-01],\n",
              "       [1.21140515e-03],\n",
              "       [9.68008399e-01],\n",
              "       [9.99508977e-01],\n",
              "       [9.31790411e-01],\n",
              "       [8.88356745e-01],\n",
              "       [2.28230339e-02],\n",
              "       [8.34938407e-01],\n",
              "       [1.14753604e-01],\n",
              "       [3.46501023e-01],\n",
              "       [2.01810703e-01],\n",
              "       [4.58735079e-02],\n",
              "       [7.65064657e-01],\n",
              "       [1.11527644e-01],\n",
              "       [3.34725529e-02],\n",
              "       [9.99544799e-01],\n",
              "       [5.55824768e-03],\n",
              "       [1.44503021e-03],\n",
              "       [1.42087415e-01],\n",
              "       [9.99467432e-01],\n",
              "       [9.94963884e-01],\n",
              "       [1.61435947e-01],\n",
              "       [9.98593509e-01],\n",
              "       [9.99803007e-01],\n",
              "       [9.87132072e-01],\n",
              "       [2.09716856e-02],\n",
              "       [4.61908430e-01],\n",
              "       [1.08496808e-01],\n",
              "       [4.61748540e-02],\n",
              "       [6.64434209e-02],\n",
              "       [9.99612391e-01],\n",
              "       [2.05552801e-01],\n",
              "       [1.57477066e-01],\n",
              "       [8.71875882e-01],\n",
              "       [2.10039884e-01],\n",
              "       [9.98479307e-01],\n",
              "       [3.20289493e-01],\n",
              "       [6.25869632e-01],\n",
              "       [2.79501319e-01],\n",
              "       [1.84273615e-01],\n",
              "       [9.99713719e-01],\n",
              "       [1.10992696e-02],\n",
              "       [1.02245333e-02],\n",
              "       [1.78260002e-02],\n",
              "       [2.28436221e-03],\n",
              "       [4.34514973e-03],\n",
              "       [2.94790208e-01],\n",
              "       [9.99081373e-01],\n",
              "       [9.99578893e-01],\n",
              "       [6.33842370e-04],\n",
              "       [9.18578923e-01],\n",
              "       [7.66479410e-04],\n",
              "       [9.99698043e-01],\n",
              "       [8.39719415e-01],\n",
              "       [3.08425874e-01],\n",
              "       [9.99586165e-01],\n",
              "       [9.95660484e-01],\n",
              "       [9.95659411e-01],\n",
              "       [9.99865174e-01],\n",
              "       [8.22402537e-02],\n",
              "       [5.35343366e-04],\n",
              "       [9.84671772e-01],\n",
              "       [9.97903943e-01],\n",
              "       [2.38642544e-01],\n",
              "       [9.94897664e-01],\n",
              "       [9.97827470e-01],\n",
              "       [3.06362961e-03],\n",
              "       [9.92202044e-01],\n",
              "       [9.78453755e-01],\n",
              "       [1.35511509e-03],\n",
              "       [4.77991641e-01],\n",
              "       [4.91680615e-02],\n",
              "       [2.01558974e-03],\n",
              "       [1.40067771e-01],\n",
              "       [5.97365320e-01],\n",
              "       [9.95124519e-01],\n",
              "       [7.13249445e-01],\n",
              "       [5.09212073e-03],\n",
              "       [9.99833941e-01],\n",
              "       [6.43336040e-04],\n",
              "       [1.72926532e-03],\n",
              "       [9.80352759e-01],\n",
              "       [1.21916778e-01],\n",
              "       [8.41901600e-02],\n",
              "       [9.97052908e-01],\n",
              "       [5.71185315e-04],\n",
              "       [7.49762962e-03],\n",
              "       [9.45200682e-01],\n",
              "       [1.61388367e-02],\n",
              "       [9.99833941e-01],\n",
              "       [9.99863625e-01],\n",
              "       [9.99806941e-01],\n",
              "       [9.99504566e-01],\n",
              "       [4.51247096e-02],\n",
              "       [9.99599755e-01],\n",
              "       [1.75433561e-01],\n",
              "       [5.38055450e-02],\n",
              "       [7.40851369e-03],\n",
              "       [9.99876380e-01],\n",
              "       [7.03757286e-01],\n",
              "       [2.70359665e-01],\n",
              "       [9.99044955e-01],\n",
              "       [2.03743175e-01],\n",
              "       [6.87627435e-01],\n",
              "       [1.04251516e-03],\n",
              "       [3.32145428e-04],\n",
              "       [6.32574737e-01],\n",
              "       [9.99430120e-01],\n",
              "       [1.82385053e-02],\n",
              "       [9.83248204e-02],\n",
              "       [3.22696149e-01],\n",
              "       [2.77034892e-03],\n",
              "       [4.48116735e-02],\n",
              "       [9.99455750e-01],\n",
              "       [9.92665112e-01],\n",
              "       [1.86344668e-01],\n",
              "       [9.99185145e-01],\n",
              "       [1.14194956e-03],\n",
              "       [9.99075770e-01],\n",
              "       [5.67008629e-02],\n",
              "       [3.63407433e-01],\n",
              "       [9.99196589e-01],\n",
              "       [2.24800572e-01],\n",
              "       [1.03355595e-03],\n",
              "       [9.99756873e-01],\n",
              "       [2.79362589e-01],\n",
              "       [9.99621511e-01],\n",
              "       [3.48314196e-01],\n",
              "       [9.99632239e-01],\n",
              "       [9.79858637e-01],\n",
              "       [9.72671151e-01],\n",
              "       [1.35558494e-03],\n",
              "       [9.99800265e-01],\n",
              "       [3.29501331e-02],\n",
              "       [1.74711034e-01],\n",
              "       [2.92523772e-01],\n",
              "       [9.47007895e-01],\n",
              "       [9.99693155e-01],\n",
              "       [5.01283072e-03],\n",
              "       [9.94974017e-01],\n",
              "       [9.98615861e-01],\n",
              "       [9.99769986e-01],\n",
              "       [9.99606907e-01],\n",
              "       [1.27447974e-02],\n",
              "       [1.48252472e-02],\n",
              "       [9.99895930e-01],\n",
              "       [5.43478993e-04],\n",
              "       [5.12764731e-04],\n",
              "       [1.89434942e-02],\n",
              "       [9.96107757e-01],\n",
              "       [1.45442155e-03],\n",
              "       [5.50705148e-03],\n",
              "       [6.04751462e-04],\n",
              "       [5.53336972e-03],\n",
              "       [2.96793366e-03],\n",
              "       [3.47114503e-02],\n",
              "       [9.98088658e-01],\n",
              "       [9.79210250e-03],\n",
              "       [1.78083733e-01],\n",
              "       [9.99418378e-01],\n",
              "       [9.99580562e-01],\n",
              "       [9.73321423e-02],\n",
              "       [2.84750247e-03],\n",
              "       [9.99810874e-01],\n",
              "       [9.97021139e-01],\n",
              "       [9.94713962e-01],\n",
              "       [7.69696891e-01],\n",
              "       [9.96048629e-01],\n",
              "       [4.74355549e-01],\n",
              "       [9.99576390e-01],\n",
              "       [1.04111177e-03],\n",
              "       [1.05151042e-01],\n",
              "       [4.84822260e-04],\n",
              "       [5.92953467e-04],\n",
              "       [9.99587119e-01],\n",
              "       [9.88638341e-01],\n",
              "       [9.95276213e-01],\n",
              "       [2.45784208e-01],\n",
              "       [2.81295598e-01],\n",
              "       [6.11936394e-03],\n",
              "       [6.18924536e-02],\n",
              "       [3.36064659e-02],\n",
              "       [9.99566615e-01],\n",
              "       [1.90353230e-01],\n",
              "       [5.31987846e-01],\n",
              "       [9.99869108e-01],\n",
              "       [9.82711256e-01],\n",
              "       [7.03421712e-01],\n",
              "       [1.24850776e-03],\n",
              "       [6.30396158e-02],\n",
              "       [9.83201683e-01],\n",
              "       [4.27147239e-01],\n",
              "       [4.14767981e-01],\n",
              "       [1.76466182e-01],\n",
              "       [8.84558499e-01],\n",
              "       [6.69685006e-02],\n",
              "       [9.54212248e-03],\n",
              "       [9.24258307e-03],\n",
              "       [9.67308104e-01],\n",
              "       [5.37691787e-02],\n",
              "       [9.99711692e-01],\n",
              "       [9.99466360e-01],\n",
              "       [5.93279582e-03],\n",
              "       [7.73191859e-04],\n",
              "       [9.99169588e-01],\n",
              "       [3.90196219e-03],\n",
              "       [5.79547957e-02],\n",
              "       [2.78806269e-01],\n",
              "       [2.53726076e-03],\n",
              "       [9.91096020e-01],\n",
              "       [4.07088344e-04],\n",
              "       [9.30755287e-02],\n",
              "       [9.99215007e-01],\n",
              "       [1.82216629e-01],\n",
              "       [9.99205530e-01],\n",
              "       [9.99886274e-01],\n",
              "       [1.84789494e-01],\n",
              "       [1.91822404e-03],\n",
              "       [1.43123344e-02],\n",
              "       [1.31820329e-03],\n",
              "       [3.21860949e-04],\n",
              "       [9.98797178e-01],\n",
              "       [9.99601066e-01],\n",
              "       [7.43309081e-01],\n",
              "       [9.98825848e-01],\n",
              "       [2.40665092e-03],\n",
              "       [3.41520101e-01],\n",
              "       [9.55341849e-04],\n",
              "       [9.69041232e-03],\n",
              "       [1.41816540e-03],\n",
              "       [9.99554932e-01],\n",
              "       [1.91696007e-02],\n",
              "       [3.82402359e-04],\n",
              "       [9.99328852e-01],\n",
              "       [1.01210678e-03],\n",
              "       [9.91963409e-03],\n",
              "       [9.99222755e-01],\n",
              "       [1.37948536e-03],\n",
              "       [1.68018028e-01],\n",
              "       [7.33119668e-04],\n",
              "       [9.99496579e-01],\n",
              "       [9.13496852e-01],\n",
              "       [5.73558211e-01],\n",
              "       [4.72550243e-01],\n",
              "       [9.85796392e-01],\n",
              "       [2.40824167e-02],\n",
              "       [9.98482168e-01],\n",
              "       [1.15557853e-02],\n",
              "       [9.35404062e-01],\n",
              "       [7.30791509e-01],\n",
              "       [5.59313536e-01],\n",
              "       [1.38244465e-01],\n",
              "       [6.97254250e-03],\n",
              "       [5.35317481e-01],\n",
              "       [1.63641557e-01],\n",
              "       [7.70075470e-02],\n",
              "       [1.07732981e-01],\n",
              "       [3.49221557e-01],\n",
              "       [3.86010215e-04],\n",
              "       [6.75419625e-03],\n",
              "       [1.15031973e-01],\n",
              "       [9.99481976e-01],\n",
              "       [3.34070884e-02],\n",
              "       [4.38221022e-02],\n",
              "       [2.99739093e-01],\n",
              "       [2.04487994e-01],\n",
              "       [2.48370722e-01],\n",
              "       [2.99880072e-03],\n",
              "       [1.30827411e-03],\n",
              "       [9.99360859e-01],\n",
              "       [2.35699087e-01],\n",
              "       [3.73965561e-01],\n",
              "       [9.99905586e-01],\n",
              "       [5.90224098e-03],\n",
              "       [9.65035617e-01],\n",
              "       [2.46938810e-01],\n",
              "       [2.99265292e-02],\n",
              "       [1.67729482e-01],\n",
              "       [2.75229313e-03],\n",
              "       [8.61496925e-02],\n",
              "       [9.96744871e-01],\n",
              "       [2.38032147e-01],\n",
              "       [9.99629855e-01],\n",
              "       [2.13660270e-01],\n",
              "       [9.53405921e-04],\n",
              "       [9.99683976e-01],\n",
              "       [3.56152421e-03],\n",
              "       [9.99696016e-01],\n",
              "       [3.17040347e-02],\n",
              "       [5.17486688e-03],\n",
              "       [9.99319196e-01],\n",
              "       [1.91642181e-03],\n",
              "       [9.71533067e-04],\n",
              "       [9.99185741e-01],\n",
              "       [7.04672479e-04],\n",
              "       [9.33115110e-02],\n",
              "       [9.79481757e-01],\n",
              "       [9.95071828e-01],\n",
              "       [6.21152110e-04],\n",
              "       [9.85825732e-02],\n",
              "       [9.99440610e-01],\n",
              "       [9.99268234e-01],\n",
              "       [9.90858018e-01],\n",
              "       [2.99320668e-01],\n",
              "       [8.67471993e-01],\n",
              "       [9.80271876e-01],\n",
              "       [3.75459604e-02],\n",
              "       [4.07329341e-03],\n",
              "       [9.08025429e-02],\n",
              "       [2.19222739e-01],\n",
              "       [1.05230790e-03],\n",
              "       [5.55352926e-01],\n",
              "       [6.27366602e-01],\n",
              "       [8.40912515e-04],\n",
              "       [9.99382377e-01],\n",
              "       [9.99806941e-01],\n",
              "       [9.99763906e-01],\n",
              "       [3.58940288e-03],\n",
              "       [2.44108051e-01],\n",
              "       [1.46580130e-01],\n",
              "       [2.07614809e-01],\n",
              "       [9.77682650e-01],\n",
              "       [2.29544461e-01],\n",
              "       [8.62456509e-04],\n",
              "       [8.34137760e-03],\n",
              "       [4.12179297e-03],\n",
              "       [9.93531644e-01],\n",
              "       [1.24890567e-03],\n",
              "       [6.62920326e-02],\n",
              "       [2.20899424e-03],\n",
              "       [1.63025007e-01],\n",
              "       [1.93096191e-01],\n",
              "       [9.25690174e-01],\n",
              "       [1.48500696e-01],\n",
              "       [1.50257803e-03],\n",
              "       [1.01229660e-01],\n",
              "       [8.94622039e-03],\n",
              "       [9.99814928e-01],\n",
              "       [9.98793125e-01],\n",
              "       [4.73340213e-01],\n",
              "       [9.33560431e-01],\n",
              "       [6.55370241e-04],\n",
              "       [7.84485817e-01],\n",
              "       [9.99684572e-01],\n",
              "       [9.37690556e-01],\n",
              "       [3.59125674e-01],\n",
              "       [9.98674750e-01],\n",
              "       [1.31583750e-01],\n",
              "       [9.99665141e-01],\n",
              "       [1.16740629e-01],\n",
              "       [7.68801523e-03],\n",
              "       [8.23650420e-01],\n",
              "       [1.96769640e-01],\n",
              "       [9.99414444e-01],\n",
              "       [8.49644616e-02],\n",
              "       [1.14168040e-03],\n",
              "       [1.87697692e-03],\n",
              "       [2.29544461e-01],\n",
              "       [9.99848008e-01],\n",
              "       [1.03631767e-03],\n",
              "       [4.60936338e-01],\n",
              "       [9.99681592e-01],\n",
              "       [7.33076711e-04],\n",
              "       [9.99833941e-01],\n",
              "       [2.23811367e-03],\n",
              "       [5.36196493e-02],\n",
              "       [4.78962250e-03],\n",
              "       [9.96993661e-01],\n",
              "       [9.94084299e-01],\n",
              "       [2.50480734e-02],\n",
              "       [7.44634017e-04],\n",
              "       [8.72503579e-01],\n",
              "       [9.99567568e-01],\n",
              "       [8.11813533e-01],\n",
              "       [6.29805028e-03],\n",
              "       [1.17185071e-01],\n",
              "       [5.49267292e-01],\n",
              "       [2.09588278e-03],\n",
              "       [9.99808609e-01],\n",
              "       [7.61473954e-01],\n",
              "       [9.99835372e-01],\n",
              "       [9.99068677e-01],\n",
              "       [5.79364598e-02],\n",
              "       [3.32257271e-01],\n",
              "       [5.38038053e-02],\n",
              "       [9.97670114e-01],\n",
              "       [9.90060449e-01],\n",
              "       [8.12293053e-01],\n",
              "       [3.19817327e-02],\n",
              "       [1.76525295e-01],\n",
              "       [1.41419265e-02],\n",
              "       [1.67281309e-03],\n",
              "       [1.01646714e-01],\n",
              "       [2.39682347e-01],\n",
              "       [8.81208420e-01],\n",
              "       [1.27768710e-01],\n",
              "       [9.99836445e-01],\n",
              "       [9.99606192e-01],\n",
              "       [4.04346846e-02],\n",
              "       [8.58333528e-01],\n",
              "       [8.92058536e-02],\n",
              "       [3.76815489e-03],\n",
              "       [3.71810466e-01],\n",
              "       [9.86852586e-01],\n",
              "       [1.20688071e-02],\n",
              "       [2.09266990e-01],\n",
              "       [5.00225462e-04],\n",
              "       [3.56542796e-01],\n",
              "       [3.56008677e-04],\n",
              "       [9.99531269e-01],\n",
              "       [9.98652816e-01],\n",
              "       [9.99673367e-01],\n",
              "       [9.94211376e-01],\n",
              "       [9.64481533e-01],\n",
              "       [7.87977055e-02],\n",
              "       [1.17118307e-03],\n",
              "       [8.46184433e-01],\n",
              "       [9.97030973e-01],\n",
              "       [9.99726236e-01],\n",
              "       [4.60976618e-04],\n",
              "       [3.60098295e-02],\n",
              "       [3.76193109e-03],\n",
              "       [9.99712408e-01],\n",
              "       [9.99700546e-01],\n",
              "       [1.19118784e-02],\n",
              "       [7.36782700e-02],\n",
              "       [9.99833822e-01],\n",
              "       [1.64259039e-02],\n",
              "       [1.87352389e-01],\n",
              "       [9.99440253e-01],\n",
              "       [1.16483774e-02],\n",
              "       [4.18610452e-03],\n",
              "       [9.95455742e-01],\n",
              "       [4.32709605e-01],\n",
              "       [2.95514345e-01],\n",
              "       [9.99715269e-01],\n",
              "       [1.09583081e-03],\n",
              "       [4.80225822e-03],\n",
              "       [5.59308042e-04],\n",
              "       [1.26653491e-03],\n",
              "       [1.02558499e-02],\n",
              "       [9.99551952e-01],\n",
              "       [1.61877403e-03],\n",
              "       [7.91663885e-01],\n",
              "       [8.38294387e-01],\n",
              "       [1.26763225e-01],\n",
              "       [2.21061304e-01],\n",
              "       [6.11108728e-04],\n",
              "       [7.56718814e-02],\n",
              "       [9.99841571e-01],\n",
              "       [9.97825503e-01],\n",
              "       [4.74593602e-02],\n",
              "       [4.52160370e-03],\n",
              "       [2.24591102e-02],\n",
              "       [5.00821415e-03],\n",
              "       [9.54123378e-01],\n",
              "       [2.39008758e-03],\n",
              "       [9.92128968e-01],\n",
              "       [9.66432929e-01],\n",
              "       [5.56601524e-01],\n",
              "       [8.14198494e-01],\n",
              "       [8.06218565e-01],\n",
              "       [4.93981689e-02],\n",
              "       [7.15126693e-02],\n",
              "       [4.24578577e-01],\n",
              "       [7.90249407e-01],\n",
              "       [4.55768555e-01],\n",
              "       [1.99932560e-01],\n",
              "       [6.66372180e-02],\n",
              "       [6.03586843e-04],\n",
              "       [8.50948412e-03],\n",
              "       [4.03606057e-01],\n",
              "       [7.24561274e-01],\n",
              "       [1.27172500e-01],\n",
              "       [9.99753654e-01],\n",
              "       [9.98899698e-01],\n",
              "       [8.39719415e-01],\n",
              "       [9.99661446e-01],\n",
              "       [1.48232773e-01],\n",
              "       [8.59570317e-03],\n",
              "       [9.99170423e-01],\n",
              "       [2.00202875e-02],\n",
              "       [6.86040753e-03],\n",
              "       [3.01138580e-01],\n",
              "       [9.21467900e-01],\n",
              "       [4.03649115e-04],\n",
              "       [8.34745646e-01],\n",
              "       [9.51711297e-01],\n",
              "       [9.96511042e-01],\n",
              "       [9.98724282e-01],\n",
              "       [2.28380505e-02],\n",
              "       [1.59582630e-01],\n",
              "       [9.36285853e-01],\n",
              "       [8.13460792e-04],\n",
              "       [1.67826250e-01],\n",
              "       [1.45930886e-01],\n",
              "       [9.83419418e-01],\n",
              "       [9.68863726e-01],\n",
              "       [7.98807014e-03],\n",
              "       [1.62981506e-02],\n",
              "       [3.93938899e-01],\n",
              "       [2.43695043e-02],\n",
              "       [4.98821102e-02],\n",
              "       [1.88886351e-03],\n",
              "       [3.44807893e-01],\n",
              "       [9.99768317e-01],\n",
              "       [9.97448981e-01],\n",
              "       [8.27896371e-02],\n",
              "       [9.98193204e-01],\n",
              "       [9.99700308e-01],\n",
              "       [3.49880633e-04],\n",
              "       [9.99521494e-01],\n",
              "       [2.53576159e-01],\n",
              "       [9.31054592e-01],\n",
              "       [2.48511434e-01],\n",
              "       [1.74082275e-02],\n",
              "       [9.02666990e-03],\n",
              "       [1.99129805e-03],\n",
              "       [4.98841926e-02],\n",
              "       [1.66467135e-03],\n",
              "       [8.91788840e-01],\n",
              "       [1.86940935e-02],\n",
              "       [9.99661803e-01],\n",
              "       [1.62448604e-02],\n",
              "       [9.89939392e-01],\n",
              "       [7.86570311e-01],\n",
              "       [1.05167844e-03],\n",
              "       [3.17487027e-03],\n",
              "       [9.99725997e-01],\n",
              "       [1.31902605e-01],\n",
              "       [9.99436557e-01],\n",
              "       [2.72012204e-01],\n",
              "       [6.27166703e-02],\n",
              "       [4.09121186e-01],\n",
              "       [6.23602867e-02],\n",
              "       [2.42852077e-01],\n",
              "       [9.99700308e-01],\n",
              "       [5.41599002e-04],\n",
              "       [2.35173991e-03],\n",
              "       [1.88673839e-01],\n",
              "       [9.99715149e-01],\n",
              "       [7.70673379e-02],\n",
              "       [2.15829560e-03],\n",
              "       [9.90201533e-01],\n",
              "       [5.31586935e-04],\n",
              "       [7.47274049e-03],\n",
              "       [1.41802756e-02],\n",
              "       [3.26922268e-01],\n",
              "       [2.65498087e-02],\n",
              "       [2.66434461e-01],\n",
              "       [1.90709621e-01],\n",
              "       [1.36647254e-01],\n",
              "       [1.64379587e-03],\n",
              "       [2.15888754e-01],\n",
              "       [5.16393629e-04],\n",
              "       [9.98430789e-01],\n",
              "       [9.92851794e-01],\n",
              "       [5.72382510e-01],\n",
              "       [8.96689016e-04],\n",
              "       [1.48689505e-02],\n",
              "       [9.99683499e-01],\n",
              "       [7.92519093e-01],\n",
              "       [9.99861717e-01],\n",
              "       [6.77177534e-02],\n",
              "       [9.98379350e-01],\n",
              "       [2.38358919e-02],\n",
              "       [8.28708649e-01],\n",
              "       [8.83208632e-01],\n",
              "       [1.15083379e-03],\n",
              "       [9.99351680e-01],\n",
              "       [6.64531067e-02],\n",
              "       [9.46107924e-01],\n",
              "       [9.99762118e-01],\n",
              "       [1.69398010e-01],\n",
              "       [2.31201458e-03],\n",
              "       [3.90101612e-01],\n",
              "       [1.08235795e-03],\n",
              "       [7.87901953e-02],\n",
              "       [9.99810874e-01],\n",
              "       [3.19177628e-01],\n",
              "       [9.96111453e-01],\n",
              "       [1.97332397e-01],\n",
              "       [9.97940004e-01],\n",
              "       [2.79220968e-01],\n",
              "       [2.51915634e-01],\n",
              "       [7.08823849e-04],\n",
              "       [7.17700958e-01],\n",
              "       [1.60522910e-03],\n",
              "       [1.66369841e-01],\n",
              "       [9.99614060e-01],\n",
              "       [9.97668445e-01],\n",
              "       [9.99797165e-01],\n",
              "       [9.94256794e-01],\n",
              "       [7.76684359e-02],\n",
              "       [4.59623098e-01],\n",
              "       [1.23176177e-03],\n",
              "       [7.21869290e-01],\n",
              "       [9.75300789e-01],\n",
              "       [9.99111950e-01],\n",
              "       [2.04555364e-03],\n",
              "       [9.96482968e-01],\n",
              "       [9.99123394e-01],\n",
              "       [8.36401209e-02],\n",
              "       [1.27727821e-01],\n",
              "       [1.99932560e-01],\n",
              "       [2.25335807e-02],\n",
              "       [5.37435353e-01],\n",
              "       [8.76065671e-01],\n",
              "       [9.99790251e-01],\n",
              "       [2.54407115e-02],\n",
              "       [8.89234885e-04],\n",
              "       [1.18404580e-03],\n",
              "       [1.90152720e-01],\n",
              "       [2.67580505e-02],\n",
              "       [4.64719534e-02],\n",
              "       [9.65795577e-01],\n",
              "       [9.89183434e-04],\n",
              "       [1.95006907e-01],\n",
              "       [3.56968910e-01],\n",
              "       [1.99795589e-01],\n",
              "       [9.98764873e-01],\n",
              "       [1.89181920e-02],\n",
              "       [9.68226612e-01],\n",
              "       [4.16664898e-01],\n",
              "       [3.18194827e-04],\n",
              "       [2.98703928e-03],\n",
              "       [9.99783695e-01],\n",
              "       [5.09861171e-01],\n",
              "       [5.64762973e-04],\n",
              "       [3.24604511e-01],\n",
              "       [2.49359697e-01],\n",
              "       [4.82293603e-04],\n",
              "       [9.99228716e-01],\n",
              "       [3.18682864e-02],\n",
              "       [9.56717789e-01],\n",
              "       [6.38457119e-01],\n",
              "       [6.58454560e-03],\n",
              "       [5.59629381e-01],\n",
              "       [1.18567780e-01],\n",
              "       [2.50769854e-02],\n",
              "       [9.97224092e-01],\n",
              "       [1.07108735e-01],\n",
              "       [3.87139082e-01],\n",
              "       [9.97711182e-01],\n",
              "       [5.32168508e-01],\n",
              "       [3.94394338e-01],\n",
              "       [4.03649115e-04],\n",
              "       [2.41962060e-01],\n",
              "       [3.55424136e-01],\n",
              "       [9.99833941e-01],\n",
              "       [9.94026423e-01],\n",
              "       [1.18512213e-02],\n",
              "       [9.99564946e-01],\n",
              "       [2.84399480e-01],\n",
              "       [9.93564785e-01],\n",
              "       [2.84399480e-01],\n",
              "       [9.99746144e-01],\n",
              "       [3.90100555e-04],\n",
              "       [1.43799558e-01],\n",
              "       [1.17524876e-03],\n",
              "       [9.99746859e-01],\n",
              "       [9.49956626e-02],\n",
              "       [2.42657866e-02],\n",
              "       [1.46678044e-03],\n",
              "       [9.32427123e-02],\n",
              "       [8.51274282e-03],\n",
              "       [3.34905763e-03],\n",
              "       [1.23626716e-01],\n",
              "       [1.29665779e-02],\n",
              "       [8.78566429e-02],\n",
              "       [9.95988071e-01],\n",
              "       [1.07364133e-02],\n",
              "       [9.95230675e-02],\n",
              "       [2.59777182e-03],\n",
              "       [3.96067073e-04],\n",
              "       [1.38518289e-01],\n",
              "       [9.70197499e-01],\n",
              "       [2.34253332e-02],\n",
              "       [2.20689893e-01],\n",
              "       [3.96858267e-02],\n",
              "       [9.04543996e-01],\n",
              "       [9.99306083e-01],\n",
              "       [1.37444120e-03],\n",
              "       [2.57329387e-03],\n",
              "       [1.06310914e-03],\n",
              "       [2.49706791e-04],\n",
              "       [9.99497056e-01],\n",
              "       [3.96067073e-04],\n",
              "       [2.89739043e-01],\n",
              "       [9.99155879e-01],\n",
              "       [9.99654293e-01],\n",
              "       [9.99719679e-01],\n",
              "       [9.99848604e-01],\n",
              "       [9.99884129e-01],\n",
              "       [1.34421913e-02],\n",
              "       [5.63328201e-03],\n",
              "       [1.99173674e-01],\n",
              "       [9.66395438e-01],\n",
              "       [9.99761760e-01],\n",
              "       [9.49709475e-01],\n",
              "       [2.90022213e-02],\n",
              "       [9.80670214e-01],\n",
              "       [7.77775526e-01],\n",
              "       [4.13514703e-04],\n",
              "       [7.47095793e-04],\n",
              "       [8.20418745e-02],\n",
              "       [2.65386462e-01],\n",
              "       [5.19974041e-04],\n",
              "       [8.52589235e-02],\n",
              "       [9.74008143e-01],\n",
              "       [9.99751151e-01],\n",
              "       [2.04838440e-03],\n",
              "       [9.99536753e-01],\n",
              "       [7.38225043e-01],\n",
              "       [9.96439606e-02],\n",
              "       [1.99725211e-01],\n",
              "       [2.10118607e-01],\n",
              "       [8.51985395e-01],\n",
              "       [2.88886666e-01],\n",
              "       [8.78061634e-04]], dtype=float32)"
            ]
          },
          "metadata": {},
          "execution_count": 49
        }
      ]
    },
    {
      "cell_type": "code",
      "source": [
        "model_2_preds = tf.squeeze(tf.round(model_2_pred_probs))\n",
        "model_2_preds"
      ],
      "metadata": {
        "colab": {
          "base_uri": "https://localhost:8080/"
        },
        "id": "aaNBOhEtjKbQ",
        "outputId": "1e49c1eb-2384-45cc-c2ed-5082b75c3d30"
      },
      "execution_count": null,
      "outputs": [
        {
          "output_type": "execute_result",
          "data": {
            "text/plain": [
              "<tf.Tensor: shape=(762,), dtype=float32, numpy=\n",
              "array([0., 1., 1., 0., 0., 1., 1., 1., 1., 0., 0., 1., 0., 0., 0., 0., 0.,\n",
              "       0., 0., 1., 1., 0., 1., 0., 1., 1., 0., 0., 0., 0., 1., 0., 0., 0.,\n",
              "       1., 0., 1., 0., 0., 1., 0., 0., 1., 0., 1., 1., 1., 1., 0., 1., 0.,\n",
              "       0., 0., 0., 1., 0., 0., 1., 0., 0., 0., 1., 1., 0., 1., 1., 1., 0.,\n",
              "       0., 0., 0., 0., 1., 0., 0., 1., 0., 1., 0., 1., 0., 0., 1., 0., 0.,\n",
              "       0., 0., 0., 0., 1., 1., 0., 1., 0., 1., 1., 0., 1., 1., 1., 1., 0.,\n",
              "       0., 1., 1., 0., 1., 1., 0., 1., 1., 0., 0., 0., 0., 0., 1., 1., 1.,\n",
              "       0., 1., 0., 0., 1., 0., 0., 1., 0., 0., 1., 0., 1., 1., 1., 1., 0.,\n",
              "       1., 0., 0., 0., 1., 1., 0., 1., 0., 1., 0., 0., 1., 1., 0., 0., 0.,\n",
              "       0., 0., 1., 1., 0., 1., 0., 1., 0., 0., 1., 0., 0., 1., 0., 1., 0.,\n",
              "       1., 1., 1., 0., 1., 0., 0., 0., 1., 1., 0., 1., 1., 1., 1., 0., 0.,\n",
              "       1., 0., 0., 0., 1., 0., 0., 0., 0., 0., 0., 1., 0., 0., 1., 1., 0.,\n",
              "       0., 1., 1., 1., 1., 1., 0., 1., 0., 0., 0., 0., 1., 1., 1., 0., 0.,\n",
              "       0., 0., 0., 1., 0., 1., 1., 1., 1., 0., 0., 1., 0., 0., 0., 1., 0.,\n",
              "       0., 0., 1., 0., 1., 1., 0., 0., 1., 0., 0., 0., 0., 1., 0., 0., 1.,\n",
              "       0., 1., 1., 0., 0., 0., 0., 0., 1., 1., 1., 1., 0., 0., 0., 0., 0.,\n",
              "       1., 0., 0., 1., 0., 0., 1., 0., 0., 0., 1., 1., 1., 0., 1., 0., 1.,\n",
              "       0., 1., 1., 1., 0., 0., 1., 0., 0., 0., 0., 0., 0., 0., 1., 0., 0.,\n",
              "       0., 0., 0., 0., 0., 1., 0., 0., 1., 0., 1., 0., 0., 0., 0., 0., 1.,\n",
              "       0., 1., 0., 0., 1., 0., 1., 0., 0., 1., 0., 0., 1., 0., 0., 1., 1.,\n",
              "       0., 0., 1., 1., 1., 0., 1., 1., 0., 0., 0., 0., 0., 1., 1., 0., 1.,\n",
              "       1., 1., 0., 0., 0., 0., 1., 0., 0., 0., 0., 1., 0., 0., 0., 0., 0.,\n",
              "       1., 0., 0., 0., 0., 1., 1., 0., 1., 0., 1., 1., 1., 0., 1., 0., 1.,\n",
              "       0., 0., 1., 0., 1., 0., 0., 0., 0., 1., 0., 0., 1., 0., 1., 0., 0.,\n",
              "       0., 1., 1., 0., 0., 1., 1., 1., 0., 0., 1., 0., 1., 1., 1., 1., 0.,\n",
              "       0., 0., 1., 1., 1., 0., 0., 0., 0., 0., 0., 1., 0., 1., 1., 0., 1.,\n",
              "       0., 0., 0., 1., 0., 0., 0., 0., 0., 1., 1., 1., 1., 1., 0., 0., 1.,\n",
              "       1., 1., 0., 0., 0., 1., 1., 0., 0., 1., 0., 0., 1., 0., 0., 1., 0.,\n",
              "       0., 1., 0., 0., 0., 0., 0., 1., 0., 1., 1., 0., 0., 0., 0., 1., 1.,\n",
              "       0., 0., 0., 0., 1., 0., 1., 1., 1., 1., 1., 0., 0., 0., 1., 0., 0.,\n",
              "       0., 0., 0., 0., 1., 0., 1., 1., 1., 1., 0., 0., 1., 0., 0., 0., 1.,\n",
              "       0., 1., 1., 1., 1., 0., 0., 1., 0., 0., 0., 1., 1., 0., 0., 0., 0.,\n",
              "       0., 0., 0., 1., 1., 0., 1., 1., 0., 1., 0., 1., 0., 0., 0., 0., 0.,\n",
              "       0., 1., 0., 1., 0., 1., 1., 0., 0., 1., 0., 1., 0., 0., 0., 0., 0.,\n",
              "       1., 0., 0., 0., 1., 0., 0., 1., 0., 0., 0., 0., 0., 0., 0., 0., 0.,\n",
              "       0., 0., 1., 1., 1., 0., 0., 1., 1., 1., 0., 1., 0., 1., 1., 0., 1.,\n",
              "       0., 1., 1., 0., 0., 0., 0., 0., 1., 0., 1., 0., 1., 0., 0., 0., 1.,\n",
              "       0., 0., 1., 1., 1., 1., 0., 0., 0., 1., 1., 1., 0., 1., 1., 0., 0.,\n",
              "       0., 0., 1., 1., 1., 0., 0., 0., 0., 0., 0., 1., 0., 0., 0., 0., 1.,\n",
              "       0., 1., 0., 0., 0., 1., 1., 0., 0., 0., 0., 1., 0., 1., 1., 0., 1.,\n",
              "       0., 0., 1., 0., 0., 1., 1., 0., 0., 0., 0., 1., 1., 0., 1., 0., 1.,\n",
              "       0., 1., 0., 0., 0., 1., 0., 0., 0., 0., 0., 0., 0., 0., 0., 1., 0.,\n",
              "       0., 0., 0., 0., 1., 0., 0., 0., 1., 1., 0., 0., 0., 0., 1., 0., 0.,\n",
              "       1., 1., 1., 1., 1., 0., 0., 0., 1., 1., 1., 0., 1., 1., 0., 0., 0.,\n",
              "       0., 0., 0., 1., 1., 0., 1., 1., 0., 0., 0., 1., 0., 0.],\n",
              "      dtype=float32)>"
            ]
          },
          "metadata": {},
          "execution_count": 50
        }
      ]
    },
    {
      "cell_type": "code",
      "source": [
        "model_2_results = calculate_results(val_labels, model_2_preds)\n",
        "model_2_results"
      ],
      "metadata": {
        "colab": {
          "base_uri": "https://localhost:8080/"
        },
        "id": "rylyX5sWjTtn",
        "outputId": "6d787112-a058-4092-e75a-c06ed5f9a470"
      },
      "execution_count": null,
      "outputs": [
        {
          "output_type": "execute_result",
          "data": {
            "text/plain": [
              "{'accuracy': 78.21522309711287,\n",
              " 'f1': 0.7804155135464126,\n",
              " 'precision': 0.7835553063606987,\n",
              " 'recall': 0.7821522309711286}"
            ]
          },
          "metadata": {},
          "execution_count": 51
        }
      ]
    },
    {
      "cell_type": "code",
      "source": [
        "baseline_results"
      ],
      "metadata": {
        "colab": {
          "base_uri": "https://localhost:8080/"
        },
        "id": "uv_Xhp7wjZW3",
        "outputId": "deb52021-de50-4771-e416-2887f6363692"
      },
      "execution_count": null,
      "outputs": [
        {
          "output_type": "execute_result",
          "data": {
            "text/plain": [
              "{'accuracy': 79.26509186351706,\n",
              " 'f1': 0.7862189758049549,\n",
              " 'precision': 0.8111390004213173,\n",
              " 'recall': 0.7926509186351706}"
            ]
          },
          "metadata": {},
          "execution_count": 52
        }
      ]
    },
    {
      "cell_type": "code",
      "source": [
        "# Building model_3: GRU RNN model (gated recurrent unit)\n",
        "\n",
        "from tensorflow.keras import layers\n",
        "\n",
        "inputs = layers.Input(shape=(1,), dtype='string')\n",
        "x = text_vectorizer(inputs)\n",
        "x = embedding(x)\n",
        "x = layers.GRU(64)(x)\n",
        "# print(x.shape)\n",
        "# x = layers.LSTM(64)(x)\n",
        "# print(x.shape)\n",
        "# x = layers.GRU(64)(x)\n",
        "# print(x.shape)\n",
        "# x = layers.Dense(64, activation='relu')(x)\n",
        "outputs = layers.Dense(1, activation='sigmoid')(x)\n",
        "model_3 = tf.keras.Model(inputs, outputs, name='model_3_GRU')"
      ],
      "metadata": {
        "id": "IJxmFONijcC_"
      },
      "execution_count": null,
      "outputs": []
    },
    {
      "cell_type": "code",
      "source": [
        "model_3.summary()"
      ],
      "metadata": {
        "colab": {
          "base_uri": "https://localhost:8080/"
        },
        "id": "lkgjPGwrnyGk",
        "outputId": "4ba6a912-a67d-41f0-93ff-6caf5b0b2634"
      },
      "execution_count": null,
      "outputs": [
        {
          "output_type": "stream",
          "name": "stdout",
          "text": [
            "Model: \"model_3_GRU\"\n",
            "_________________________________________________________________\n",
            " Layer (type)                Output Shape              Param #   \n",
            "=================================================================\n",
            " input_3 (InputLayer)        [(None, 1)]               0         \n",
            "                                                                 \n",
            " text_vectorization_1 (TextV  (None, 15)               0         \n",
            " ectorization)                                                   \n",
            "                                                                 \n",
            " embedding (Embedding)       (None, 15, 128)           1280000   \n",
            "                                                                 \n",
            " gru (GRU)                   (None, 64)                37248     \n",
            "                                                                 \n",
            " dense_2 (Dense)             (None, 1)                 65        \n",
            "                                                                 \n",
            "=================================================================\n",
            "Total params: 1,317,313\n",
            "Trainable params: 1,317,313\n",
            "Non-trainable params: 0\n",
            "_________________________________________________________________\n"
          ]
        }
      ]
    },
    {
      "cell_type": "code",
      "source": [
        "model_3.compile(loss='binary_crossentropy',\n",
        "                optimizer=tf.keras.optimizers.Adam(),\n",
        "                metrics=['accuracy'])"
      ],
      "metadata": {
        "id": "kN3mEUfTocIF"
      },
      "execution_count": null,
      "outputs": []
    },
    {
      "cell_type": "code",
      "source": [
        "model_3_history = model_3.fit(train_sentences,\n",
        "                              train_labels,\n",
        "                              epochs=5,\n",
        "                              validation_data=(val_sentences, val_labels),\n",
        "                              callbacks=[create_tensorboard_callback(SAVE_DIR,\n",
        "                                                                     'model_3_GRU')])"
      ],
      "metadata": {
        "colab": {
          "base_uri": "https://localhost:8080/"
        },
        "id": "Nd1jT-dqpDsF",
        "outputId": "d1d6c7ba-1910-4632-df42-b0c4b5e092ba"
      },
      "execution_count": null,
      "outputs": [
        {
          "output_type": "stream",
          "name": "stdout",
          "text": [
            "Saving TensorBoard log files to: model_logs/model_3_GRU/20220621-232114\n",
            "Epoch 1/5\n",
            "215/215 [==============================] - 3s 8ms/step - loss: 0.1635 - accuracy: 0.9299 - val_loss: 0.7067 - val_accuracy: 0.7730\n",
            "Epoch 2/5\n",
            "215/215 [==============================] - 1s 6ms/step - loss: 0.0836 - accuracy: 0.9683 - val_loss: 0.7924 - val_accuracy: 0.7717\n",
            "Epoch 3/5\n",
            "215/215 [==============================] - 1s 6ms/step - loss: 0.0695 - accuracy: 0.9727 - val_loss: 0.9997 - val_accuracy: 0.7717\n",
            "Epoch 4/5\n",
            "215/215 [==============================] - 1s 6ms/step - loss: 0.0616 - accuracy: 0.9752 - val_loss: 1.0124 - val_accuracy: 0.7703\n",
            "Epoch 5/5\n",
            "215/215 [==============================] - 1s 6ms/step - loss: 0.0553 - accuracy: 0.9765 - val_loss: 1.1159 - val_accuracy: 0.7730\n"
          ]
        }
      ]
    },
    {
      "cell_type": "code",
      "source": [
        "model_3_pred_probs = model_3.predict(val_sentences)\n",
        "model_3_pred_probs"
      ],
      "metadata": {
        "colab": {
          "base_uri": "https://localhost:8080/"
        },
        "id": "GCFA3zRUpS-K",
        "outputId": "96685eb2-b654-4726-b35b-5acc110cd8eb"
      },
      "execution_count": null,
      "outputs": [
        {
          "output_type": "execute_result",
          "data": {
            "text/plain": [
              "array([[7.94338237e-04],\n",
              "       [8.00526977e-01],\n",
              "       [9.99880910e-01],\n",
              "       [6.45563900e-02],\n",
              "       [1.80755567e-04],\n",
              "       [9.99713838e-01],\n",
              "       [9.82599854e-01],\n",
              "       [9.99945045e-01],\n",
              "       [9.99912024e-01],\n",
              "       [6.04783058e-01],\n",
              "       [7.72045110e-04],\n",
              "       [9.31267917e-01],\n",
              "       [5.30900783e-04],\n",
              "       [2.11227074e-01],\n",
              "       [3.46031477e-04],\n",
              "       [3.81248677e-03],\n",
              "       [1.28083571e-03],\n",
              "       [5.60517074e-04],\n",
              "       [2.94311643e-02],\n",
              "       [9.99842048e-01],\n",
              "       [9.99160528e-01],\n",
              "       [5.49719844e-05],\n",
              "       [9.99731839e-01],\n",
              "       [3.16188275e-03],\n",
              "       [9.99907136e-01],\n",
              "       [9.99920130e-01],\n",
              "       [1.08351954e-03],\n",
              "       [1.29856635e-03],\n",
              "       [4.67773702e-04],\n",
              "       [4.50408697e-01],\n",
              "       [9.99285281e-01],\n",
              "       [1.59265066e-03],\n",
              "       [2.35981628e-01],\n",
              "       [4.37842263e-03],\n",
              "       [5.63262045e-01],\n",
              "       [3.78840655e-01],\n",
              "       [9.99843478e-01],\n",
              "       [1.50631636e-01],\n",
              "       [5.79528734e-02],\n",
              "       [9.99917507e-01],\n",
              "       [4.49118674e-01],\n",
              "       [1.14786060e-04],\n",
              "       [8.49148810e-01],\n",
              "       [2.97202088e-04],\n",
              "       [9.04356539e-01],\n",
              "       [9.99819934e-01],\n",
              "       [9.99396324e-01],\n",
              "       [9.47382629e-01],\n",
              "       [3.52278561e-03],\n",
              "       [7.43305326e-01],\n",
              "       [1.89937036e-02],\n",
              "       [3.93053710e-01],\n",
              "       [3.52648995e-03],\n",
              "       [4.45413543e-03],\n",
              "       [6.65331244e-01],\n",
              "       [1.85024925e-02],\n",
              "       [4.57200874e-03],\n",
              "       [9.99881744e-01],\n",
              "       [4.45946847e-04],\n",
              "       [1.69368542e-03],\n",
              "       [4.00511250e-02],\n",
              "       [9.99862432e-01],\n",
              "       [9.98314023e-01],\n",
              "       [1.02979336e-02],\n",
              "       [9.99837160e-01],\n",
              "       [9.99932289e-01],\n",
              "       [9.89768624e-01],\n",
              "       [8.74252245e-02],\n",
              "       [9.86597478e-01],\n",
              "       [2.34566718e-01],\n",
              "       [3.64517234e-02],\n",
              "       [7.61957169e-02],\n",
              "       [9.99918461e-01],\n",
              "       [2.62929685e-03],\n",
              "       [9.90211666e-01],\n",
              "       [9.29787934e-01],\n",
              "       [5.13450429e-02],\n",
              "       [9.99769032e-01],\n",
              "       [1.26762360e-01],\n",
              "       [4.91964221e-01],\n",
              "       [1.52435806e-03],\n",
              "       [7.88088664e-02],\n",
              "       [9.99918938e-01],\n",
              "       [2.17758678e-03],\n",
              "       [7.69173494e-04],\n",
              "       [2.21486553e-03],\n",
              "       [4.99756017e-04],\n",
              "       [1.16068113e-03],\n",
              "       [3.80104431e-03],\n",
              "       [9.99835253e-01],\n",
              "       [9.99857187e-01],\n",
              "       [1.20249031e-04],\n",
              "       [9.84291315e-01],\n",
              "       [3.31175659e-04],\n",
              "       [9.99916196e-01],\n",
              "       [8.32481802e-01],\n",
              "       [9.58189726e-01],\n",
              "       [9.99943018e-01],\n",
              "       [9.99725282e-01],\n",
              "       [9.97277439e-01],\n",
              "       [9.99966264e-01],\n",
              "       [5.56116365e-02],\n",
              "       [1.19260461e-04],\n",
              "       [9.99231100e-01],\n",
              "       [9.99745309e-01],\n",
              "       [4.03454423e-01],\n",
              "       [9.99613225e-01],\n",
              "       [9.97042477e-01],\n",
              "       [8.60064756e-04],\n",
              "       [9.99774873e-01],\n",
              "       [9.99158621e-01],\n",
              "       [5.58134576e-04],\n",
              "       [5.74512839e-01],\n",
              "       [2.40551890e-03],\n",
              "       [4.81759926e-04],\n",
              "       [4.62142415e-02],\n",
              "       [5.84665835e-01],\n",
              "       [9.99363601e-01],\n",
              "       [4.11180733e-03],\n",
              "       [6.00991305e-04],\n",
              "       [9.99935150e-01],\n",
              "       [2.31528509e-04],\n",
              "       [1.21196885e-04],\n",
              "       [9.89848971e-01],\n",
              "       [1.91279322e-01],\n",
              "       [3.48907313e-03],\n",
              "       [9.99804080e-01],\n",
              "       [1.04942599e-04],\n",
              "       [2.55398382e-03],\n",
              "       [9.98699784e-01],\n",
              "       [1.66024116e-03],\n",
              "       [9.99935150e-01],\n",
              "       [9.99950647e-01],\n",
              "       [9.99920130e-01],\n",
              "       [9.99846339e-01],\n",
              "       [1.10131525e-03],\n",
              "       [9.99877453e-01],\n",
              "       [1.38625115e-01],\n",
              "       [8.24598502e-03],\n",
              "       [1.20665412e-03],\n",
              "       [9.99935389e-01],\n",
              "       [8.35979581e-01],\n",
              "       [2.11227074e-01],\n",
              "       [9.99535441e-01],\n",
              "       [8.72370973e-02],\n",
              "       [2.86042248e-03],\n",
              "       [2.00402123e-04],\n",
              "       [2.06866185e-04],\n",
              "       [4.65743780e-01],\n",
              "       [9.99859095e-01],\n",
              "       [1.36339292e-03],\n",
              "       [3.31163779e-02],\n",
              "       [5.20340120e-03],\n",
              "       [5.21906128e-04],\n",
              "       [7.90167134e-04],\n",
              "       [9.99812663e-01],\n",
              "       [9.97322857e-01],\n",
              "       [5.37425512e-03],\n",
              "       [9.99406695e-01],\n",
              "       [3.34261684e-04],\n",
              "       [9.99865890e-01],\n",
              "       [3.37895588e-03],\n",
              "       [8.39496180e-02],\n",
              "       [9.99490380e-01],\n",
              "       [7.37941638e-02],\n",
              "       [1.30207263e-04],\n",
              "       [9.99917984e-01],\n",
              "       [4.19377349e-02],\n",
              "       [9.99830604e-01],\n",
              "       [5.00770152e-01],\n",
              "       [9.99899030e-01],\n",
              "       [9.99172747e-01],\n",
              "       [9.99596894e-01],\n",
              "       [4.62903525e-04],\n",
              "       [9.99968529e-01],\n",
              "       [5.35625266e-04],\n",
              "       [2.70801056e-02],\n",
              "       [1.08860191e-02],\n",
              "       [7.00102925e-01],\n",
              "       [9.99899387e-01],\n",
              "       [1.39289931e-03],\n",
              "       [9.95603085e-01],\n",
              "       [9.99852061e-01],\n",
              "       [9.99909639e-01],\n",
              "       [9.99914646e-01],\n",
              "       [1.82520458e-03],\n",
              "       [6.08956616e-04],\n",
              "       [9.99972224e-01],\n",
              "       [1.86395060e-04],\n",
              "       [1.83612210e-04],\n",
              "       [1.05505642e-02],\n",
              "       [9.99705017e-01],\n",
              "       [9.89492051e-04],\n",
              "       [5.99317660e-04],\n",
              "       [3.78436729e-04],\n",
              "       [2.27198028e-03],\n",
              "       [8.96957703e-04],\n",
              "       [5.95703488e-03],\n",
              "       [9.99757707e-01],\n",
              "       [5.61808096e-03],\n",
              "       [3.01371645e-02],\n",
              "       [9.99887824e-01],\n",
              "       [9.99835014e-01],\n",
              "       [6.68030325e-03],\n",
              "       [4.54824010e-04],\n",
              "       [9.99884963e-01],\n",
              "       [9.99838710e-01],\n",
              "       [9.99606550e-01],\n",
              "       [9.99306202e-01],\n",
              "       [9.98062193e-01],\n",
              "       [6.20546266e-02],\n",
              "       [9.99858379e-01],\n",
              "       [3.51945055e-04],\n",
              "       [4.58627520e-03],\n",
              "       [2.46762356e-04],\n",
              "       [1.35179798e-04],\n",
              "       [9.99891758e-01],\n",
              "       [9.84816194e-01],\n",
              "       [9.94785011e-01],\n",
              "       [2.00676337e-01],\n",
              "       [7.08806574e-01],\n",
              "       [3.67929181e-03],\n",
              "       [2.03696378e-02],\n",
              "       [7.81134516e-03],\n",
              "       [9.99861479e-01],\n",
              "       [2.85364062e-01],\n",
              "       [4.91958782e-02],\n",
              "       [9.99960303e-01],\n",
              "       [9.98604000e-01],\n",
              "       [8.97169948e-01],\n",
              "       [3.16602876e-04],\n",
              "       [9.67303943e-03],\n",
              "       [9.99083400e-01],\n",
              "       [1.98860154e-01],\n",
              "       [5.18646300e-01],\n",
              "       [2.74858288e-02],\n",
              "       [6.80641830e-01],\n",
              "       [3.39790396e-02],\n",
              "       [1.27949391e-03],\n",
              "       [6.39143283e-04],\n",
              "       [9.99376476e-01],\n",
              "       [1.45947672e-02],\n",
              "       [9.99890089e-01],\n",
              "       [9.99847293e-01],\n",
              "       [1.02429953e-03],\n",
              "       [2.39141067e-04],\n",
              "       [9.99839783e-01],\n",
              "       [3.16443853e-04],\n",
              "       [7.99891818e-03],\n",
              "       [2.06483290e-01],\n",
              "       [4.40187054e-04],\n",
              "       [9.99568522e-01],\n",
              "       [1.00994061e-04],\n",
              "       [1.06992833e-02],\n",
              "       [9.99810159e-01],\n",
              "       [9.57896262e-02],\n",
              "       [9.99794900e-01],\n",
              "       [9.99949813e-01],\n",
              "       [5.25434390e-02],\n",
              "       [2.66401417e-04],\n",
              "       [2.73152534e-03],\n",
              "       [3.59655533e-04],\n",
              "       [6.53782918e-05],\n",
              "       [9.99701202e-01],\n",
              "       [9.99896049e-01],\n",
              "       [7.57860541e-02],\n",
              "       [9.99760926e-01],\n",
              "       [5.14742627e-04],\n",
              "       [3.35596353e-02],\n",
              "       [4.93083964e-04],\n",
              "       [8.75412254e-04],\n",
              "       [4.41690354e-04],\n",
              "       [9.99845266e-01],\n",
              "       [4.67736972e-03],\n",
              "       [2.40611684e-04],\n",
              "       [9.99827087e-01],\n",
              "       [4.94665233e-04],\n",
              "       [7.36995775e-04],\n",
              "       [9.99745071e-01],\n",
              "       [5.03448595e-04],\n",
              "       [3.00465561e-02],\n",
              "       [2.13785606e-04],\n",
              "       [9.99857545e-01],\n",
              "       [8.66704702e-01],\n",
              "       [6.21876895e-01],\n",
              "       [2.05197930e-01],\n",
              "       [9.99352872e-01],\n",
              "       [1.48757882e-02],\n",
              "       [9.99589860e-01],\n",
              "       [3.95078771e-02],\n",
              "       [9.90751088e-01],\n",
              "       [9.95310843e-01],\n",
              "       [9.91018295e-01],\n",
              "       [4.14002448e-01],\n",
              "       [2.97551905e-03],\n",
              "       [4.79988873e-01],\n",
              "       [3.63889597e-02],\n",
              "       [2.38860096e-03],\n",
              "       [1.48946629e-03],\n",
              "       [7.95957521e-02],\n",
              "       [5.95868623e-05],\n",
              "       [7.56491965e-04],\n",
              "       [1.24152517e-02],\n",
              "       [9.99886513e-01],\n",
              "       [1.35806657e-03],\n",
              "       [2.40221638e-02],\n",
              "       [1.53103411e-01],\n",
              "       [8.35225135e-02],\n",
              "       [2.28640631e-01],\n",
              "       [1.13390107e-03],\n",
              "       [2.65603303e-04],\n",
              "       [9.99704540e-01],\n",
              "       [8.98862854e-02],\n",
              "       [3.19068581e-01],\n",
              "       [9.99958992e-01],\n",
              "       [4.60436015e-04],\n",
              "       [9.79116857e-01],\n",
              "       [1.55305237e-01],\n",
              "       [1.26675023e-02],\n",
              "       [6.26731962e-02],\n",
              "       [4.56504320e-04],\n",
              "       [1.77447163e-02],\n",
              "       [9.98650372e-01],\n",
              "       [9.81665552e-01],\n",
              "       [9.99870896e-01],\n",
              "       [3.49138141e-01],\n",
              "       [3.24004650e-04],\n",
              "       [9.99893188e-01],\n",
              "       [9.13640892e-04],\n",
              "       [9.99906898e-01],\n",
              "       [5.70821576e-03],\n",
              "       [1.48458104e-03],\n",
              "       [9.99846101e-01],\n",
              "       [1.17948465e-03],\n",
              "       [5.30200195e-04],\n",
              "       [9.99788821e-01],\n",
              "       [4.05726722e-04],\n",
              "       [8.55379179e-03],\n",
              "       [9.86544192e-01],\n",
              "       [9.98032153e-01],\n",
              "       [1.98428315e-04],\n",
              "       [7.45826680e-03],\n",
              "       [9.99831200e-01],\n",
              "       [9.99891400e-01],\n",
              "       [9.99665618e-01],\n",
              "       [5.75768426e-02],\n",
              "       [9.92189944e-01],\n",
              "       [9.98549640e-01],\n",
              "       [2.59663910e-03],\n",
              "       [6.34439231e-04],\n",
              "       [3.06299534e-02],\n",
              "       [9.55130607e-02],\n",
              "       [1.92396197e-04],\n",
              "       [3.39417458e-02],\n",
              "       [2.63233006e-01],\n",
              "       [2.77385174e-04],\n",
              "       [9.99823391e-01],\n",
              "       [9.99920130e-01],\n",
              "       [9.99914765e-01],\n",
              "       [3.34102008e-03],\n",
              "       [1.80952743e-01],\n",
              "       [8.11362043e-02],\n",
              "       [2.98657328e-01],\n",
              "       [9.94775891e-01],\n",
              "       [3.82183969e-01],\n",
              "       [1.84864039e-04],\n",
              "       [9.80847050e-04],\n",
              "       [4.25406412e-04],\n",
              "       [9.99590933e-01],\n",
              "       [1.34923693e-03],\n",
              "       [4.37222654e-03],\n",
              "       [4.82630712e-04],\n",
              "       [5.82223176e-04],\n",
              "       [1.88175723e-01],\n",
              "       [9.95984554e-01],\n",
              "       [5.96233867e-02],\n",
              "       [6.64328283e-04],\n",
              "       [8.83137528e-03],\n",
              "       [1.05576112e-03],\n",
              "       [9.99903798e-01],\n",
              "       [9.99728978e-01],\n",
              "       [5.66561759e-01],\n",
              "       [9.46139932e-01],\n",
              "       [2.15928405e-04],\n",
              "       [8.95857036e-01],\n",
              "       [9.99907255e-01],\n",
              "       [9.16992188e-01],\n",
              "       [6.97691739e-02],\n",
              "       [9.99718487e-01],\n",
              "       [4.22756448e-02],\n",
              "       [9.99925852e-01],\n",
              "       [2.44139973e-02],\n",
              "       [3.55720497e-03],\n",
              "       [4.04118747e-01],\n",
              "       [1.27584577e-01],\n",
              "       [9.99827623e-01],\n",
              "       [6.66277558e-02],\n",
              "       [1.54196838e-04],\n",
              "       [7.67430291e-04],\n",
              "       [3.82183969e-01],\n",
              "       [9.99972224e-01],\n",
              "       [8.72299788e-05],\n",
              "       [1.33876562e-01],\n",
              "       [9.99931097e-01],\n",
              "       [7.84838339e-05],\n",
              "       [9.99935150e-01],\n",
              "       [2.09279638e-03],\n",
              "       [2.69667269e-03],\n",
              "       [4.67457721e-04],\n",
              "       [9.99713480e-01],\n",
              "       [9.97006595e-01],\n",
              "       [1.99323241e-03],\n",
              "       [4.41445824e-04],\n",
              "       [9.96314943e-01],\n",
              "       [9.99900937e-01],\n",
              "       [6.12843037e-01],\n",
              "       [4.12965950e-04],\n",
              "       [6.35615503e-03],\n",
              "       [3.92001867e-01],\n",
              "       [6.84808649e-04],\n",
              "       [9.99937654e-01],\n",
              "       [9.81300175e-01],\n",
              "       [9.99934793e-01],\n",
              "       [9.99853969e-01],\n",
              "       [1.67511106e-02],\n",
              "       [5.06523013e-01],\n",
              "       [9.26667824e-04],\n",
              "       [9.99656200e-01],\n",
              "       [9.74311173e-01],\n",
              "       [9.97223973e-01],\n",
              "       [4.19037230e-03],\n",
              "       [9.18244198e-03],\n",
              "       [3.93323787e-03],\n",
              "       [2.38034612e-04],\n",
              "       [8.31384864e-03],\n",
              "       [2.58532558e-02],\n",
              "       [9.97459114e-01],\n",
              "       [2.17337720e-03],\n",
              "       [9.99937892e-01],\n",
              "       [9.99894977e-01],\n",
              "       [3.28409392e-03],\n",
              "       [8.00526977e-01],\n",
              "       [2.87508173e-03],\n",
              "       [2.36001075e-03],\n",
              "       [2.42474973e-01],\n",
              "       [9.98421431e-01],\n",
              "       [7.39456387e-03],\n",
              "       [2.31622197e-02],\n",
              "       [1.67868202e-04],\n",
              "       [4.82289214e-03],\n",
              "       [6.16409015e-05],\n",
              "       [9.99894619e-01],\n",
              "       [9.99256313e-01],\n",
              "       [9.99898672e-01],\n",
              "       [9.94832158e-01],\n",
              "       [9.87229645e-01],\n",
              "       [4.41208994e-03],\n",
              "       [3.32698459e-04],\n",
              "       [9.92615104e-01],\n",
              "       [9.99507546e-01],\n",
              "       [9.99896049e-01],\n",
              "       [7.45278259e-04],\n",
              "       [3.44442064e-03],\n",
              "       [6.03643246e-04],\n",
              "       [9.99906659e-01],\n",
              "       [9.99894500e-01],\n",
              "       [1.49563397e-03],\n",
              "       [3.15205604e-02],\n",
              "       [9.99953985e-01],\n",
              "       [3.59203876e-03],\n",
              "       [9.08850692e-03],\n",
              "       [9.99072552e-01],\n",
              "       [6.48532354e-04],\n",
              "       [1.70373265e-03],\n",
              "       [9.97922361e-01],\n",
              "       [1.87969044e-01],\n",
              "       [3.89933318e-01],\n",
              "       [9.99951482e-01],\n",
              "       [3.42235668e-04],\n",
              "       [3.27129802e-03],\n",
              "       [1.49021958e-04],\n",
              "       [2.26689925e-04],\n",
              "       [5.43983746e-03],\n",
              "       [9.99889135e-01],\n",
              "       [4.20869357e-04],\n",
              "       [6.16142988e-01],\n",
              "       [9.88611162e-01],\n",
              "       [5.36042228e-02],\n",
              "       [9.73599255e-02],\n",
              "       [1.23571896e-04],\n",
              "       [1.96194532e-03],\n",
              "       [9.99926329e-01],\n",
              "       [9.99830365e-01],\n",
              "       [1.06933191e-02],\n",
              "       [9.62973805e-04],\n",
              "       [7.91262719e-04],\n",
              "       [3.14799719e-04],\n",
              "       [9.99676228e-01],\n",
              "       [5.94459241e-04],\n",
              "       [9.99758065e-01],\n",
              "       [9.98837531e-01],\n",
              "       [9.45500612e-01],\n",
              "       [9.60865855e-01],\n",
              "       [3.93034875e-01],\n",
              "       [7.64207095e-02],\n",
              "       [1.80746720e-03],\n",
              "       [8.31761062e-02],\n",
              "       [8.16256464e-01],\n",
              "       [9.75099683e-01],\n",
              "       [6.86217099e-02],\n",
              "       [2.53523793e-03],\n",
              "       [1.40760079e-04],\n",
              "       [7.28788320e-04],\n",
              "       [4.44007665e-02],\n",
              "       [2.27107257e-01],\n",
              "       [5.10382131e-02],\n",
              "       [9.99930024e-01],\n",
              "       [9.99728501e-01],\n",
              "       [8.32481802e-01],\n",
              "       [9.99891520e-01],\n",
              "       [5.05250357e-02],\n",
              "       [2.09104945e-03],\n",
              "       [9.99776542e-01],\n",
              "       [9.57091432e-03],\n",
              "       [1.55713188e-03],\n",
              "       [2.42296919e-01],\n",
              "       [9.90531564e-01],\n",
              "       [1.19514210e-04],\n",
              "       [9.51030791e-01],\n",
              "       [9.96740878e-01],\n",
              "       [9.99606788e-01],\n",
              "       [9.99820888e-01],\n",
              "       [2.41609919e-03],\n",
              "       [4.07232866e-02],\n",
              "       [9.86290872e-01],\n",
              "       [2.99679465e-04],\n",
              "       [1.58418380e-02],\n",
              "       [3.41544487e-02],\n",
              "       [9.99515653e-01],\n",
              "       [9.95036423e-01],\n",
              "       [3.47197731e-03],\n",
              "       [3.61076160e-03],\n",
              "       [8.04437101e-01],\n",
              "       [1.37792621e-03],\n",
              "       [3.61222913e-03],\n",
              "       [1.77042326e-04],\n",
              "       [4.23395365e-01],\n",
              "       [9.99916792e-01],\n",
              "       [9.99072909e-01],\n",
              "       [3.03030759e-03],\n",
              "       [9.99812543e-01],\n",
              "       [9.99905229e-01],\n",
              "       [1.05562962e-04],\n",
              "       [9.99835968e-01],\n",
              "       [3.16869281e-02],\n",
              "       [9.56776619e-01],\n",
              "       [1.05790623e-01],\n",
              "       [3.44763044e-03],\n",
              "       [5.06856886e-04],\n",
              "       [3.48403060e-04],\n",
              "       [4.95848898e-03],\n",
              "       [2.05781456e-04],\n",
              "       [9.79926169e-01],\n",
              "       [1.85565511e-03],\n",
              "       [9.99889255e-01],\n",
              "       [1.03054591e-03],\n",
              "       [9.96561706e-01],\n",
              "       [9.93145227e-01],\n",
              "       [2.83217547e-03],\n",
              "       [1.02410000e-03],\n",
              "       [9.99943852e-01],\n",
              "       [4.29360243e-03],\n",
              "       [9.99884129e-01],\n",
              "       [3.17699045e-01],\n",
              "       [1.68241821e-02],\n",
              "       [4.81903166e-01],\n",
              "       [2.51564919e-03],\n",
              "       [7.87874237e-02],\n",
              "       [9.99905229e-01],\n",
              "       [1.76629066e-04],\n",
              "       [8.92743177e-04],\n",
              "       [7.03612790e-02],\n",
              "       [9.99911070e-01],\n",
              "       [1.60189904e-02],\n",
              "       [9.11370735e-04],\n",
              "       [9.99204695e-01],\n",
              "       [1.80603965e-04],\n",
              "       [5.31812722e-04],\n",
              "       [8.78753839e-04],\n",
              "       [2.35365108e-01],\n",
              "       [8.98834597e-03],\n",
              "       [3.81225169e-01],\n",
              "       [7.43511021e-01],\n",
              "       [4.26243879e-02],\n",
              "       [3.45874025e-04],\n",
              "       [5.73025504e-03],\n",
              "       [1.44569422e-04],\n",
              "       [9.98650372e-01],\n",
              "       [9.97940958e-01],\n",
              "       [1.19248278e-01],\n",
              "       [2.18487519e-04],\n",
              "       [6.97705429e-03],\n",
              "       [9.99894738e-01],\n",
              "       [8.12518597e-01],\n",
              "       [9.99961734e-01],\n",
              "       [1.36623171e-03],\n",
              "       [9.99746382e-01],\n",
              "       [1.35329401e-03],\n",
              "       [9.62530553e-01],\n",
              "       [8.99662137e-01],\n",
              "       [1.77312642e-04],\n",
              "       [9.99903917e-01],\n",
              "       [7.21380999e-03],\n",
              "       [9.98187006e-01],\n",
              "       [9.99956846e-01],\n",
              "       [9.82453860e-03],\n",
              "       [3.09134542e-04],\n",
              "       [4.95949745e-01],\n",
              "       [3.93173977e-04],\n",
              "       [3.46366987e-02],\n",
              "       [9.99884963e-01],\n",
              "       [2.56332874e-01],\n",
              "       [9.99592245e-01],\n",
              "       [6.42668232e-02],\n",
              "       [9.99791682e-01],\n",
              "       [9.86547351e-01],\n",
              "       [1.71710178e-02],\n",
              "       [2.79548141e-04],\n",
              "       [9.95124042e-01],\n",
              "       [5.24388859e-04],\n",
              "       [1.53741822e-01],\n",
              "       [9.99927044e-01],\n",
              "       [9.99234438e-01],\n",
              "       [9.99921441e-01],\n",
              "       [9.99740303e-01],\n",
              "       [2.42388204e-01],\n",
              "       [9.94800925e-01],\n",
              "       [8.40221765e-04],\n",
              "       [2.39721850e-01],\n",
              "       [9.99203503e-01],\n",
              "       [9.99736845e-01],\n",
              "       [5.31692058e-04],\n",
              "       [9.98652816e-01],\n",
              "       [9.99897361e-01],\n",
              "       [6.93805050e-03],\n",
              "       [7.23918620e-03],\n",
              "       [6.86217099e-02],\n",
              "       [1.37501326e-03],\n",
              "       [8.17157567e-01],\n",
              "       [9.79026794e-01],\n",
              "       [9.99885201e-01],\n",
              "       [7.38789269e-04],\n",
              "       [2.80300213e-04],\n",
              "       [3.99484532e-04],\n",
              "       [9.86214280e-02],\n",
              "       [7.91207328e-03],\n",
              "       [3.06063686e-02],\n",
              "       [9.85020161e-01],\n",
              "       [2.01874631e-04],\n",
              "       [2.29719236e-01],\n",
              "       [5.83512224e-02],\n",
              "       [3.59743349e-02],\n",
              "       [9.99786317e-01],\n",
              "       [1.90220529e-03],\n",
              "       [9.98788178e-01],\n",
              "       [8.63202661e-03],\n",
              "       [9.72316993e-05],\n",
              "       [8.49070377e-04],\n",
              "       [9.99930143e-01],\n",
              "       [6.97619259e-01],\n",
              "       [4.62666823e-04],\n",
              "       [3.98007572e-01],\n",
              "       [3.05465579e-01],\n",
              "       [2.12152401e-04],\n",
              "       [9.99838471e-01],\n",
              "       [2.79506529e-03],\n",
              "       [9.84686017e-01],\n",
              "       [4.28972900e-01],\n",
              "       [1.04069326e-03],\n",
              "       [4.47866797e-01],\n",
              "       [5.76634668e-02],\n",
              "       [1.71315521e-02],\n",
              "       [9.99875546e-01],\n",
              "       [1.47615187e-02],\n",
              "       [1.99230209e-01],\n",
              "       [9.99886751e-01],\n",
              "       [4.03175503e-01],\n",
              "       [1.29053444e-01],\n",
              "       [1.19514210e-04],\n",
              "       [1.71579018e-01],\n",
              "       [6.46932483e-01],\n",
              "       [9.99935150e-01],\n",
              "       [9.92900848e-01],\n",
              "       [4.16556783e-02],\n",
              "       [9.99904871e-01],\n",
              "       [2.44147465e-01],\n",
              "       [9.99680042e-01],\n",
              "       [2.44147465e-01],\n",
              "       [9.99924660e-01],\n",
              "       [1.49497180e-04],\n",
              "       [1.13237370e-02],\n",
              "       [1.83813841e-04],\n",
              "       [9.99922037e-01],\n",
              "       [1.72498412e-02],\n",
              "       [4.10922291e-03],\n",
              "       [3.15577665e-04],\n",
              "       [4.17728815e-03],\n",
              "       [2.00654473e-03],\n",
              "       [1.39714533e-03],\n",
              "       [1.31804440e-02],\n",
              "       [3.80773935e-03],\n",
              "       [4.20715334e-03],\n",
              "       [9.98628736e-01],\n",
              "       [1.14434806e-03],\n",
              "       [2.32136939e-02],\n",
              "       [5.09830075e-04],\n",
              "       [2.04415497e-04],\n",
              "       [1.06143773e-01],\n",
              "       [9.99035239e-01],\n",
              "       [2.28998554e-03],\n",
              "       [1.27318334e-02],\n",
              "       [7.79206632e-03],\n",
              "       [9.95443463e-01],\n",
              "       [9.99834776e-01],\n",
              "       [4.98131907e-04],\n",
              "       [4.30859916e-04],\n",
              "       [3.62864434e-04],\n",
              "       [5.31077858e-05],\n",
              "       [9.99855876e-01],\n",
              "       [2.04415497e-04],\n",
              "       [1.16231069e-02],\n",
              "       [9.99827385e-01],\n",
              "       [9.99895811e-01],\n",
              "       [9.99908328e-01],\n",
              "       [9.99961376e-01],\n",
              "       [9.99984860e-01],\n",
              "       [1.95079879e-03],\n",
              "       [8.50099314e-04],\n",
              "       [4.33512107e-02],\n",
              "       [9.98648942e-01],\n",
              "       [9.99923944e-01],\n",
              "       [9.79691327e-01],\n",
              "       [1.21924793e-03],\n",
              "       [9.99040306e-01],\n",
              "       [6.16147757e-01],\n",
              "       [1.03922772e-04],\n",
              "       [3.92472750e-04],\n",
              "       [2.66225426e-03],\n",
              "       [4.40532453e-02],\n",
              "       [2.04885553e-04],\n",
              "       [6.34084688e-03],\n",
              "       [9.96424854e-01],\n",
              "       [9.99951482e-01],\n",
              "       [4.09213331e-04],\n",
              "       [9.99873519e-01],\n",
              "       [6.00913107e-01],\n",
              "       [4.22900058e-02],\n",
              "       [4.90979180e-02],\n",
              "       [9.19091422e-03],\n",
              "       [8.17535639e-01],\n",
              "       [3.09557710e-02],\n",
              "       [4.71034058e-04]], dtype=float32)"
            ]
          },
          "metadata": {},
          "execution_count": 57
        }
      ]
    },
    {
      "cell_type": "code",
      "source": [
        "model_3_preds = tf.squeeze(tf.round(model_3_pred_probs))\n",
        "model_3_preds"
      ],
      "metadata": {
        "colab": {
          "base_uri": "https://localhost:8080/"
        },
        "id": "GsgafbIjpkct",
        "outputId": "44dc2d1f-6dd8-408f-b911-f08ce4ee862b"
      },
      "execution_count": null,
      "outputs": [
        {
          "output_type": "execute_result",
          "data": {
            "text/plain": [
              "<tf.Tensor: shape=(762,), dtype=float32, numpy=\n",
              "array([0., 1., 1., 0., 0., 1., 1., 1., 1., 1., 0., 1., 0., 0., 0., 0., 0.,\n",
              "       0., 0., 1., 1., 0., 1., 0., 1., 1., 0., 0., 0., 0., 1., 0., 0., 0.,\n",
              "       1., 0., 1., 0., 0., 1., 0., 0., 1., 0., 1., 1., 1., 1., 0., 1., 0.,\n",
              "       0., 0., 0., 1., 0., 0., 1., 0., 0., 0., 1., 1., 0., 1., 1., 1., 0.,\n",
              "       1., 0., 0., 0., 1., 0., 1., 1., 0., 1., 0., 0., 0., 0., 1., 0., 0.,\n",
              "       0., 0., 0., 0., 1., 1., 0., 1., 0., 1., 1., 1., 1., 1., 1., 1., 0.,\n",
              "       0., 1., 1., 0., 1., 1., 0., 1., 1., 0., 1., 0., 0., 0., 1., 1., 0.,\n",
              "       0., 1., 0., 0., 1., 0., 0., 1., 0., 0., 1., 0., 1., 1., 1., 1., 0.,\n",
              "       1., 0., 0., 0., 1., 1., 0., 1., 0., 0., 0., 0., 0., 1., 0., 0., 0.,\n",
              "       0., 0., 1., 1., 0., 1., 0., 1., 0., 0., 1., 0., 0., 1., 0., 1., 1.,\n",
              "       1., 1., 1., 0., 1., 0., 0., 0., 1., 1., 0., 1., 1., 1., 1., 0., 0.,\n",
              "       1., 0., 0., 0., 1., 0., 0., 0., 0., 0., 0., 1., 0., 0., 1., 1., 0.,\n",
              "       0., 1., 1., 1., 1., 1., 0., 1., 0., 0., 0., 0., 1., 1., 1., 0., 1.,\n",
              "       0., 0., 0., 1., 0., 0., 1., 1., 1., 0., 0., 1., 0., 1., 0., 1., 0.,\n",
              "       0., 0., 1., 0., 1., 1., 0., 0., 1., 0., 0., 0., 0., 1., 0., 0., 1.,\n",
              "       0., 1., 1., 0., 0., 0., 0., 0., 1., 1., 0., 1., 0., 0., 0., 0., 0.,\n",
              "       1., 0., 0., 1., 0., 0., 1., 0., 0., 0., 1., 1., 1., 0., 1., 0., 1.,\n",
              "       0., 1., 1., 1., 0., 0., 0., 0., 0., 0., 0., 0., 0., 0., 1., 0., 0.,\n",
              "       0., 0., 0., 0., 0., 1., 0., 0., 1., 0., 1., 0., 0., 0., 0., 0., 1.,\n",
              "       1., 1., 0., 0., 1., 0., 1., 0., 0., 1., 0., 0., 1., 0., 0., 1., 1.,\n",
              "       0., 0., 1., 1., 1., 0., 1., 1., 0., 0., 0., 0., 0., 0., 0., 0., 1.,\n",
              "       1., 1., 0., 0., 0., 0., 1., 0., 0., 0., 0., 1., 0., 0., 0., 0., 0.,\n",
              "       1., 0., 0., 0., 0., 1., 1., 1., 1., 0., 1., 1., 1., 0., 1., 0., 1.,\n",
              "       0., 0., 0., 0., 1., 0., 0., 0., 0., 1., 0., 0., 1., 0., 1., 0., 0.,\n",
              "       0., 1., 1., 0., 0., 1., 1., 1., 0., 0., 0., 0., 1., 1., 1., 1., 0.,\n",
              "       1., 0., 1., 1., 1., 0., 0., 0., 0., 0., 0., 1., 0., 1., 1., 0., 1.,\n",
              "       0., 0., 0., 1., 0., 0., 0., 0., 0., 1., 1., 1., 1., 1., 0., 0., 1.,\n",
              "       1., 1., 0., 0., 0., 1., 1., 0., 0., 1., 0., 0., 1., 0., 0., 1., 0.,\n",
              "       0., 1., 0., 0., 0., 0., 0., 1., 0., 1., 1., 0., 0., 0., 0., 1., 1.,\n",
              "       0., 0., 0., 0., 1., 0., 1., 1., 1., 1., 0., 0., 0., 0., 1., 1., 0.,\n",
              "       0., 0., 0., 0., 0., 0., 1., 1., 1., 1., 0., 0., 1., 0., 0., 0., 1.,\n",
              "       0., 1., 1., 1., 1., 0., 0., 1., 0., 0., 0., 1., 1., 0., 0., 1., 0.,\n",
              "       0., 0., 0., 1., 1., 0., 1., 1., 0., 1., 0., 1., 0., 0., 0., 0., 0.,\n",
              "       0., 1., 0., 1., 0., 1., 1., 0., 0., 1., 0., 1., 0., 0., 0., 0., 0.,\n",
              "       1., 0., 0., 0., 1., 0., 0., 1., 0., 0., 0., 0., 0., 0., 1., 0., 0.,\n",
              "       0., 0., 1., 1., 0., 0., 0., 1., 1., 1., 0., 1., 0., 1., 1., 0., 1.,\n",
              "       0., 1., 1., 0., 0., 0., 0., 0., 1., 0., 1., 0., 1., 1., 0., 0., 1.,\n",
              "       0., 0., 1., 1., 1., 1., 0., 1., 0., 0., 1., 1., 0., 1., 1., 0., 0.,\n",
              "       0., 0., 1., 1., 1., 0., 0., 0., 0., 0., 0., 1., 0., 0., 0., 0., 1.,\n",
              "       0., 1., 0., 0., 0., 1., 1., 0., 0., 0., 0., 1., 0., 1., 0., 0., 0.,\n",
              "       0., 0., 1., 0., 0., 1., 0., 0., 0., 0., 1., 1., 1., 0., 1., 0., 1.,\n",
              "       0., 1., 0., 0., 0., 1., 0., 0., 0., 0., 0., 0., 0., 0., 0., 1., 0.,\n",
              "       0., 0., 0., 0., 1., 0., 0., 0., 1., 1., 0., 0., 0., 0., 1., 0., 0.,\n",
              "       1., 1., 1., 1., 1., 0., 0., 0., 1., 1., 1., 0., 1., 1., 0., 0., 0.,\n",
              "       0., 0., 0., 1., 1., 0., 1., 1., 0., 0., 0., 1., 0., 0.],\n",
              "      dtype=float32)>"
            ]
          },
          "metadata": {},
          "execution_count": 58
        }
      ]
    },
    {
      "cell_type": "code",
      "source": [
        "model_3_results = calculate_results(val_labels, model_3_preds)\n",
        "model_3_results"
      ],
      "metadata": {
        "colab": {
          "base_uri": "https://localhost:8080/"
        },
        "id": "QTKvah_-prQm",
        "outputId": "e67b4cb0-75e4-493b-ce09-6cb27c0cb33f"
      },
      "execution_count": null,
      "outputs": [
        {
          "output_type": "execute_result",
          "data": {
            "text/plain": [
              "{'accuracy': 77.29658792650919,\n",
              " 'f1': 0.7710949612836401,\n",
              " 'precision': 0.7742755789705,\n",
              " 'recall': 0.7729658792650919}"
            ]
          },
          "metadata": {},
          "execution_count": 59
        }
      ]
    },
    {
      "cell_type": "code",
      "source": [
        "baseline_results"
      ],
      "metadata": {
        "id": "PTYXacqepvi9",
        "outputId": "60ad1933-9d87-4dfa-e4f1-b3799a5b31d4",
        "colab": {
          "base_uri": "https://localhost:8080/"
        }
      },
      "execution_count": null,
      "outputs": [
        {
          "output_type": "execute_result",
          "data": {
            "text/plain": [
              "{'accuracy': 79.26509186351706,\n",
              " 'f1': 0.7862189758049549,\n",
              " 'precision': 0.8111390004213173,\n",
              " 'recall': 0.7926509186351706}"
            ]
          },
          "metadata": {},
          "execution_count": 60
        }
      ]
    },
    {
      "cell_type": "code",
      "source": [
        "# Model_4 bidirectional RNN model\n",
        "\n",
        "inputs = layers.Input(shape=(1,),  dtype='string')\n",
        "x = text_vectorizer(inputs)\n",
        "x = embedding(x)\n",
        "# x = layers.Bidirectional(layers.LSTM(64, return_sequences=True))(x)\n",
        "x = layers.Bidirectional(layers.LSTM(64))(x)\n",
        "outputs = layers.Dense(1, activation='sigmoid')(x)\n",
        "\n",
        "model_4 = tf.keras.Model(inputs, outputs, name='model_4_bidrectional_RNN')"
      ],
      "metadata": {
        "id": "9eOcFnZLpw4l"
      },
      "execution_count": null,
      "outputs": []
    },
    {
      "cell_type": "code",
      "source": [
        "model_4.summary()"
      ],
      "metadata": {
        "colab": {
          "base_uri": "https://localhost:8080/"
        },
        "id": "WOz-3Pwa6jf9",
        "outputId": "9ba87fa0-e922-4aca-9683-d70f0bf6dd3f"
      },
      "execution_count": null,
      "outputs": [
        {
          "output_type": "stream",
          "name": "stdout",
          "text": [
            "Model: \"model_4_bidrectional_RNN\"\n",
            "_________________________________________________________________\n",
            " Layer (type)                Output Shape              Param #   \n",
            "=================================================================\n",
            " input_4 (InputLayer)        [(None, 1)]               0         \n",
            "                                                                 \n",
            " text_vectorization_1 (TextV  (None, 15)               0         \n",
            " ectorization)                                                   \n",
            "                                                                 \n",
            " embedding (Embedding)       (None, 15, 128)           1280000   \n",
            "                                                                 \n",
            " bidirectional (Bidirectiona  (None, 128)              98816     \n",
            " l)                                                              \n",
            "                                                                 \n",
            " dense_3 (Dense)             (None, 1)                 129       \n",
            "                                                                 \n",
            "=================================================================\n",
            "Total params: 1,378,945\n",
            "Trainable params: 1,378,945\n",
            "Non-trainable params: 0\n",
            "_________________________________________________________________\n"
          ]
        }
      ]
    },
    {
      "cell_type": "code",
      "source": [
        "model_4.compile(loss='binary_crossentropy',\n",
        "                optimizer=tf.keras.optimizers.Adam(),\n",
        "                metrics=['accuracy'])"
      ],
      "metadata": {
        "id": "OFLGt0eL6pln"
      },
      "execution_count": null,
      "outputs": []
    },
    {
      "cell_type": "code",
      "source": [
        "model_4_history = model_4.fit(train_sentences,\n",
        "                              train_labels,\n",
        "                              epochs=5,\n",
        "                              validation_data=(val_sentences, val_labels),\n",
        "                              callbacks=[create_tensorboard_callback(SAVE_DIR,\n",
        "                                                                     'model_4_bidrectional_RNN')])"
      ],
      "metadata": {
        "colab": {
          "base_uri": "https://localhost:8080/"
        },
        "id": "AmdXFzhe7jTX",
        "outputId": "f45a9323-6325-4a80-e0fb-8a9a14b2f21f"
      },
      "execution_count": null,
      "outputs": [
        {
          "output_type": "stream",
          "name": "stdout",
          "text": [
            "Saving TensorBoard log files to: model_logs/model_4_bidrectional_RNN/20220621-232124\n",
            "Epoch 1/5\n",
            "215/215 [==============================] - 5s 11ms/step - loss: 0.1054 - accuracy: 0.9657 - val_loss: 0.9123 - val_accuracy: 0.7743\n",
            "Epoch 2/5\n",
            "215/215 [==============================] - 2s 8ms/step - loss: 0.0520 - accuracy: 0.9764 - val_loss: 1.2093 - val_accuracy: 0.7690\n",
            "Epoch 3/5\n",
            "215/215 [==============================] - 2s 8ms/step - loss: 0.0451 - accuracy: 0.9790 - val_loss: 1.3446 - val_accuracy: 0.7664\n",
            "Epoch 4/5\n",
            "215/215 [==============================] - 2s 8ms/step - loss: 0.0431 - accuracy: 0.9807 - val_loss: 1.4451 - val_accuracy: 0.7756\n",
            "Epoch 5/5\n",
            "215/215 [==============================] - 2s 8ms/step - loss: 0.0455 - accuracy: 0.9796 - val_loss: 1.1470 - val_accuracy: 0.7730\n"
          ]
        }
      ]
    },
    {
      "cell_type": "code",
      "source": [
        "model_4_pred_probs = model_4.predict(val_sentences)\n",
        "model_4_pred_probs"
      ],
      "metadata": {
        "colab": {
          "base_uri": "https://localhost:8080/"
        },
        "id": "VCkliBZj7y9m",
        "outputId": "a778f368-d6de-4678-de34-9a6252b628e8"
      },
      "execution_count": null,
      "outputs": [
        {
          "output_type": "execute_result",
          "data": {
            "text/plain": [
              "array([[2.66032219e-01],\n",
              "       [5.30036032e-01],\n",
              "       [9.99976754e-01],\n",
              "       [2.49328747e-01],\n",
              "       [3.57999699e-04],\n",
              "       [9.99595225e-01],\n",
              "       [9.53794658e-01],\n",
              "       [9.99986410e-01],\n",
              "       [9.99973893e-01],\n",
              "       [7.69403577e-01],\n",
              "       [7.22731987e-04],\n",
              "       [9.41704988e-01],\n",
              "       [8.47480085e-04],\n",
              "       [3.32804799e-01],\n",
              "       [3.04864603e-04],\n",
              "       [1.79991908e-02],\n",
              "       [8.75173311e-04],\n",
              "       [9.56986623e-04],\n",
              "       [1.27540857e-01],\n",
              "       [9.99757707e-01],\n",
              "       [9.99882579e-01],\n",
              "       [2.74841936e-04],\n",
              "       [9.99937057e-01],\n",
              "       [2.15856475e-03],\n",
              "       [9.99908447e-01],\n",
              "       [9.99980092e-01],\n",
              "       [9.30616690e-04],\n",
              "       [1.24678640e-02],\n",
              "       [1.38386118e-03],\n",
              "       [3.67995203e-01],\n",
              "       [9.98720825e-01],\n",
              "       [5.90797653e-03],\n",
              "       [2.58625429e-02],\n",
              "       [7.10220635e-03],\n",
              "       [5.00897825e-01],\n",
              "       [2.96098679e-01],\n",
              "       [9.99941349e-01],\n",
              "       [3.47387969e-01],\n",
              "       [1.24629349e-01],\n",
              "       [9.99965906e-01],\n",
              "       [8.05616140e-01],\n",
              "       [4.92135470e-04],\n",
              "       [6.42926812e-01],\n",
              "       [3.41514387e-04],\n",
              "       [9.87343192e-01],\n",
              "       [9.99903083e-01],\n",
              "       [9.98831570e-01],\n",
              "       [9.69486177e-01],\n",
              "       [1.04167601e-02],\n",
              "       [9.88875151e-01],\n",
              "       [2.94994120e-03],\n",
              "       [3.22405756e-01],\n",
              "       [3.36932503e-02],\n",
              "       [9.65687096e-01],\n",
              "       [5.67015886e-01],\n",
              "       [6.43203259e-02],\n",
              "       [1.17841829e-02],\n",
              "       [9.99949932e-01],\n",
              "       [1.98500440e-03],\n",
              "       [4.27683204e-04],\n",
              "       [1.11895323e-01],\n",
              "       [9.99956489e-01],\n",
              "       [9.99741733e-01],\n",
              "       [8.13729223e-03],\n",
              "       [9.99962330e-01],\n",
              "       [9.99980569e-01],\n",
              "       [9.84604776e-01],\n",
              "       [4.79664505e-01],\n",
              "       [9.91366208e-01],\n",
              "       [2.82469988e-01],\n",
              "       [1.21730771e-02],\n",
              "       [2.20590487e-01],\n",
              "       [9.99968529e-01],\n",
              "       [4.74765524e-03],\n",
              "       [9.99402761e-01],\n",
              "       [9.81031120e-01],\n",
              "       [4.39884737e-02],\n",
              "       [9.99965310e-01],\n",
              "       [4.10046130e-01],\n",
              "       [1.46586195e-01],\n",
              "       [2.26050848e-03],\n",
              "       [2.29012430e-01],\n",
              "       [9.99982357e-01],\n",
              "       [1.77381712e-03],\n",
              "       [3.52796633e-04],\n",
              "       [8.65734241e-04],\n",
              "       [3.16130841e-04],\n",
              "       [8.71200464e-04],\n",
              "       [1.27219120e-02],\n",
              "       [9.99937057e-01],\n",
              "       [9.99966502e-01],\n",
              "       [9.57780168e-04],\n",
              "       [9.64446485e-01],\n",
              "       [1.38247351e-03],\n",
              "       [9.99983549e-01],\n",
              "       [5.61517596e-01],\n",
              "       [9.94340897e-01],\n",
              "       [9.99953032e-01],\n",
              "       [9.99848127e-01],\n",
              "       [9.97360289e-01],\n",
              "       [9.99980450e-01],\n",
              "       [1.93950608e-02],\n",
              "       [7.89814512e-05],\n",
              "       [9.98458862e-01],\n",
              "       [9.99458492e-01],\n",
              "       [2.47660384e-01],\n",
              "       [9.99738038e-01],\n",
              "       [9.99747932e-01],\n",
              "       [4.88650636e-04],\n",
              "       [9.99749720e-01],\n",
              "       [9.94822860e-01],\n",
              "       [1.38483476e-03],\n",
              "       [8.63424718e-01],\n",
              "       [2.64224596e-03],\n",
              "       [2.58870330e-03],\n",
              "       [3.55705887e-01],\n",
              "       [9.28343892e-01],\n",
              "       [9.99717295e-01],\n",
              "       [8.43123998e-03],\n",
              "       [7.26900296e-04],\n",
              "       [9.99983430e-01],\n",
              "       [2.67512136e-04],\n",
              "       [3.14356119e-04],\n",
              "       [9.76302743e-01],\n",
              "       [1.76290601e-01],\n",
              "       [1.90846296e-03],\n",
              "       [9.99717653e-01],\n",
              "       [1.95192450e-04],\n",
              "       [1.63341558e-03],\n",
              "       [9.99337137e-01],\n",
              "       [4.82685195e-04],\n",
              "       [9.99983430e-01],\n",
              "       [9.99985337e-01],\n",
              "       [9.99980092e-01],\n",
              "       [9.99961495e-01],\n",
              "       [4.46617045e-03],\n",
              "       [9.99976873e-01],\n",
              "       [3.51451010e-01],\n",
              "       [2.08322126e-02],\n",
              "       [2.14858027e-03],\n",
              "       [9.99986410e-01],\n",
              "       [9.15822804e-01],\n",
              "       [3.32804799e-01],\n",
              "       [9.99827087e-01],\n",
              "       [1.61563724e-01],\n",
              "       [7.15863239e-03],\n",
              "       [3.15545796e-04],\n",
              "       [1.53900284e-04],\n",
              "       [8.33463520e-02],\n",
              "       [9.99934793e-01],\n",
              "       [1.24619051e-03],\n",
              "       [4.10878628e-01],\n",
              "       [1.54942684e-02],\n",
              "       [1.02197134e-03],\n",
              "       [2.28442382e-02],\n",
              "       [9.99952435e-01],\n",
              "       [9.99835730e-01],\n",
              "       [1.88176688e-02],\n",
              "       [9.99921441e-01],\n",
              "       [2.68586009e-04],\n",
              "       [9.99913454e-01],\n",
              "       [1.85762737e-02],\n",
              "       [1.68135315e-01],\n",
              "       [9.99921799e-01],\n",
              "       [9.21642855e-02],\n",
              "       [7.58101640e-04],\n",
              "       [9.99978423e-01],\n",
              "       [9.81035531e-02],\n",
              "       [9.99970436e-01],\n",
              "       [9.58205581e-01],\n",
              "       [9.99957800e-01],\n",
              "       [9.99784529e-01],\n",
              "       [9.99532938e-01],\n",
              "       [3.97546071e-04],\n",
              "       [9.99982476e-01],\n",
              "       [4.13167407e-04],\n",
              "       [6.41015843e-02],\n",
              "       [6.25482434e-03],\n",
              "       [8.17412734e-01],\n",
              "       [9.99954820e-01],\n",
              "       [1.70063670e-03],\n",
              "       [9.98663902e-01],\n",
              "       [9.99962926e-01],\n",
              "       [9.99976993e-01],\n",
              "       [9.99964237e-01],\n",
              "       [5.14686981e-04],\n",
              "       [7.33280380e-04],\n",
              "       [9.99991417e-01],\n",
              "       [1.54434325e-04],\n",
              "       [2.32747407e-04],\n",
              "       [1.35504648e-01],\n",
              "       [9.99798596e-01],\n",
              "       [4.21063189e-04],\n",
              "       [4.91899322e-04],\n",
              "       [1.92188658e-04],\n",
              "       [6.45768037e-03],\n",
              "       [1.02015678e-03],\n",
              "       [1.61957443e-02],\n",
              "       [9.99807656e-01],\n",
              "       [2.86764279e-03],\n",
              "       [1.07420579e-01],\n",
              "       [9.99968648e-01],\n",
              "       [9.99945402e-01],\n",
              "       [1.65158436e-01],\n",
              "       [1.40636379e-03],\n",
              "       [9.99986529e-01],\n",
              "       [9.99929667e-01],\n",
              "       [9.99902725e-01],\n",
              "       [9.91869688e-01],\n",
              "       [9.97912705e-01],\n",
              "       [2.37536252e-01],\n",
              "       [9.99971867e-01],\n",
              "       [4.21841425e-04],\n",
              "       [1.15642473e-02],\n",
              "       [9.35530043e-05],\n",
              "       [9.24799242e-05],\n",
              "       [9.99816358e-01],\n",
              "       [9.93619263e-01],\n",
              "       [9.97023165e-01],\n",
              "       [4.24568772e-01],\n",
              "       [8.66799116e-01],\n",
              "       [2.28562653e-02],\n",
              "       [5.38566289e-03],\n",
              "       [2.69959718e-02],\n",
              "       [9.99973416e-01],\n",
              "       [4.56361562e-01],\n",
              "       [1.97657919e-03],\n",
              "       [9.99989748e-01],\n",
              "       [9.98435199e-01],\n",
              "       [9.68023062e-01],\n",
              "       [1.79315306e-04],\n",
              "       [1.91824604e-02],\n",
              "       [9.99418020e-01],\n",
              "       [2.40898609e-01],\n",
              "       [4.03122336e-01],\n",
              "       [1.96146443e-02],\n",
              "       [8.81108940e-01],\n",
              "       [5.12761949e-03],\n",
              "       [8.02368950e-03],\n",
              "       [6.79142540e-04],\n",
              "       [9.99474108e-01],\n",
              "       [1.01214685e-01],\n",
              "       [9.99987721e-01],\n",
              "       [9.99899149e-01],\n",
              "       [1.34112558e-03],\n",
              "       [2.67797441e-04],\n",
              "       [9.99903917e-01],\n",
              "       [6.60626276e-04],\n",
              "       [2.85088131e-03],\n",
              "       [4.16906416e-01],\n",
              "       [2.87089380e-04],\n",
              "       [9.99675035e-01],\n",
              "       [7.30375614e-05],\n",
              "       [2.15264061e-03],\n",
              "       [9.99946117e-01],\n",
              "       [1.70742244e-01],\n",
              "       [9.99944806e-01],\n",
              "       [9.99988437e-01],\n",
              "       [9.95602459e-02],\n",
              "       [3.65994871e-04],\n",
              "       [3.04228207e-03],\n",
              "       [6.49919675e-04],\n",
              "       [1.21096156e-04],\n",
              "       [9.99946594e-01],\n",
              "       [9.99970913e-01],\n",
              "       [8.04919720e-01],\n",
              "       [9.99878645e-01],\n",
              "       [3.53459996e-04],\n",
              "       [6.04930846e-03],\n",
              "       [5.02421928e-04],\n",
              "       [3.81808891e-03],\n",
              "       [9.01044870e-04],\n",
              "       [9.99954224e-01],\n",
              "       [7.62597285e-03],\n",
              "       [1.21301171e-04],\n",
              "       [9.99949217e-01],\n",
              "       [4.91295301e-04],\n",
              "       [3.52026895e-03],\n",
              "       [9.99764264e-01],\n",
              "       [1.77536113e-03],\n",
              "       [3.33046843e-03],\n",
              "       [5.92049910e-04],\n",
              "       [9.99969602e-01],\n",
              "       [9.42457616e-01],\n",
              "       [5.60550213e-01],\n",
              "       [8.93722892e-01],\n",
              "       [9.99842405e-01],\n",
              "       [1.31526701e-02],\n",
              "       [9.99246597e-01],\n",
              "       [1.71475425e-01],\n",
              "       [9.72569227e-01],\n",
              "       [9.96602535e-01],\n",
              "       [9.95797753e-01],\n",
              "       [9.48571742e-01],\n",
              "       [7.38035049e-03],\n",
              "       [4.00656760e-01],\n",
              "       [6.47471892e-03],\n",
              "       [3.42565076e-03],\n",
              "       [1.03192672e-03],\n",
              "       [2.28473738e-01],\n",
              "       [1.44602382e-04],\n",
              "       [8.11033533e-04],\n",
              "       [7.73852021e-02],\n",
              "       [9.99966502e-01],\n",
              "       [1.27171155e-03],\n",
              "       [4.42159139e-02],\n",
              "       [3.90298963e-02],\n",
              "       [2.60117114e-01],\n",
              "       [3.32727700e-01],\n",
              "       [6.63287879e-04],\n",
              "       [2.84583599e-04],\n",
              "       [9.99872565e-01],\n",
              "       [2.52468377e-01],\n",
              "       [3.51238847e-01],\n",
              "       [9.99979615e-01],\n",
              "       [7.19964097e-04],\n",
              "       [9.91580427e-01],\n",
              "       [2.31874675e-01],\n",
              "       [2.28356291e-02],\n",
              "       [2.26620227e-01],\n",
              "       [7.90260499e-04],\n",
              "       [1.57084633e-02],\n",
              "       [9.99799788e-01],\n",
              "       [8.34086597e-01],\n",
              "       [9.99974966e-01],\n",
              "       [2.48127967e-01],\n",
              "       [2.78102263e-04],\n",
              "       [9.99980330e-01],\n",
              "       [3.04134632e-03],\n",
              "       [9.99971032e-01],\n",
              "       [1.89345190e-03],\n",
              "       [7.82255258e-04],\n",
              "       [9.99944925e-01],\n",
              "       [1.05697324e-03],\n",
              "       [2.64675822e-04],\n",
              "       [9.99507785e-01],\n",
              "       [1.50480133e-04],\n",
              "       [2.44563445e-03],\n",
              "       [9.93012846e-01],\n",
              "       [9.99420404e-01],\n",
              "       [5.31598052e-04],\n",
              "       [2.36468296e-02],\n",
              "       [9.99965310e-01],\n",
              "       [9.99939084e-01],\n",
              "       [9.99446571e-01],\n",
              "       [1.54083058e-01],\n",
              "       [9.94685173e-01],\n",
              "       [9.97996390e-01],\n",
              "       [4.73403418e-03],\n",
              "       [1.10188290e-03],\n",
              "       [6.61622137e-02],\n",
              "       [5.53188622e-02],\n",
              "       [3.83106206e-04],\n",
              "       [5.37466288e-01],\n",
              "       [3.90760690e-01],\n",
              "       [2.29322512e-04],\n",
              "       [9.99963164e-01],\n",
              "       [9.99980092e-01],\n",
              "       [9.99971032e-01],\n",
              "       [1.77610654e-03],\n",
              "       [2.99515516e-01],\n",
              "       [5.71179569e-01],\n",
              "       [2.79075503e-01],\n",
              "       [9.97768521e-01],\n",
              "       [3.47517669e-01],\n",
              "       [8.89661547e-04],\n",
              "       [9.59887751e-04],\n",
              "       [8.03380564e-04],\n",
              "       [9.99914885e-01],\n",
              "       [6.37857127e-04],\n",
              "       [1.02830445e-02],\n",
              "       [9.45342530e-04],\n",
              "       [9.33867996e-04],\n",
              "       [2.30292425e-01],\n",
              "       [9.93467510e-01],\n",
              "       [1.62642390e-01],\n",
              "       [8.42923298e-04],\n",
              "       [5.08467890e-02],\n",
              "       [3.37324031e-02],\n",
              "       [9.99974608e-01],\n",
              "       [9.99704540e-01],\n",
              "       [9.63349223e-01],\n",
              "       [8.15335691e-01],\n",
              "       [1.06309068e-04],\n",
              "       [9.87816155e-01],\n",
              "       [9.99983191e-01],\n",
              "       [9.92774010e-01],\n",
              "       [9.54115316e-02],\n",
              "       [9.99408603e-01],\n",
              "       [7.07197264e-02],\n",
              "       [9.99953508e-01],\n",
              "       [6.93559766e-01],\n",
              "       [6.31237822e-03],\n",
              "       [5.55981934e-01],\n",
              "       [9.17349085e-02],\n",
              "       [9.99964833e-01],\n",
              "       [5.28154895e-02],\n",
              "       [3.18740727e-04],\n",
              "       [7.89314508e-04],\n",
              "       [3.47517669e-01],\n",
              "       [9.99987006e-01],\n",
              "       [2.74008868e-04],\n",
              "       [2.67592251e-01],\n",
              "       [9.99974132e-01],\n",
              "       [2.63691443e-04],\n",
              "       [9.99983430e-01],\n",
              "       [4.23658919e-03],\n",
              "       [2.36978033e-03],\n",
              "       [8.86404363e-04],\n",
              "       [9.99631643e-01],\n",
              "       [9.99488354e-01],\n",
              "       [1.89570896e-03],\n",
              "       [3.75308009e-04],\n",
              "       [9.99761164e-01],\n",
              "       [9.99956012e-01],\n",
              "       [5.69385767e-01],\n",
              "       [5.05962467e-04],\n",
              "       [4.03022319e-02],\n",
              "       [4.87554669e-01],\n",
              "       [4.35826601e-04],\n",
              "       [9.99981165e-01],\n",
              "       [9.96500611e-01],\n",
              "       [9.99983430e-01],\n",
              "       [9.99946475e-01],\n",
              "       [2.15866063e-02],\n",
              "       [9.61295545e-01],\n",
              "       [5.75523172e-03],\n",
              "       [9.99917746e-01],\n",
              "       [9.85578775e-01],\n",
              "       [9.96625066e-01],\n",
              "       [1.62302342e-03],\n",
              "       [6.38996899e-01],\n",
              "       [6.79767109e-04],\n",
              "       [3.21905769e-04],\n",
              "       [2.26569921e-01],\n",
              "       [4.59423363e-02],\n",
              "       [9.96547639e-01],\n",
              "       [1.36872306e-02],\n",
              "       [9.99982715e-01],\n",
              "       [9.99973416e-01],\n",
              "       [3.99460550e-03],\n",
              "       [5.30036032e-01],\n",
              "       [8.01442750e-03],\n",
              "       [2.36523710e-03],\n",
              "       [4.16389912e-01],\n",
              "       [9.97981906e-01],\n",
              "       [1.39318835e-02],\n",
              "       [5.49538173e-02],\n",
              "       [1.29382111e-04],\n",
              "       [7.11749587e-03],\n",
              "       [3.09520285e-04],\n",
              "       [9.99967813e-01],\n",
              "       [9.99951720e-01],\n",
              "       [9.99981284e-01],\n",
              "       [9.96501446e-01],\n",
              "       [9.88368571e-01],\n",
              "       [4.92254645e-02],\n",
              "       [5.03121410e-04],\n",
              "       [9.99538183e-01],\n",
              "       [9.99860644e-01],\n",
              "       [9.99982715e-01],\n",
              "       [1.04836444e-03],\n",
              "       [1.57451928e-02],\n",
              "       [7.25725957e-04],\n",
              "       [9.99985933e-01],\n",
              "       [9.99974728e-01],\n",
              "       [1.06452471e-02],\n",
              "       [2.50723641e-02],\n",
              "       [9.99972343e-01],\n",
              "       [3.15967128e-02],\n",
              "       [8.71392898e-03],\n",
              "       [9.99960184e-01],\n",
              "       [8.95555888e-04],\n",
              "       [4.99574817e-04],\n",
              "       [9.99063671e-01],\n",
              "       [3.12336713e-01],\n",
              "       [6.35392249e-01],\n",
              "       [9.99966741e-01],\n",
              "       [9.75065224e-04],\n",
              "       [1.09021587e-03],\n",
              "       [3.25261499e-04],\n",
              "       [2.41207046e-04],\n",
              "       [8.09946912e-04],\n",
              "       [9.99964237e-01],\n",
              "       [2.82497203e-04],\n",
              "       [9.17686701e-01],\n",
              "       [9.92604375e-01],\n",
              "       [1.45570114e-01],\n",
              "       [2.45235965e-01],\n",
              "       [1.72430591e-04],\n",
              "       [5.04289428e-03],\n",
              "       [9.99983668e-01],\n",
              "       [9.99955654e-01],\n",
              "       [6.85955025e-03],\n",
              "       [1.76103378e-03],\n",
              "       [1.73039816e-03],\n",
              "       [4.03163023e-04],\n",
              "       [9.99492049e-01],\n",
              "       [6.54194213e-04],\n",
              "       [9.99376714e-01],\n",
              "       [9.99224663e-01],\n",
              "       [9.95874703e-01],\n",
              "       [9.96104717e-01],\n",
              "       [9.65780914e-01],\n",
              "       [4.09482956e-01],\n",
              "       [1.53206778e-03],\n",
              "       [1.90782636e-01],\n",
              "       [6.02963686e-01],\n",
              "       [9.85716939e-01],\n",
              "       [2.13396594e-01],\n",
              "       [5.38317114e-03],\n",
              "       [4.15445858e-04],\n",
              "       [6.03106397e-04],\n",
              "       [8.35018605e-03],\n",
              "       [4.81393486e-01],\n",
              "       [2.27073103e-01],\n",
              "       [9.99977350e-01],\n",
              "       [9.99823034e-01],\n",
              "       [5.61517596e-01],\n",
              "       [9.99839783e-01],\n",
              "       [5.72792850e-02],\n",
              "       [8.83731409e-04],\n",
              "       [9.99833107e-01],\n",
              "       [5.26083671e-02],\n",
              "       [1.54199579e-03],\n",
              "       [3.28991652e-01],\n",
              "       [9.98855591e-01],\n",
              "       [1.00454265e-04],\n",
              "       [9.41418767e-01],\n",
              "       [9.90398765e-01],\n",
              "       [9.99725997e-01],\n",
              "       [9.99835014e-01],\n",
              "       [3.63846384e-02],\n",
              "       [2.78302412e-02],\n",
              "       [9.97481644e-01],\n",
              "       [6.59637561e-04],\n",
              "       [3.08207534e-02],\n",
              "       [7.64519423e-02],\n",
              "       [9.99214888e-01],\n",
              "       [9.89013195e-01],\n",
              "       [1.29603525e-03],\n",
              "       [1.23529846e-03],\n",
              "       [9.94248986e-01],\n",
              "       [2.54703779e-03],\n",
              "       [1.26926659e-03],\n",
              "       [2.60403985e-03],\n",
              "       [3.46357018e-01],\n",
              "       [9.99982953e-01],\n",
              "       [9.98069346e-01],\n",
              "       [4.13644351e-02],\n",
              "       [9.99969959e-01],\n",
              "       [9.99972224e-01],\n",
              "       [1.76274712e-04],\n",
              "       [9.99965072e-01],\n",
              "       [9.43472050e-03],\n",
              "       [9.93741453e-01],\n",
              "       [2.92758554e-01],\n",
              "       [3.15682478e-02],\n",
              "       [7.12870096e-04],\n",
              "       [5.34143997e-04],\n",
              "       [1.63505785e-02],\n",
              "       [9.97565221e-04],\n",
              "       [9.93940473e-01],\n",
              "       [5.77589311e-03],\n",
              "       [9.99979854e-01],\n",
              "       [9.64039064e-04],\n",
              "       [9.98607934e-01],\n",
              "       [9.96099949e-01],\n",
              "       [3.33374343e-03],\n",
              "       [1.75707659e-03],\n",
              "       [9.99982357e-01],\n",
              "       [1.20857789e-03],\n",
              "       [9.99965429e-01],\n",
              "       [2.74667650e-01],\n",
              "       [4.76006325e-03],\n",
              "       [7.82595336e-01],\n",
              "       [7.81317521e-03],\n",
              "       [1.00482859e-01],\n",
              "       [9.99972224e-01],\n",
              "       [1.08754321e-04],\n",
              "       [5.57386316e-04],\n",
              "       [1.68423772e-01],\n",
              "       [9.99984503e-01],\n",
              "       [4.70045447e-01],\n",
              "       [9.49041278e-04],\n",
              "       [9.99920249e-01],\n",
              "       [4.95429907e-04],\n",
              "       [9.50448494e-03],\n",
              "       [3.76281748e-03],\n",
              "       [6.32178724e-01],\n",
              "       [6.98190765e-04],\n",
              "       [4.06525761e-01],\n",
              "       [8.78303587e-01],\n",
              "       [1.75673924e-02],\n",
              "       [7.37217022e-03],\n",
              "       [1.31976679e-01],\n",
              "       [3.44822445e-04],\n",
              "       [9.99835968e-01],\n",
              "       [9.99756992e-01],\n",
              "       [3.76538038e-01],\n",
              "       [2.21088980e-04],\n",
              "       [2.78398138e-03],\n",
              "       [9.99971151e-01],\n",
              "       [9.73889053e-01],\n",
              "       [9.99910355e-01],\n",
              "       [2.16010585e-03],\n",
              "       [9.99771774e-01],\n",
              "       [7.73265201e-04],\n",
              "       [9.95656610e-01],\n",
              "       [9.87218738e-01],\n",
              "       [2.57072126e-04],\n",
              "       [9.99969840e-01],\n",
              "       [1.05916653e-02],\n",
              "       [9.92749333e-01],\n",
              "       [9.99979973e-01],\n",
              "       [1.37806851e-02],\n",
              "       [2.81218061e-04],\n",
              "       [9.44583476e-01],\n",
              "       [2.63033086e-04],\n",
              "       [1.76100418e-01],\n",
              "       [9.99986529e-01],\n",
              "       [3.19279909e-01],\n",
              "       [9.99100208e-01],\n",
              "       [3.23521703e-01],\n",
              "       [9.99933720e-01],\n",
              "       [9.82484639e-01],\n",
              "       [4.98339571e-02],\n",
              "       [1.82437754e-04],\n",
              "       [9.97076392e-01],\n",
              "       [3.29921459e-04],\n",
              "       [2.61439055e-01],\n",
              "       [9.99962091e-01],\n",
              "       [9.99178946e-01],\n",
              "       [9.99978304e-01],\n",
              "       [9.99710619e-01],\n",
              "       [9.16815102e-01],\n",
              "       [9.98122990e-01],\n",
              "       [1.99484453e-03],\n",
              "       [8.57474506e-01],\n",
              "       [9.97957587e-01],\n",
              "       [9.99808967e-01],\n",
              "       [8.94593366e-04],\n",
              "       [9.98524606e-01],\n",
              "       [9.99961019e-01],\n",
              "       [1.50063084e-02],\n",
              "       [7.90353306e-03],\n",
              "       [2.13396594e-01],\n",
              "       [1.06274737e-02],\n",
              "       [9.90340412e-01],\n",
              "       [9.84456301e-01],\n",
              "       [9.99978662e-01],\n",
              "       [1.29432359e-03],\n",
              "       [1.36314993e-04],\n",
              "       [2.11716106e-04],\n",
              "       [3.78894031e-01],\n",
              "       [9.38033033e-03],\n",
              "       [1.45669505e-01],\n",
              "       [9.85099852e-01],\n",
              "       [1.68750543e-04],\n",
              "       [2.49932483e-01],\n",
              "       [1.54001400e-01],\n",
              "       [3.57627198e-02],\n",
              "       [9.99844313e-01],\n",
              "       [4.16514836e-03],\n",
              "       [9.98766422e-01],\n",
              "       [4.37133992e-03],\n",
              "       [1.02136684e-04],\n",
              "       [4.90343664e-04],\n",
              "       [9.99985218e-01],\n",
              "       [9.83054459e-01],\n",
              "       [1.81229116e-04],\n",
              "       [8.62484336e-01],\n",
              "       [6.48265243e-01],\n",
              "       [1.35989903e-04],\n",
              "       [9.99933958e-01],\n",
              "       [1.14608475e-03],\n",
              "       [9.97293293e-01],\n",
              "       [5.31239510e-01],\n",
              "       [8.52591067e-04],\n",
              "       [4.43982273e-01],\n",
              "       [2.21341327e-01],\n",
              "       [3.57352826e-03],\n",
              "       [9.99898911e-01],\n",
              "       [1.66832998e-01],\n",
              "       [5.56466520e-01],\n",
              "       [9.99959469e-01],\n",
              "       [3.90652031e-01],\n",
              "       [6.32941484e-01],\n",
              "       [1.00454265e-04],\n",
              "       [2.76494771e-01],\n",
              "       [9.91895974e-01],\n",
              "       [9.99983430e-01],\n",
              "       [8.56433630e-01],\n",
              "       [1.16683599e-02],\n",
              "       [9.99952316e-01],\n",
              "       [2.67487526e-01],\n",
              "       [9.99939680e-01],\n",
              "       [2.67487526e-01],\n",
              "       [9.99980211e-01],\n",
              "       [2.58231594e-04],\n",
              "       [1.12178758e-01],\n",
              "       [1.42235745e-04],\n",
              "       [9.99982953e-01],\n",
              "       [2.94760056e-02],\n",
              "       [1.33865303e-03],\n",
              "       [3.80276615e-04],\n",
              "       [6.38078898e-03],\n",
              "       [9.48431529e-03],\n",
              "       [6.06783782e-04],\n",
              "       [3.66055295e-02],\n",
              "       [1.24844711e-03],\n",
              "       [1.06147176e-03],\n",
              "       [9.99924421e-01],\n",
              "       [3.37850000e-03],\n",
              "       [4.27675135e-02],\n",
              "       [1.37514365e-03],\n",
              "       [1.19199969e-04],\n",
              "       [1.61778942e-01],\n",
              "       [9.99197900e-01],\n",
              "       [3.55291599e-03],\n",
              "       [9.45524126e-03],\n",
              "       [6.36086101e-03],\n",
              "       [9.84652340e-01],\n",
              "       [9.99945521e-01],\n",
              "       [2.12759507e-04],\n",
              "       [5.15153224e-04],\n",
              "       [3.36331781e-04],\n",
              "       [8.69952273e-05],\n",
              "       [9.99787152e-01],\n",
              "       [1.19199969e-04],\n",
              "       [5.45069352e-02],\n",
              "       [9.99930978e-01],\n",
              "       [9.99967337e-01],\n",
              "       [9.99976158e-01],\n",
              "       [9.99965668e-01],\n",
              "       [9.99970913e-01],\n",
              "       [2.32207752e-03],\n",
              "       [8.38111155e-04],\n",
              "       [3.22444946e-01],\n",
              "       [9.98803139e-01],\n",
              "       [9.99983788e-01],\n",
              "       [9.72299039e-01],\n",
              "       [5.48373535e-03],\n",
              "       [9.99274671e-01],\n",
              "       [6.75963998e-01],\n",
              "       [1.66547921e-04],\n",
              "       [2.00979266e-04],\n",
              "       [5.57286805e-03],\n",
              "       [2.79324427e-02],\n",
              "       [3.31794115e-04],\n",
              "       [1.82555534e-03],\n",
              "       [9.89633083e-01],\n",
              "       [9.99976754e-01],\n",
              "       [5.60837216e-04],\n",
              "       [9.99980569e-01],\n",
              "       [9.94027257e-01],\n",
              "       [9.46168080e-02],\n",
              "       [1.66152045e-02],\n",
              "       [9.58128750e-01],\n",
              "       [5.66190958e-01],\n",
              "       [7.10216537e-02],\n",
              "       [4.83693409e-04]], dtype=float32)"
            ]
          },
          "metadata": {},
          "execution_count": 65
        }
      ]
    },
    {
      "cell_type": "code",
      "source": [
        "model_4_preds = tf.squeeze(tf.round(model_4_pred_probs))\n",
        "model_4_preds"
      ],
      "metadata": {
        "colab": {
          "base_uri": "https://localhost:8080/"
        },
        "id": "Iby3UavMBF8V",
        "outputId": "afbcf9a0-7f8c-4df6-86f6-28e2e131cef7"
      },
      "execution_count": null,
      "outputs": [
        {
          "output_type": "execute_result",
          "data": {
            "text/plain": [
              "<tf.Tensor: shape=(762,), dtype=float32, numpy=\n",
              "array([0., 1., 1., 0., 0., 1., 1., 1., 1., 1., 0., 1., 0., 0., 0., 0., 0.,\n",
              "       0., 0., 1., 1., 0., 1., 0., 1., 1., 0., 0., 0., 0., 1., 0., 0., 0.,\n",
              "       1., 0., 1., 0., 0., 1., 1., 0., 1., 0., 1., 1., 1., 1., 0., 1., 0.,\n",
              "       0., 0., 1., 1., 0., 0., 1., 0., 0., 0., 1., 1., 0., 1., 1., 1., 0.,\n",
              "       1., 0., 0., 0., 1., 0., 1., 1., 0., 1., 0., 0., 0., 0., 1., 0., 0.,\n",
              "       0., 0., 0., 0., 1., 1., 0., 1., 0., 1., 1., 1., 1., 1., 1., 1., 0.,\n",
              "       0., 1., 1., 0., 1., 1., 0., 1., 1., 0., 1., 0., 0., 0., 1., 1., 0.,\n",
              "       0., 1., 0., 0., 1., 0., 0., 1., 0., 0., 1., 0., 1., 1., 1., 1., 0.,\n",
              "       1., 0., 0., 0., 1., 1., 0., 1., 0., 0., 0., 0., 0., 1., 0., 0., 0.,\n",
              "       0., 0., 1., 1., 0., 1., 0., 1., 0., 0., 1., 0., 0., 1., 0., 1., 1.,\n",
              "       1., 1., 1., 0., 1., 0., 0., 0., 1., 1., 0., 1., 1., 1., 1., 0., 0.,\n",
              "       1., 0., 0., 0., 1., 0., 0., 0., 0., 0., 0., 1., 0., 0., 1., 1., 0.,\n",
              "       0., 1., 1., 1., 1., 1., 0., 1., 0., 0., 0., 0., 1., 1., 1., 0., 1.,\n",
              "       0., 0., 0., 1., 0., 0., 1., 1., 1., 0., 0., 1., 0., 0., 0., 1., 0.,\n",
              "       0., 0., 1., 0., 1., 1., 0., 0., 1., 0., 0., 0., 0., 1., 0., 0., 1.,\n",
              "       0., 1., 1., 0., 0., 0., 0., 0., 1., 1., 1., 1., 0., 0., 0., 0., 0.,\n",
              "       1., 0., 0., 1., 0., 0., 1., 0., 0., 0., 1., 1., 1., 1., 1., 0., 1.,\n",
              "       0., 1., 1., 1., 1., 0., 0., 0., 0., 0., 0., 0., 0., 0., 1., 0., 0.,\n",
              "       0., 0., 0., 0., 0., 1., 0., 0., 1., 0., 1., 0., 0., 0., 0., 0., 1.,\n",
              "       1., 1., 0., 0., 1., 0., 1., 0., 0., 1., 0., 0., 1., 0., 0., 1., 1.,\n",
              "       0., 0., 1., 1., 1., 0., 1., 1., 0., 0., 0., 0., 0., 1., 0., 0., 1.,\n",
              "       1., 1., 0., 0., 1., 0., 1., 0., 0., 0., 0., 1., 0., 0., 0., 0., 0.,\n",
              "       1., 0., 0., 0., 0., 1., 1., 1., 1., 0., 1., 1., 1., 0., 1., 0., 1.,\n",
              "       1., 0., 1., 0., 1., 0., 0., 0., 0., 1., 0., 0., 1., 0., 1., 0., 0.,\n",
              "       0., 1., 1., 0., 0., 1., 1., 1., 0., 0., 0., 0., 1., 1., 1., 1., 0.,\n",
              "       1., 0., 1., 1., 1., 0., 1., 0., 0., 0., 0., 1., 0., 1., 1., 0., 1.,\n",
              "       0., 0., 0., 1., 0., 0., 0., 0., 0., 1., 1., 1., 1., 1., 0., 0., 1.,\n",
              "       1., 1., 0., 0., 0., 1., 1., 0., 0., 1., 0., 0., 1., 0., 0., 1., 0.,\n",
              "       1., 1., 0., 0., 0., 0., 0., 1., 0., 1., 1., 0., 0., 0., 0., 1., 1.,\n",
              "       0., 0., 0., 0., 1., 0., 1., 1., 1., 1., 1., 0., 0., 0., 1., 1., 0.,\n",
              "       0., 0., 0., 0., 0., 0., 1., 1., 1., 1., 0., 0., 1., 0., 0., 0., 1.,\n",
              "       0., 1., 1., 1., 1., 0., 0., 1., 0., 0., 0., 1., 1., 0., 0., 1., 0.,\n",
              "       0., 0., 0., 1., 1., 0., 1., 1., 0., 1., 0., 1., 0., 0., 0., 0., 0.,\n",
              "       0., 1., 0., 1., 0., 1., 1., 0., 0., 1., 0., 1., 0., 0., 1., 0., 0.,\n",
              "       1., 0., 0., 0., 1., 0., 0., 1., 0., 0., 0., 1., 0., 0., 1., 0., 0.,\n",
              "       0., 0., 1., 1., 0., 0., 0., 1., 1., 1., 0., 1., 0., 1., 1., 0., 1.,\n",
              "       0., 1., 1., 0., 0., 1., 0., 0., 1., 0., 1., 0., 1., 1., 0., 0., 1.,\n",
              "       0., 0., 1., 1., 1., 1., 1., 1., 0., 1., 1., 1., 0., 1., 1., 0., 0.,\n",
              "       0., 0., 1., 1., 1., 0., 0., 0., 0., 0., 0., 1., 0., 0., 0., 0., 1.,\n",
              "       0., 1., 0., 0., 0., 1., 1., 0., 1., 1., 0., 1., 0., 1., 1., 0., 0.,\n",
              "       0., 0., 1., 0., 1., 1., 0., 1., 0., 0., 1., 1., 1., 0., 1., 0., 1.,\n",
              "       0., 1., 0., 0., 0., 1., 0., 0., 0., 0., 0., 0., 0., 0., 0., 1., 0.,\n",
              "       0., 0., 0., 0., 1., 0., 0., 0., 1., 1., 0., 0., 0., 0., 1., 0., 0.,\n",
              "       1., 1., 1., 1., 1., 0., 0., 0., 1., 1., 1., 0., 1., 1., 0., 0., 0.,\n",
              "       0., 0., 0., 1., 1., 0., 1., 1., 0., 0., 1., 1., 0., 0.],\n",
              "      dtype=float32)>"
            ]
          },
          "metadata": {},
          "execution_count": 66
        }
      ]
    },
    {
      "cell_type": "code",
      "source": [
        "model_4_results = calculate_results(val_labels, model_4_preds)\n",
        "model_4_results"
      ],
      "metadata": {
        "colab": {
          "base_uri": "https://localhost:8080/"
        },
        "id": "mQnrfJh2BKN9",
        "outputId": "4d5e2764-0a56-4e53-e489-e676c04dbee5"
      },
      "execution_count": null,
      "outputs": [
        {
          "output_type": "execute_result",
          "data": {
            "text/plain": [
              "{'accuracy': 77.29658792650919,\n",
              " 'f1': 0.7722420798695805,\n",
              " 'precision': 0.7727060691282619,\n",
              " 'recall': 0.7729658792650919}"
            ]
          },
          "metadata": {},
          "execution_count": 67
        }
      ]
    },
    {
      "cell_type": "code",
      "source": [
        "baseline_results"
      ],
      "metadata": {
        "colab": {
          "base_uri": "https://localhost:8080/"
        },
        "id": "nV0g0qP7BNqF",
        "outputId": "25ab666e-ac86-4924-afca-0dac39d97103"
      },
      "execution_count": null,
      "outputs": [
        {
          "output_type": "execute_result",
          "data": {
            "text/plain": [
              "{'accuracy': 79.26509186351706,\n",
              " 'f1': 0.7862189758049549,\n",
              " 'precision': 0.8111390004213173,\n",
              " 'recall': 0.7926509186351706}"
            ]
          },
          "metadata": {},
          "execution_count": 68
        }
      ]
    },
    {
      "cell_type": "markdown",
      "source": [
        "Convolutional Neural networks for text (and other types of sequences)\n",
        "\n",
        "We've used CNNs for images but images are typically 2D. However, our text data is 1D.\n",
        "\n"
      ],
      "metadata": {
        "id": "Pc6d6S-6CxvL"
      }
    },
    {
      "cell_type": "code",
      "source": [
        "# Model 5 Conv1D testing (just to see shape)\n",
        "\n",
        "embedding_test = embedding(text_vectorizer(['this is a test sentence']))\n",
        "\n",
        "conv_1d = layers.Conv1D(filters=32,\n",
        "                        kernel_size=5,\n",
        "                        activation='relu',\n",
        "                        padding='valid') # choose 'same' to preserve shape\n",
        "\n",
        "conv_1d_output = conv_1d(embedding_test)\n",
        "\n",
        "max_pool = layers.GlobalMaxPool1D()\n",
        "max_pool_output = max_pool(conv_1d_output)\n",
        "\n",
        "embedding_test.shape, conv_1d_output.shape, max_pool_output.shape"
      ],
      "metadata": {
        "colab": {
          "base_uri": "https://localhost:8080/"
        },
        "id": "fenQ1CV_DGx1",
        "outputId": "3cabd552-51fc-4508-b8bd-4d4aad4b0e90"
      },
      "execution_count": null,
      "outputs": [
        {
          "output_type": "execute_result",
          "data": {
            "text/plain": [
              "(TensorShape([1, 15, 128]), TensorShape([1, 11, 32]), TensorShape([1, 32]))"
            ]
          },
          "metadata": {},
          "execution_count": 69
        }
      ]
    },
    {
      "cell_type": "code",
      "source": [
        "embedding_test"
      ],
      "metadata": {
        "colab": {
          "base_uri": "https://localhost:8080/"
        },
        "id": "fO3x82FHDvol",
        "outputId": "26ba9d1b-16fd-4dbd-a494-a3aafceff001"
      },
      "execution_count": null,
      "outputs": [
        {
          "output_type": "execute_result",
          "data": {
            "text/plain": [
              "<tf.Tensor: shape=(1, 15, 128), dtype=float32, numpy=\n",
              "array([[[ 0.04154182, -0.01096739,  0.07821174, ..., -0.07930182,\n",
              "          0.07679189,  0.07390357],\n",
              "        [-0.05109725, -0.03260261, -0.01465967, ..., -0.040549  ,\n",
              "          0.0103075 , -0.05024635],\n",
              "        [ 0.00131252, -0.01125009, -0.02821446, ..., -0.07308997,\n",
              "          0.04338907,  0.01456739],\n",
              "        ...,\n",
              "        [ 0.03978982,  0.01195832,  0.01941083, ...,  0.03025893,\n",
              "         -0.01531676,  0.00589133],\n",
              "        [ 0.03978982,  0.01195832,  0.01941083, ...,  0.03025893,\n",
              "         -0.01531676,  0.00589133],\n",
              "        [ 0.03978982,  0.01195832,  0.01941083, ...,  0.03025893,\n",
              "         -0.01531676,  0.00589133]]], dtype=float32)>"
            ]
          },
          "metadata": {},
          "execution_count": 70
        }
      ]
    },
    {
      "cell_type": "code",
      "source": [
        "conv_1d_output "
      ],
      "metadata": {
        "colab": {
          "base_uri": "https://localhost:8080/"
        },
        "id": "szLDsQ6NFIys",
        "outputId": "b05957b2-cac8-4f8f-94ba-0d66fcdf4e8e"
      },
      "execution_count": null,
      "outputs": [
        {
          "output_type": "execute_result",
          "data": {
            "text/plain": [
              "<tf.Tensor: shape=(1, 11, 32), dtype=float32, numpy=\n",
              "array([[[0.        , 0.05693575, 0.02668294, 0.08643003, 0.04766344,\n",
              "         0.07067975, 0.        , 0.01706591, 0.        , 0.        ,\n",
              "         0.01353133, 0.        , 0.02455726, 0.        , 0.06703348,\n",
              "         0.        , 0.10944051, 0.        , 0.        , 0.07566262,\n",
              "         0.        , 0.        , 0.        , 0.04674651, 0.00836219,\n",
              "         0.        , 0.        , 0.0401409 , 0.00563784, 0.01416655,\n",
              "         0.02261741, 0.00807388],\n",
              "        [0.00120058, 0.02406594, 0.03544592, 0.        , 0.        ,\n",
              "         0.        , 0.        , 0.        , 0.        , 0.01647995,\n",
              "         0.06890422, 0.07290798, 0.        , 0.03229124, 0.        ,\n",
              "         0.01746385, 0.        , 0.        , 0.        , 0.05425458,\n",
              "         0.        , 0.        , 0.0661867 , 0.        , 0.        ,\n",
              "         0.        , 0.        , 0.01981272, 0.        , 0.01640467,\n",
              "         0.03286071, 0.00177239],\n",
              "        [0.        , 0.        , 0.01774967, 0.02702886, 0.        ,\n",
              "         0.01330092, 0.        , 0.        , 0.        , 0.        ,\n",
              "         0.03592572, 0.01594709, 0.        , 0.        , 0.02361647,\n",
              "         0.04172496, 0.02350429, 0.        , 0.03690894, 0.        ,\n",
              "         0.00804117, 0.01183891, 0.0689695 , 0.00600602, 0.05617867,\n",
              "         0.        , 0.07787772, 0.        , 0.03462484, 0.00315645,\n",
              "         0.        , 0.        ],\n",
              "        [0.        , 0.        , 0.        , 0.        , 0.        ,\n",
              "         0.06057835, 0.        , 0.034584  , 0.02807853, 0.00495241,\n",
              "         0.01071109, 0.03994662, 0.        , 0.0128666 , 0.00538189,\n",
              "         0.        , 0.        , 0.03222004, 0.        , 0.        ,\n",
              "         0.        , 0.        , 0.        , 0.        , 0.1059944 ,\n",
              "         0.        , 0.02878369, 0.        , 0.01879796, 0.        ,\n",
              "         0.        , 0.0120859 ],\n",
              "        [0.        , 0.        , 0.01827724, 0.        , 0.        ,\n",
              "         0.04010483, 0.02824335, 0.        , 0.        , 0.01435548,\n",
              "         0.        , 0.02550659, 0.        , 0.        , 0.04003141,\n",
              "         0.00900327, 0.        , 0.02170511, 0.        , 0.03147734,\n",
              "         0.        , 0.        , 0.        , 0.        , 0.03750385,\n",
              "         0.        , 0.        , 0.00235569, 0.01143338, 0.        ,\n",
              "         0.01464277, 0.01593576],\n",
              "        [0.        , 0.00036391, 0.00291033, 0.        , 0.        ,\n",
              "         0.05125292, 0.        , 0.01722308, 0.        , 0.        ,\n",
              "         0.        , 0.02246644, 0.        , 0.        , 0.05902504,\n",
              "         0.        , 0.        , 0.        , 0.01411   , 0.02096439,\n",
              "         0.        , 0.        , 0.        , 0.        , 0.0234979 ,\n",
              "         0.        , 0.        , 0.        , 0.        , 0.        ,\n",
              "         0.00123597, 0.02502297],\n",
              "        [0.        , 0.00036391, 0.00291033, 0.        , 0.        ,\n",
              "         0.05125292, 0.        , 0.01722309, 0.        , 0.        ,\n",
              "         0.        , 0.02246644, 0.        , 0.        , 0.05902505,\n",
              "         0.        , 0.        , 0.        , 0.01411001, 0.0209644 ,\n",
              "         0.        , 0.        , 0.        , 0.        , 0.02349789,\n",
              "         0.        , 0.        , 0.        , 0.        , 0.        ,\n",
              "         0.00123597, 0.02502297],\n",
              "        [0.        , 0.00036391, 0.00291033, 0.        , 0.        ,\n",
              "         0.05125292, 0.        , 0.01722309, 0.        , 0.        ,\n",
              "         0.        , 0.02246645, 0.        , 0.        , 0.05902505,\n",
              "         0.        , 0.        , 0.        , 0.01411   , 0.0209644 ,\n",
              "         0.        , 0.        , 0.        , 0.        , 0.02349789,\n",
              "         0.        , 0.        , 0.        , 0.        , 0.        ,\n",
              "         0.00123598, 0.02502298],\n",
              "        [0.        , 0.00036392, 0.00291033, 0.        , 0.        ,\n",
              "         0.05125293, 0.        , 0.01722308, 0.        , 0.        ,\n",
              "         0.        , 0.02246644, 0.        , 0.        , 0.05902504,\n",
              "         0.        , 0.        , 0.        , 0.01411001, 0.0209644 ,\n",
              "         0.        , 0.        , 0.        , 0.        , 0.02349789,\n",
              "         0.        , 0.        , 0.        , 0.        , 0.        ,\n",
              "         0.00123597, 0.02502298],\n",
              "        [0.        , 0.00036392, 0.00291033, 0.        , 0.        ,\n",
              "         0.05125292, 0.        , 0.01722308, 0.        , 0.        ,\n",
              "         0.        , 0.02246644, 0.        , 0.        , 0.05902505,\n",
              "         0.        , 0.        , 0.        , 0.01411001, 0.0209644 ,\n",
              "         0.        , 0.        , 0.        , 0.        , 0.02349789,\n",
              "         0.        , 0.        , 0.        , 0.        , 0.        ,\n",
              "         0.00123598, 0.02502297],\n",
              "        [0.        , 0.00036391, 0.00291032, 0.        , 0.        ,\n",
              "         0.05125292, 0.        , 0.01722309, 0.        , 0.        ,\n",
              "         0.        , 0.02246644, 0.        , 0.        , 0.05902505,\n",
              "         0.        , 0.        , 0.        , 0.01411001, 0.0209644 ,\n",
              "         0.        , 0.        , 0.        , 0.        , 0.02349789,\n",
              "         0.        , 0.        , 0.        , 0.        , 0.        ,\n",
              "         0.00123597, 0.02502298]]], dtype=float32)>"
            ]
          },
          "metadata": {},
          "execution_count": 71
        }
      ]
    },
    {
      "cell_type": "code",
      "source": [
        "max_pool_output "
      ],
      "metadata": {
        "colab": {
          "base_uri": "https://localhost:8080/"
        },
        "id": "s2ex7VjZFLuE",
        "outputId": "8821460d-add6-4b5a-8bf4-ccb1aac34193"
      },
      "execution_count": null,
      "outputs": [
        {
          "output_type": "execute_result",
          "data": {
            "text/plain": [
              "<tf.Tensor: shape=(1, 32), dtype=float32, numpy=\n",
              "array([[0.00120058, 0.05693575, 0.03544592, 0.08643003, 0.04766344,\n",
              "        0.07067975, 0.02824335, 0.034584  , 0.02807853, 0.01647995,\n",
              "        0.06890422, 0.07290798, 0.02455726, 0.03229124, 0.06703348,\n",
              "        0.04172496, 0.10944051, 0.03222004, 0.03690894, 0.07566262,\n",
              "        0.00804117, 0.01183891, 0.0689695 , 0.04674651, 0.1059944 ,\n",
              "        0.        , 0.07787772, 0.0401409 , 0.03462484, 0.01640467,\n",
              "        0.03286071, 0.02502298]], dtype=float32)>"
            ]
          },
          "metadata": {},
          "execution_count": 72
        }
      ]
    },
    {
      "cell_type": "code",
      "source": [
        "# Model_5 Conv1D\n",
        "\n",
        "inputs = layers.Input(shape=(1,), dtype='string')\n",
        "x = text_vectorizer(inputs)\n",
        "x = embedding(x)\n",
        "x = layers.Conv1D(filters=64,\n",
        "                  kernel_size=5,\n",
        "                  activation='relu',\n",
        "                  padding='valid')(x)\n",
        "x = layers.GlobalMaxPool1D()(x)\n",
        "output = layers.Dense(1, activation='sigmoid')(x)\n",
        "model_5 = tf.keras.Model(inputs, output, name='Model_5_conv1D')"
      ],
      "metadata": {
        "id": "LkVz1X-QFNts"
      },
      "execution_count": null,
      "outputs": []
    },
    {
      "cell_type": "code",
      "source": [
        "model_5.compile(loss='binary_crossentropy',\n",
        "                optimizer=tf.keras.optimizers.Adam(),\n",
        "                metrics=['accuracy'])\n",
        "model_5.summary()"
      ],
      "metadata": {
        "colab": {
          "base_uri": "https://localhost:8080/"
        },
        "id": "6bM6PivY7Yse",
        "outputId": "702ff127-42d5-499d-ae5b-3513041db5e1"
      },
      "execution_count": null,
      "outputs": [
        {
          "output_type": "stream",
          "name": "stdout",
          "text": [
            "Model: \"Model_5_conv1D\"\n",
            "_________________________________________________________________\n",
            " Layer (type)                Output Shape              Param #   \n",
            "=================================================================\n",
            " input_5 (InputLayer)        [(None, 1)]               0         \n",
            "                                                                 \n",
            " text_vectorization_1 (TextV  (None, 15)               0         \n",
            " ectorization)                                                   \n",
            "                                                                 \n",
            " embedding (Embedding)       (None, 15, 128)           1280000   \n",
            "                                                                 \n",
            " conv1d_1 (Conv1D)           (None, 11, 64)            41024     \n",
            "                                                                 \n",
            " global_max_pooling1d_1 (Glo  (None, 64)               0         \n",
            " balMaxPooling1D)                                                \n",
            "                                                                 \n",
            " dense_4 (Dense)             (None, 1)                 65        \n",
            "                                                                 \n",
            "=================================================================\n",
            "Total params: 1,321,089\n",
            "Trainable params: 1,321,089\n",
            "Non-trainable params: 0\n",
            "_________________________________________________________________\n"
          ]
        }
      ]
    },
    {
      "cell_type": "code",
      "source": [
        "model_5_history = model_5.fit(train_sentences,\n",
        "                              train_labels,\n",
        "                              epochs=5,\n",
        "                              validation_data=(val_sentences, val_labels),\n",
        "                              callbacks=[create_tensorboard_callback(SAVE_DIR,\n",
        "                                                                     'model_5_conv1D')])"
      ],
      "metadata": {
        "colab": {
          "base_uri": "https://localhost:8080/"
        },
        "id": "gV3_Oe5k7yd3",
        "outputId": "49770e1d-28d0-488f-92cc-0774739555ea"
      },
      "execution_count": null,
      "outputs": [
        {
          "output_type": "stream",
          "name": "stdout",
          "text": [
            "Saving TensorBoard log files to: model_logs/model_5_conv1D/20220621-232143\n",
            "Epoch 1/5\n",
            "215/215 [==============================] - 3s 6ms/step - loss: 0.1216 - accuracy: 0.9622 - val_loss: 0.9105 - val_accuracy: 0.7782\n",
            "Epoch 2/5\n",
            "215/215 [==============================] - 1s 5ms/step - loss: 0.0733 - accuracy: 0.9737 - val_loss: 1.0725 - val_accuracy: 0.7717\n",
            "Epoch 3/5\n",
            "215/215 [==============================] - 1s 5ms/step - loss: 0.0598 - accuracy: 0.9771 - val_loss: 1.1955 - val_accuracy: 0.7585\n",
            "Epoch 4/5\n",
            "215/215 [==============================] - 1s 5ms/step - loss: 0.0539 - accuracy: 0.9781 - val_loss: 1.2217 - val_accuracy: 0.7585\n",
            "Epoch 5/5\n",
            "215/215 [==============================] - 1s 5ms/step - loss: 0.0502 - accuracy: 0.9788 - val_loss: 1.2355 - val_accuracy: 0.7572\n"
          ]
        }
      ]
    },
    {
      "cell_type": "code",
      "source": [
        "model_5_pred_probs = model_5.predict(val_sentences)\n",
        "model_5_preds = tf.squeeze(tf.round(model_5_pred_probs))\n",
        "model_5_results = calculate_results(val_labels, model_5_preds)\n",
        "model_5_results"
      ],
      "metadata": {
        "colab": {
          "base_uri": "https://localhost:8080/"
        },
        "id": "jZwcTsrM8Cct",
        "outputId": "8998cc39-e455-428a-f7d9-ccade3dd3932"
      },
      "execution_count": null,
      "outputs": [
        {
          "output_type": "execute_result",
          "data": {
            "text/plain": [
              "{'accuracy': 75.7217847769029,\n",
              " 'f1': 0.7562528493391418,\n",
              " 'precision': 0.7569390398906188,\n",
              " 'recall': 0.7572178477690289}"
            ]
          },
          "metadata": {},
          "execution_count": 76
        }
      ]
    },
    {
      "cell_type": "code",
      "source": [
        "# Using transfer learning for NLP (model_6 pretrained sentence encoder)\n",
        "\n",
        "import tensorflow_hub as hub\n",
        "embed = hub.load('https://tfhub.dev/google/universal-sentence-encoder/4')\n",
        "embed_samples = embed([sample_sentence, 'all hail the best of all'])\n",
        "print(embed_samples[0][:50])"
      ],
      "metadata": {
        "colab": {
          "base_uri": "https://localhost:8080/"
        },
        "id": "6mdQYYBL8TQu",
        "outputId": "f27caa0e-e122-45f4-e860-2c0827770913"
      },
      "execution_count": null,
      "outputs": [
        {
          "output_type": "stream",
          "name": "stdout",
          "text": [
            "tf.Tensor(\n",
            "[-0.01157028  0.0248591   0.02878048 -0.012715    0.03971538  0.0882776\n",
            "  0.02680984  0.05589836 -0.0106873  -0.00597291  0.00639323 -0.01819518\n",
            "  0.00030813  0.09105888  0.05874644 -0.03180628  0.01512474 -0.05162929\n",
            "  0.00991367 -0.06865347 -0.04209306  0.02678981  0.03011006  0.00321069\n",
            " -0.00337973 -0.04787357  0.0226672  -0.00985925 -0.04063613 -0.01292092\n",
            " -0.04666384  0.05630299 -0.03949255  0.00517686  0.02495829 -0.0701444\n",
            "  0.02871508  0.04947684 -0.00633979 -0.08960192  0.02807118 -0.00808364\n",
            " -0.01360602  0.0599865  -0.10361787 -0.05195374  0.00232954 -0.02332531\n",
            " -0.03758105  0.03327728], shape=(50,), dtype=float32)\n"
          ]
        }
      ]
    },
    {
      "cell_type": "code",
      "source": [
        "embed_samples[0].shape"
      ],
      "metadata": {
        "colab": {
          "base_uri": "https://localhost:8080/"
        },
        "id": "ZwxCpdiA-UwO",
        "outputId": "5b2a5e3f-2c3e-4e79-ca4c-800e276bfdad"
      },
      "execution_count": null,
      "outputs": [
        {
          "output_type": "execute_result",
          "data": {
            "text/plain": [
              "TensorShape([512])"
            ]
          },
          "metadata": {},
          "execution_count": 78
        }
      ]
    },
    {
      "cell_type": "code",
      "source": [
        "# Create a keras layer using the USE pretrained layer from tensorflow hub\n",
        "\n",
        "sentence_encode_layer = hub.KerasLayer('https://tfhub.dev/google/universal-sentence-encoder/4',\n",
        "                                       input_shape=[],\n",
        "                                       dtype='string',\n",
        "                                       trainable=False,\n",
        "                                       name='model_6_use')"
      ],
      "metadata": {
        "id": "CGFbO0jH-fJd"
      },
      "execution_count": null,
      "outputs": []
    },
    {
      "cell_type": "code",
      "source": [
        "# Create model_6 USE\n",
        "\n",
        "model_6 = tf.keras.Sequential([\n",
        "                               sentence_encode_layer,\n",
        "                               layers.Dense(64, activation='relu'),\n",
        "                               layers.Dense(1, activation='sigmoid', name='output_layer')\n",
        "], name='model_6_USE')\n",
        "\n",
        "model_6.compile(loss='binary_crossentropy',\n",
        "                optimizer=tf.keras.optimizers.Adam(),\n",
        "                metrics=['accuracy'])\n",
        "model_6.summary()"
      ],
      "metadata": {
        "colab": {
          "base_uri": "https://localhost:8080/"
        },
        "id": "nKhijicE_haW",
        "outputId": "f5683aa7-fe4b-4cfe-dfdf-9505402f5ee2"
      },
      "execution_count": null,
      "outputs": [
        {
          "output_type": "stream",
          "name": "stdout",
          "text": [
            "Model: \"model_6_USE\"\n",
            "_________________________________________________________________\n",
            " Layer (type)                Output Shape              Param #   \n",
            "=================================================================\n",
            " model_6_use (KerasLayer)    (None, 512)               256797824 \n",
            "                                                                 \n",
            " dense_5 (Dense)             (None, 64)                32832     \n",
            "                                                                 \n",
            " output_layer (Dense)        (None, 1)                 65        \n",
            "                                                                 \n",
            "=================================================================\n",
            "Total params: 256,830,721\n",
            "Trainable params: 32,897\n",
            "Non-trainable params: 256,797,824\n",
            "_________________________________________________________________\n"
          ]
        }
      ]
    },
    {
      "cell_type": "code",
      "source": [
        "model_6_history = model_6.fit(train_sentences,\n",
        "                              train_labels,\n",
        "                              epochs=5,\n",
        "                              validation_data=(val_sentences, val_labels),\n",
        "                              callbacks=[create_tensorboard_callback(SAVE_DIR,\n",
        "                                                                     'model_6_USE')])"
      ],
      "metadata": {
        "colab": {
          "base_uri": "https://localhost:8080/"
        },
        "id": "4Ynk00rSAEeO",
        "outputId": "0b191c1d-7c90-4943-8129-0248d4dd5aa4"
      },
      "execution_count": null,
      "outputs": [
        {
          "output_type": "stream",
          "name": "stdout",
          "text": [
            "Saving TensorBoard log files to: model_logs/model_6_USE/20220621-232209\n",
            "Epoch 1/5\n",
            "215/215 [==============================] - 5s 14ms/step - loss: 0.4995 - accuracy: 0.7828 - val_loss: 0.4494 - val_accuracy: 0.7966\n",
            "Epoch 2/5\n",
            "215/215 [==============================] - 3s 12ms/step - loss: 0.4155 - accuracy: 0.8136 - val_loss: 0.4409 - val_accuracy: 0.8097\n",
            "Epoch 3/5\n",
            "215/215 [==============================] - 2s 11ms/step - loss: 0.4003 - accuracy: 0.8215 - val_loss: 0.4378 - val_accuracy: 0.8097\n",
            "Epoch 4/5\n",
            "215/215 [==============================] - 2s 12ms/step - loss: 0.3930 - accuracy: 0.8240 - val_loss: 0.4272 - val_accuracy: 0.8202\n",
            "Epoch 5/5\n",
            "215/215 [==============================] - 3s 12ms/step - loss: 0.3844 - accuracy: 0.8289 - val_loss: 0.4259 - val_accuracy: 0.8136\n"
          ]
        }
      ]
    },
    {
      "cell_type": "code",
      "source": [
        "model_6_pred_probs = model_6.predict(val_sentences)\n",
        "model_6_preds = tf.squeeze(tf.round(model_6_pred_probs))\n",
        "model_6_results = calculate_results(val_labels, model_6_preds)\n",
        "model_6_results"
      ],
      "metadata": {
        "colab": {
          "base_uri": "https://localhost:8080/"
        },
        "id": "vXxGdciwAfPF",
        "outputId": "81fee121-18ed-4c94-f7f2-fc8f24a7cf98"
      },
      "execution_count": null,
      "outputs": [
        {
          "output_type": "execute_result",
          "data": {
            "text/plain": [
              "{'accuracy': 81.36482939632546,\n",
              " 'f1': 0.8129452568428948,\n",
              " 'precision': 0.813881331804605,\n",
              " 'recall': 0.8136482939632546}"
            ]
          },
          "metadata": {},
          "execution_count": 82
        }
      ]
    },
    {
      "cell_type": "code",
      "source": [
        "# # Using 10% of data on model_7\n",
        "\n",
        "# train_10_percent = train_df_shuffled[['text', 'target']].sample(frac=0.1, random_state=42)\n",
        "# train_sentences_10_percent = train_10_percent['text'].to_list()\n",
        "# train_labels_10_percent = train_10_percent['target'].to_list()\n",
        "# len(train_sentences_10_percent), len(train_labels_10_percent )"
      ],
      "metadata": {
        "id": "5gAqpRC-As6b"
      },
      "execution_count": null,
      "outputs": []
    },
    {
      "cell_type": "code",
      "source": [
        "# Fixing data leakage and retrain our model_7\n",
        "\n",
        "train_10_percent_split = int(0.1 * len(train_sentences))\n",
        "train_sentences_10_percent = train_sentences[:train_10_percent_split]\n",
        "\n",
        "train_labels_10_percent = train_labels[:train_10_percent_split]\n"
      ],
      "metadata": {
        "id": "WJtLLvWaHTm-"
      },
      "execution_count": null,
      "outputs": []
    },
    {
      "cell_type": "code",
      "source": [
        "pd.Series(np.array(train_labels_10_percent)).value_counts()"
      ],
      "metadata": {
        "colab": {
          "base_uri": "https://localhost:8080/"
        },
        "id": "SX61nHROHTuK",
        "outputId": "19331238-c838-489f-e131-06d3aec1bed6"
      },
      "execution_count": null,
      "outputs": [
        {
          "output_type": "execute_result",
          "data": {
            "text/plain": [
              "0    406\n",
              "1    279\n",
              "dtype: int64"
            ]
          },
          "metadata": {},
          "execution_count": 85
        }
      ]
    },
    {
      "cell_type": "code",
      "source": [
        "# To recreate a model same as previous, use tf.keras.models.clone_model()\n",
        "\n",
        "model_7 = tf.keras.models.clone_model(model_6)\n",
        "\n",
        "model_7.compile(loss='binary_crossentropy',\n",
        "                optimizer=tf.keras.optimizers.Adam(),\n",
        "                metrics=['accuracy'])\n",
        "\n",
        "model_7_history = model_7.fit(train_sentences_10_percent,\n",
        "                              train_labels_10_percent,\n",
        "                              epochs=5,\n",
        "                              validation_data=(val_sentences, val_labels),\n",
        "                              callbacks=[create_tensorboard_callback(SAVE_DIR,\n",
        "                                                                     'model_7_USE_10_percent_correct')])"
      ],
      "metadata": {
        "colab": {
          "base_uri": "https://localhost:8080/"
        },
        "id": "kkAoubzpDQh9",
        "outputId": "4f515511-9d55-41a9-e413-4a4f0e54b330"
      },
      "execution_count": null,
      "outputs": [
        {
          "output_type": "stream",
          "name": "stdout",
          "text": [
            "Saving TensorBoard log files to: model_logs/model_7_USE_10_percent_correct/20220621-232228\n",
            "Epoch 1/5\n",
            "22/22 [==============================] - 3s 58ms/step - loss: 0.6651 - accuracy: 0.7212 - val_loss: 0.6412 - val_accuracy: 0.7546\n",
            "Epoch 2/5\n",
            "22/22 [==============================] - 1s 26ms/step - loss: 0.5902 - accuracy: 0.8088 - val_loss: 0.5817 - val_accuracy: 0.7625\n",
            "Epoch 3/5\n",
            "22/22 [==============================] - 1s 26ms/step - loss: 0.5137 - accuracy: 0.8204 - val_loss: 0.5288 - val_accuracy: 0.7703\n",
            "Epoch 4/5\n",
            "22/22 [==============================] - 1s 25ms/step - loss: 0.4541 - accuracy: 0.8307 - val_loss: 0.4999 - val_accuracy: 0.7743\n",
            "Epoch 5/5\n",
            "22/22 [==============================] - 1s 26ms/step - loss: 0.4153 - accuracy: 0.8336 - val_loss: 0.4871 - val_accuracy: 0.7795\n"
          ]
        }
      ]
    },
    {
      "cell_type": "code",
      "source": [
        "model_7_pred_probs = model_7.predict(val_sentences)\n",
        "model_7_preds = tf.squeeze(tf.round(model_7_pred_probs))\n",
        "model_7_results = calculate_results(val_labels, model_7_preds)\n",
        "model_7_results"
      ],
      "metadata": {
        "colab": {
          "base_uri": "https://localhost:8080/"
        },
        "id": "TsazffgmEmD8",
        "outputId": "8b47f3ae-f4d2-4870-ae85-8dabd6457466"
      },
      "execution_count": null,
      "outputs": [
        {
          "output_type": "execute_result",
          "data": {
            "text/plain": [
              "{'accuracy': 77.95275590551181,\n",
              " 'f1': 0.7777699173240801,\n",
              " 'precision': 0.7808713829501961,\n",
              " 'recall': 0.7795275590551181}"
            ]
          },
          "metadata": {},
          "execution_count": 87
        }
      ]
    },
    {
      "cell_type": "code",
      "source": [
        "# Compare performance of each model"
      ],
      "metadata": {
        "id": "wLQHQUH-E3-c"
      },
      "execution_count": null,
      "outputs": []
    },
    {
      "cell_type": "code",
      "source": [
        "all_model_results = pd.DataFrame({'0_baseline': baseline_results,\n",
        "                                  '1_simple_dense': model_1_results,\n",
        "                                  '2_LSTM': model_2_results,\n",
        "                                  '3_GRU': model_3_results,\n",
        "                                  '4_bidrectional': model_4_results,\n",
        "                                  '5_conv1D': model_5_results,\n",
        "                                  '6_tf_hub_USE': model_6_results,\n",
        "                                  '7_tf_hub_USE_10_percent': model_7_results})\n",
        "all_model_results = all_model_results.transpose()\n",
        "all_model_results"
      ],
      "metadata": {
        "colab": {
          "base_uri": "https://localhost:8080/",
          "height": 300
        },
        "id": "vjhkI543Fo50",
        "outputId": "a540a04d-7928-4c3c-dda0-976445f94154"
      },
      "execution_count": null,
      "outputs": [
        {
          "output_type": "execute_result",
          "data": {
            "text/plain": [
              "                          accuracy  precision    recall        f1\n",
              "0_baseline               79.265092   0.811139  0.792651  0.786219\n",
              "1_simple_dense           78.477690   0.787051  0.784777  0.782702\n",
              "2_LSTM                   78.215223   0.783555  0.782152  0.780416\n",
              "3_GRU                    77.296588   0.774276  0.772966  0.771095\n",
              "4_bidrectional           77.296588   0.772706  0.772966  0.772242\n",
              "5_conv1D                 75.721785   0.756939  0.757218  0.756253\n",
              "6_tf_hub_USE             81.364829   0.813881  0.813648  0.812945\n",
              "7_tf_hub_USE_10_percent  77.952756   0.780871  0.779528  0.777770"
            ],
            "text/html": [
              "\n",
              "  <div id=\"df-6b70481d-bf1b-4154-bad6-5205c0e6a0ca\">\n",
              "    <div class=\"colab-df-container\">\n",
              "      <div>\n",
              "<style scoped>\n",
              "    .dataframe tbody tr th:only-of-type {\n",
              "        vertical-align: middle;\n",
              "    }\n",
              "\n",
              "    .dataframe tbody tr th {\n",
              "        vertical-align: top;\n",
              "    }\n",
              "\n",
              "    .dataframe thead th {\n",
              "        text-align: right;\n",
              "    }\n",
              "</style>\n",
              "<table border=\"1\" class=\"dataframe\">\n",
              "  <thead>\n",
              "    <tr style=\"text-align: right;\">\n",
              "      <th></th>\n",
              "      <th>accuracy</th>\n",
              "      <th>precision</th>\n",
              "      <th>recall</th>\n",
              "      <th>f1</th>\n",
              "    </tr>\n",
              "  </thead>\n",
              "  <tbody>\n",
              "    <tr>\n",
              "      <th>0_baseline</th>\n",
              "      <td>79.265092</td>\n",
              "      <td>0.811139</td>\n",
              "      <td>0.792651</td>\n",
              "      <td>0.786219</td>\n",
              "    </tr>\n",
              "    <tr>\n",
              "      <th>1_simple_dense</th>\n",
              "      <td>78.477690</td>\n",
              "      <td>0.787051</td>\n",
              "      <td>0.784777</td>\n",
              "      <td>0.782702</td>\n",
              "    </tr>\n",
              "    <tr>\n",
              "      <th>2_LSTM</th>\n",
              "      <td>78.215223</td>\n",
              "      <td>0.783555</td>\n",
              "      <td>0.782152</td>\n",
              "      <td>0.780416</td>\n",
              "    </tr>\n",
              "    <tr>\n",
              "      <th>3_GRU</th>\n",
              "      <td>77.296588</td>\n",
              "      <td>0.774276</td>\n",
              "      <td>0.772966</td>\n",
              "      <td>0.771095</td>\n",
              "    </tr>\n",
              "    <tr>\n",
              "      <th>4_bidrectional</th>\n",
              "      <td>77.296588</td>\n",
              "      <td>0.772706</td>\n",
              "      <td>0.772966</td>\n",
              "      <td>0.772242</td>\n",
              "    </tr>\n",
              "    <tr>\n",
              "      <th>5_conv1D</th>\n",
              "      <td>75.721785</td>\n",
              "      <td>0.756939</td>\n",
              "      <td>0.757218</td>\n",
              "      <td>0.756253</td>\n",
              "    </tr>\n",
              "    <tr>\n",
              "      <th>6_tf_hub_USE</th>\n",
              "      <td>81.364829</td>\n",
              "      <td>0.813881</td>\n",
              "      <td>0.813648</td>\n",
              "      <td>0.812945</td>\n",
              "    </tr>\n",
              "    <tr>\n",
              "      <th>7_tf_hub_USE_10_percent</th>\n",
              "      <td>77.952756</td>\n",
              "      <td>0.780871</td>\n",
              "      <td>0.779528</td>\n",
              "      <td>0.777770</td>\n",
              "    </tr>\n",
              "  </tbody>\n",
              "</table>\n",
              "</div>\n",
              "      <button class=\"colab-df-convert\" onclick=\"convertToInteractive('df-6b70481d-bf1b-4154-bad6-5205c0e6a0ca')\"\n",
              "              title=\"Convert this dataframe to an interactive table.\"\n",
              "              style=\"display:none;\">\n",
              "        \n",
              "  <svg xmlns=\"http://www.w3.org/2000/svg\" height=\"24px\"viewBox=\"0 0 24 24\"\n",
              "       width=\"24px\">\n",
              "    <path d=\"M0 0h24v24H0V0z\" fill=\"none\"/>\n",
              "    <path d=\"M18.56 5.44l.94 2.06.94-2.06 2.06-.94-2.06-.94-.94-2.06-.94 2.06-2.06.94zm-11 1L8.5 8.5l.94-2.06 2.06-.94-2.06-.94L8.5 2.5l-.94 2.06-2.06.94zm10 10l.94 2.06.94-2.06 2.06-.94-2.06-.94-.94-2.06-.94 2.06-2.06.94z\"/><path d=\"M17.41 7.96l-1.37-1.37c-.4-.4-.92-.59-1.43-.59-.52 0-1.04.2-1.43.59L10.3 9.45l-7.72 7.72c-.78.78-.78 2.05 0 2.83L4 21.41c.39.39.9.59 1.41.59.51 0 1.02-.2 1.41-.59l7.78-7.78 2.81-2.81c.8-.78.8-2.07 0-2.86zM5.41 20L4 18.59l7.72-7.72 1.47 1.35L5.41 20z\"/>\n",
              "  </svg>\n",
              "      </button>\n",
              "      \n",
              "  <style>\n",
              "    .colab-df-container {\n",
              "      display:flex;\n",
              "      flex-wrap:wrap;\n",
              "      gap: 12px;\n",
              "    }\n",
              "\n",
              "    .colab-df-convert {\n",
              "      background-color: #E8F0FE;\n",
              "      border: none;\n",
              "      border-radius: 50%;\n",
              "      cursor: pointer;\n",
              "      display: none;\n",
              "      fill: #1967D2;\n",
              "      height: 32px;\n",
              "      padding: 0 0 0 0;\n",
              "      width: 32px;\n",
              "    }\n",
              "\n",
              "    .colab-df-convert:hover {\n",
              "      background-color: #E2EBFA;\n",
              "      box-shadow: 0px 1px 2px rgba(60, 64, 67, 0.3), 0px 1px 3px 1px rgba(60, 64, 67, 0.15);\n",
              "      fill: #174EA6;\n",
              "    }\n",
              "\n",
              "    [theme=dark] .colab-df-convert {\n",
              "      background-color: #3B4455;\n",
              "      fill: #D2E3FC;\n",
              "    }\n",
              "\n",
              "    [theme=dark] .colab-df-convert:hover {\n",
              "      background-color: #434B5C;\n",
              "      box-shadow: 0px 1px 3px 1px rgba(0, 0, 0, 0.15);\n",
              "      filter: drop-shadow(0px 1px 2px rgba(0, 0, 0, 0.3));\n",
              "      fill: #FFFFFF;\n",
              "    }\n",
              "  </style>\n",
              "\n",
              "      <script>\n",
              "        const buttonEl =\n",
              "          document.querySelector('#df-6b70481d-bf1b-4154-bad6-5205c0e6a0ca button.colab-df-convert');\n",
              "        buttonEl.style.display =\n",
              "          google.colab.kernel.accessAllowed ? 'block' : 'none';\n",
              "\n",
              "        async function convertToInteractive(key) {\n",
              "          const element = document.querySelector('#df-6b70481d-bf1b-4154-bad6-5205c0e6a0ca');\n",
              "          const dataTable =\n",
              "            await google.colab.kernel.invokeFunction('convertToInteractive',\n",
              "                                                     [key], {});\n",
              "          if (!dataTable) return;\n",
              "\n",
              "          const docLinkHtml = 'Like what you see? Visit the ' +\n",
              "            '<a target=\"_blank\" href=https://colab.research.google.com/notebooks/data_table.ipynb>data table notebook</a>'\n",
              "            + ' to learn more about interactive tables.';\n",
              "          element.innerHTML = '';\n",
              "          dataTable['output_type'] = 'display_data';\n",
              "          await google.colab.output.renderOutput(dataTable, element);\n",
              "          const docLink = document.createElement('div');\n",
              "          docLink.innerHTML = docLinkHtml;\n",
              "          element.appendChild(docLink);\n",
              "        }\n",
              "      </script>\n",
              "    </div>\n",
              "  </div>\n",
              "  "
            ]
          },
          "metadata": {},
          "execution_count": 89
        }
      ]
    },
    {
      "cell_type": "code",
      "source": [
        "# Rescale metrics\n",
        "\n",
        "all_model_results['accuracy'] = all_model_results['accuracy']/100\n",
        "all_model_results"
      ],
      "metadata": {
        "colab": {
          "base_uri": "https://localhost:8080/",
          "height": 300
        },
        "id": "d-Uh8-0pGrIc",
        "outputId": "e8e2dfd1-7865-48b7-f62e-657b2930c098"
      },
      "execution_count": null,
      "outputs": [
        {
          "output_type": "execute_result",
          "data": {
            "text/plain": [
              "                         accuracy  precision    recall        f1\n",
              "0_baseline               0.792651   0.811139  0.792651  0.786219\n",
              "1_simple_dense           0.784777   0.787051  0.784777  0.782702\n",
              "2_LSTM                   0.782152   0.783555  0.782152  0.780416\n",
              "3_GRU                    0.772966   0.774276  0.772966  0.771095\n",
              "4_bidrectional           0.772966   0.772706  0.772966  0.772242\n",
              "5_conv1D                 0.757218   0.756939  0.757218  0.756253\n",
              "6_tf_hub_USE             0.813648   0.813881  0.813648  0.812945\n",
              "7_tf_hub_USE_10_percent  0.779528   0.780871  0.779528  0.777770"
            ],
            "text/html": [
              "\n",
              "  <div id=\"df-0b83a0dc-d935-4bc7-9abd-1f005611c66f\">\n",
              "    <div class=\"colab-df-container\">\n",
              "      <div>\n",
              "<style scoped>\n",
              "    .dataframe tbody tr th:only-of-type {\n",
              "        vertical-align: middle;\n",
              "    }\n",
              "\n",
              "    .dataframe tbody tr th {\n",
              "        vertical-align: top;\n",
              "    }\n",
              "\n",
              "    .dataframe thead th {\n",
              "        text-align: right;\n",
              "    }\n",
              "</style>\n",
              "<table border=\"1\" class=\"dataframe\">\n",
              "  <thead>\n",
              "    <tr style=\"text-align: right;\">\n",
              "      <th></th>\n",
              "      <th>accuracy</th>\n",
              "      <th>precision</th>\n",
              "      <th>recall</th>\n",
              "      <th>f1</th>\n",
              "    </tr>\n",
              "  </thead>\n",
              "  <tbody>\n",
              "    <tr>\n",
              "      <th>0_baseline</th>\n",
              "      <td>0.792651</td>\n",
              "      <td>0.811139</td>\n",
              "      <td>0.792651</td>\n",
              "      <td>0.786219</td>\n",
              "    </tr>\n",
              "    <tr>\n",
              "      <th>1_simple_dense</th>\n",
              "      <td>0.784777</td>\n",
              "      <td>0.787051</td>\n",
              "      <td>0.784777</td>\n",
              "      <td>0.782702</td>\n",
              "    </tr>\n",
              "    <tr>\n",
              "      <th>2_LSTM</th>\n",
              "      <td>0.782152</td>\n",
              "      <td>0.783555</td>\n",
              "      <td>0.782152</td>\n",
              "      <td>0.780416</td>\n",
              "    </tr>\n",
              "    <tr>\n",
              "      <th>3_GRU</th>\n",
              "      <td>0.772966</td>\n",
              "      <td>0.774276</td>\n",
              "      <td>0.772966</td>\n",
              "      <td>0.771095</td>\n",
              "    </tr>\n",
              "    <tr>\n",
              "      <th>4_bidrectional</th>\n",
              "      <td>0.772966</td>\n",
              "      <td>0.772706</td>\n",
              "      <td>0.772966</td>\n",
              "      <td>0.772242</td>\n",
              "    </tr>\n",
              "    <tr>\n",
              "      <th>5_conv1D</th>\n",
              "      <td>0.757218</td>\n",
              "      <td>0.756939</td>\n",
              "      <td>0.757218</td>\n",
              "      <td>0.756253</td>\n",
              "    </tr>\n",
              "    <tr>\n",
              "      <th>6_tf_hub_USE</th>\n",
              "      <td>0.813648</td>\n",
              "      <td>0.813881</td>\n",
              "      <td>0.813648</td>\n",
              "      <td>0.812945</td>\n",
              "    </tr>\n",
              "    <tr>\n",
              "      <th>7_tf_hub_USE_10_percent</th>\n",
              "      <td>0.779528</td>\n",
              "      <td>0.780871</td>\n",
              "      <td>0.779528</td>\n",
              "      <td>0.777770</td>\n",
              "    </tr>\n",
              "  </tbody>\n",
              "</table>\n",
              "</div>\n",
              "      <button class=\"colab-df-convert\" onclick=\"convertToInteractive('df-0b83a0dc-d935-4bc7-9abd-1f005611c66f')\"\n",
              "              title=\"Convert this dataframe to an interactive table.\"\n",
              "              style=\"display:none;\">\n",
              "        \n",
              "  <svg xmlns=\"http://www.w3.org/2000/svg\" height=\"24px\"viewBox=\"0 0 24 24\"\n",
              "       width=\"24px\">\n",
              "    <path d=\"M0 0h24v24H0V0z\" fill=\"none\"/>\n",
              "    <path d=\"M18.56 5.44l.94 2.06.94-2.06 2.06-.94-2.06-.94-.94-2.06-.94 2.06-2.06.94zm-11 1L8.5 8.5l.94-2.06 2.06-.94-2.06-.94L8.5 2.5l-.94 2.06-2.06.94zm10 10l.94 2.06.94-2.06 2.06-.94-2.06-.94-.94-2.06-.94 2.06-2.06.94z\"/><path d=\"M17.41 7.96l-1.37-1.37c-.4-.4-.92-.59-1.43-.59-.52 0-1.04.2-1.43.59L10.3 9.45l-7.72 7.72c-.78.78-.78 2.05 0 2.83L4 21.41c.39.39.9.59 1.41.59.51 0 1.02-.2 1.41-.59l7.78-7.78 2.81-2.81c.8-.78.8-2.07 0-2.86zM5.41 20L4 18.59l7.72-7.72 1.47 1.35L5.41 20z\"/>\n",
              "  </svg>\n",
              "      </button>\n",
              "      \n",
              "  <style>\n",
              "    .colab-df-container {\n",
              "      display:flex;\n",
              "      flex-wrap:wrap;\n",
              "      gap: 12px;\n",
              "    }\n",
              "\n",
              "    .colab-df-convert {\n",
              "      background-color: #E8F0FE;\n",
              "      border: none;\n",
              "      border-radius: 50%;\n",
              "      cursor: pointer;\n",
              "      display: none;\n",
              "      fill: #1967D2;\n",
              "      height: 32px;\n",
              "      padding: 0 0 0 0;\n",
              "      width: 32px;\n",
              "    }\n",
              "\n",
              "    .colab-df-convert:hover {\n",
              "      background-color: #E2EBFA;\n",
              "      box-shadow: 0px 1px 2px rgba(60, 64, 67, 0.3), 0px 1px 3px 1px rgba(60, 64, 67, 0.15);\n",
              "      fill: #174EA6;\n",
              "    }\n",
              "\n",
              "    [theme=dark] .colab-df-convert {\n",
              "      background-color: #3B4455;\n",
              "      fill: #D2E3FC;\n",
              "    }\n",
              "\n",
              "    [theme=dark] .colab-df-convert:hover {\n",
              "      background-color: #434B5C;\n",
              "      box-shadow: 0px 1px 3px 1px rgba(0, 0, 0, 0.15);\n",
              "      filter: drop-shadow(0px 1px 2px rgba(0, 0, 0, 0.3));\n",
              "      fill: #FFFFFF;\n",
              "    }\n",
              "  </style>\n",
              "\n",
              "      <script>\n",
              "        const buttonEl =\n",
              "          document.querySelector('#df-0b83a0dc-d935-4bc7-9abd-1f005611c66f button.colab-df-convert');\n",
              "        buttonEl.style.display =\n",
              "          google.colab.kernel.accessAllowed ? 'block' : 'none';\n",
              "\n",
              "        async function convertToInteractive(key) {\n",
              "          const element = document.querySelector('#df-0b83a0dc-d935-4bc7-9abd-1f005611c66f');\n",
              "          const dataTable =\n",
              "            await google.colab.kernel.invokeFunction('convertToInteractive',\n",
              "                                                     [key], {});\n",
              "          if (!dataTable) return;\n",
              "\n",
              "          const docLinkHtml = 'Like what you see? Visit the ' +\n",
              "            '<a target=\"_blank\" href=https://colab.research.google.com/notebooks/data_table.ipynb>data table notebook</a>'\n",
              "            + ' to learn more about interactive tables.';\n",
              "          element.innerHTML = '';\n",
              "          dataTable['output_type'] = 'display_data';\n",
              "          await google.colab.output.renderOutput(dataTable, element);\n",
              "          const docLink = document.createElement('div');\n",
              "          docLink.innerHTML = docLinkHtml;\n",
              "          element.appendChild(docLink);\n",
              "        }\n",
              "      </script>\n",
              "    </div>\n",
              "  </div>\n",
              "  "
            ]
          },
          "metadata": {},
          "execution_count": 90
        }
      ]
    },
    {
      "cell_type": "code",
      "source": [
        "all_model_results.plot(kind='bar', figsize=(10,7)).legend(bbox_to_anchor=(1.0, 1.0));"
      ],
      "metadata": {
        "colab": {
          "base_uri": "https://localhost:8080/",
          "height": 547
        },
        "id": "aHoGHkBKKmUS",
        "outputId": "9f02ca8d-a4fa-4f90-d380-f38f87603078"
      },
      "execution_count": null,
      "outputs": [
        {
          "output_type": "display_data",
          "data": {
            "text/plain": [
              "<Figure size 720x504 with 1 Axes>"
            ],
            "image/png": "[encoded data removed]"
          },
          "metadata": {
            "needs_background": "light"
          }
        }
      ]
    },
    {
      "cell_type": "code",
      "source": [
        "# Sort model by f1-score\n",
        "\n",
        "all_model_results.sort_values('f1', ascending=False)['f1'].plot(kind='bar', figsize=(10,7))"
      ],
      "metadata": {
        "colab": {
          "base_uri": "https://localhost:8080/",
          "height": 564
        },
        "id": "gfh7Tr1HK0sK",
        "outputId": "dfb34dd6-18bd-4a2b-c5ef-a6db179341cb"
      },
      "execution_count": null,
      "outputs": [
        {
          "output_type": "execute_result",
          "data": {
            "text/plain": [
              "<matplotlib.axes._subplots.AxesSubplot at 0x7f95f805e450>"
            ]
          },
          "metadata": {},
          "execution_count": 92
        },
        {
          "output_type": "display_data",
          "data": {
            "text/plain": [
              "<Figure size 720x504 with 1 Axes>"
            ],
            "image/png": "[encoded data removed]"
          },
          "metadata": {
            "needs_background": "light"
          }
        }
      ]
    },
    {
      "cell_type": "code",
      "source": [
        "# View results on tensorboard\n",
        "\n",
        "!tensorboard dev upload --logdir ./model_logs/ \\\n",
        "  --name 'NLP Modelling experiments' \\\n",
        "  --description 'Comparing multiple different types of model architecture of twitter data' \\\n",
        "  --one_shot "
      ],
      "metadata": {
        "colab": {
          "base_uri": "https://localhost:8080/"
        },
        "id": "5klOVRJ4LgQi",
        "outputId": "b2759837-e13c-4b9f-bb04-85dd3e79eea1"
      },
      "execution_count": null,
      "outputs": [
        {
          "output_type": "stream",
          "name": "stdout",
          "text": [
            "\n",
            "***** TensorBoard Uploader *****\n",
            "\n",
            "This will upload your TensorBoard logs to https://tensorboard.dev/ from\n",
            "the following directory:\n",
            "\n",
            "./model_logs/\n",
            "\n",
            "This TensorBoard will be visible to everyone. Do not upload sensitive\n",
            "data.\n",
            "\n",
            "Your use of this service is subject to Google's Terms of Service\n",
            "<https://policies.google.com/terms> and Privacy Policy\n",
            "<https://policies.google.com/privacy>, and TensorBoard.dev's Terms of Service\n",
            "<https://tensorboard.dev/policy/terms/>.\n",
            "\n",
            "This notice will not be shown again while you are logged into the uploader.\n",
            "To log out, run `tensorboard dev auth revoke`.\n",
            "\n",
            "Continue? (yes/NO) NO\n"
          ]
        }
      ]
    },
    {
      "cell_type": "code",
      "source": [
        "# Save and load a trained model via h5 (model_6)\n",
        "\n",
        "model_6.save('model_6.h5')"
      ],
      "metadata": {
        "id": "_5nabmy_MLmy"
      },
      "execution_count": null,
      "outputs": []
    },
    {
      "cell_type": "code",
      "source": [
        "loaded_model_6 = tf.keras.models.load_model('model_6.h5',\n",
        "                                            custom_objects={'KerasLayer':hub.KerasLayer})"
      ],
      "metadata": {
        "id": "j2Y6xhXWM6oS"
      },
      "execution_count": null,
      "outputs": []
    },
    {
      "cell_type": "code",
      "source": [
        "loaded_model_6.summary()"
      ],
      "metadata": {
        "colab": {
          "base_uri": "https://localhost:8080/"
        },
        "id": "Fj1YKGKsNP6h",
        "outputId": "fca327c2-c2fe-4e97-da68-e0aacd773bfb"
      },
      "execution_count": null,
      "outputs": [
        {
          "output_type": "stream",
          "name": "stdout",
          "text": [
            "Model: \"model_6_USE\"\n",
            "_________________________________________________________________\n",
            " Layer (type)                Output Shape              Param #   \n",
            "=================================================================\n",
            " model_6_use (KerasLayer)    (None, 512)               256797824 \n",
            "                                                                 \n",
            " dense_5 (Dense)             (None, 64)                32832     \n",
            "                                                                 \n",
            " output_layer (Dense)        (None, 1)                 65        \n",
            "                                                                 \n",
            "=================================================================\n",
            "Total params: 256,830,721\n",
            "Trainable params: 32,897\n",
            "Non-trainable params: 256,797,824\n",
            "_________________________________________________________________\n"
          ]
        }
      ]
    },
    {
      "cell_type": "code",
      "source": [
        "loaded_model_6.evaluate(val_sentences, val_labels)"
      ],
      "metadata": {
        "colab": {
          "base_uri": "https://localhost:8080/"
        },
        "id": "SkSQ1IcENYHB",
        "outputId": "25223dfa-4bcb-4f47-b0d8-34c05f7650df"
      },
      "execution_count": null,
      "outputs": [
        {
          "output_type": "stream",
          "name": "stdout",
          "text": [
            "24/24 [==============================] - 1s 10ms/step - loss: 0.4259 - accuracy: 0.8136\n"
          ]
        },
        {
          "output_type": "execute_result",
          "data": {
            "text/plain": [
              "[0.42592963576316833, 0.8136482834815979]"
            ]
          },
          "metadata": {},
          "execution_count": 97
        }
      ]
    },
    {
      "cell_type": "code",
      "source": [
        "model_6_results"
      ],
      "metadata": {
        "colab": {
          "base_uri": "https://localhost:8080/"
        },
        "id": "KAUSOBdONcdJ",
        "outputId": "b0d6bfbe-2870-4ce3-91d6-05beb324dade"
      },
      "execution_count": null,
      "outputs": [
        {
          "output_type": "execute_result",
          "data": {
            "text/plain": [
              "{'accuracy': 81.36482939632546,\n",
              " 'f1': 0.8129452568428948,\n",
              " 'precision': 0.813881331804605,\n",
              " 'recall': 0.8136482939632546}"
            ]
          },
          "metadata": {},
          "execution_count": 98
        }
      ]
    },
    {
      "cell_type": "code",
      "source": [
        "# Save our model in SaveModel format (default)\n",
        "\n",
        "model_6.save('model_6_SaveModel_format')"
      ],
      "metadata": {
        "colab": {
          "base_uri": "https://localhost:8080/"
        },
        "id": "8ce6OJisNf4Z",
        "outputId": "ce577128-c365-49fb-e7f1-a193704a7d07"
      },
      "execution_count": null,
      "outputs": [
        {
          "output_type": "stream",
          "name": "stdout",
          "text": [
            "INFO:tensorflow:Assets written to: model_6_SaveModel_format/assets\n"
          ]
        },
        {
          "output_type": "stream",
          "name": "stderr",
          "text": [
            "INFO:tensorflow:Assets written to: model_6_SaveModel_format/assets\n"
          ]
        }
      ]
    },
    {
      "cell_type": "code",
      "source": [
        "loaded_model_6_SaveModel = tf.keras.models.load_model('model_6_SaveModel_format')"
      ],
      "metadata": {
        "id": "Y6YP_7ohNvlK"
      },
      "execution_count": null,
      "outputs": []
    },
    {
      "cell_type": "code",
      "source": [
        "loaded_model_6_SaveModel.evaluate(val_sentences, val_labels)"
      ],
      "metadata": {
        "colab": {
          "base_uri": "https://localhost:8080/"
        },
        "id": "l_90Qg0WOBNS",
        "outputId": "e657b023-187d-4b39-ba9b-88d1ed94b07c"
      },
      "execution_count": null,
      "outputs": [
        {
          "output_type": "stream",
          "name": "stdout",
          "text": [
            "24/24 [==============================] - 2s 23ms/step - loss: 0.4259 - accuracy: 0.8136\n"
          ]
        },
        {
          "output_type": "execute_result",
          "data": {
            "text/plain": [
              "[0.4259296655654907, 0.8136482834815979]"
            ]
          },
          "metadata": {},
          "execution_count": 101
        }
      ]
    },
    {
      "cell_type": "code",
      "source": [
        "# Find the most wrong examples\n",
        "\n",
        "!wget https://storage.googleapis.com/ztm_tf_course/08_model_6_USE_feature_extractor.zip\n",
        "unzip_data('08_model_6_USE_feature_extractor.zip')"
      ],
      "metadata": {
        "id": "RUKsoVSXOGAy",
        "colab": {
          "base_uri": "https://localhost:8080/"
        },
        "outputId": "b0c54d61-2849-4ae4-db2c-1480a7c2a092"
      },
      "execution_count": null,
      "outputs": [
        {
          "output_type": "stream",
          "name": "stdout",
          "text": [
            "--2022-06-21 23:29:57--  https://storage.googleapis.com/ztm_tf_course/08_model_6_USE_feature_extractor.zip\n",
            "Resolving storage.googleapis.com (storage.googleapis.com)... 173.194.193.128, 173.194.194.128, 173.194.197.128, ...\n",
            "Connecting to storage.googleapis.com (storage.googleapis.com)|173.194.193.128|:443... connected.\n",
            "HTTP request sent, awaiting response... 200 OK\n",
            "Length: 960779165 (916M) [application/zip]\n",
            "Saving to: ‘08_model_6_USE_feature_extractor.zip’\n",
            "\n",
            "08_model_6_USE_feat 100%[===================>] 916.27M  92.6MB/s    in 15s     \n",
            "\n",
            "2022-06-21 23:30:13 (59.9 MB/s) - ‘08_model_6_USE_feature_extractor.zip’ saved [960779165/960779165]\n",
            "\n"
          ]
        }
      ]
    },
    {
      "cell_type": "code",
      "source": [
        "model_6_pretrained = tf.keras.models.load_model('08_model_6_USE_feature_extractor')\n",
        "model_6_pretrained.evaluate(val_sentences, val_labels)"
      ],
      "metadata": {
        "colab": {
          "base_uri": "https://localhost:8080/"
        },
        "id": "UXBNJZQDmeK0",
        "outputId": "28e943a8-6f8e-48d3-95c6-217292479cd3"
      },
      "execution_count": null,
      "outputs": [
        {
          "output_type": "stream",
          "name": "stdout",
          "text": [
            "WARNING:tensorflow:SavedModel saved prior to TF 2.5 detected when loading Keras model. Please ensure that you are saving the model with model.save() or tf.keras.models.save_model(), *NOT* tf.saved_model.save(). To confirm, there should be a file named \"keras_metadata.pb\" in the SavedModel directory.\n"
          ]
        },
        {
          "output_type": "stream",
          "name": "stderr",
          "text": [
            "WARNING:tensorflow:SavedModel saved prior to TF 2.5 detected when loading Keras model. Please ensure that you are saving the model with model.save() or tf.keras.models.save_model(), *NOT* tf.saved_model.save(). To confirm, there should be a file named \"keras_metadata.pb\" in the SavedModel directory.\n"
          ]
        },
        {
          "output_type": "stream",
          "name": "stdout",
          "text": [
            "24/24 [==============================] - 1s 19ms/step - loss: 0.4272 - accuracy: 0.8163\n"
          ]
        },
        {
          "output_type": "execute_result",
          "data": {
            "text/plain": [
              "[0.42723122239112854, 0.8162729740142822]"
            ]
          },
          "metadata": {},
          "execution_count": 103
        }
      ]
    },
    {
      "cell_type": "code",
      "source": [
        "model_6_pretrained_pred_probs = model_6_pretrained.predict(val_sentences)\n",
        "model_6_pretrained_preds = tf.squeeze(tf.round(model_6_pretrained_pred_probs))\n",
        "model_6_pretrained_preds[:10]"
      ],
      "metadata": {
        "colab": {
          "base_uri": "https://localhost:8080/"
        },
        "id": "w7SozwFjm2MT",
        "outputId": "cc8d6b19-77ba-483e-f2c2-8086f4801b19"
      },
      "execution_count": null,
      "outputs": [
        {
          "output_type": "execute_result",
          "data": {
            "text/plain": [
              "<tf.Tensor: shape=(10,), dtype=float32, numpy=array([0., 1., 1., 0., 1., 1., 1., 1., 1., 0.], dtype=float32)>"
            ]
          },
          "metadata": {},
          "execution_count": 106
        }
      ]
    },
    {
      "cell_type": "code",
      "source": [
        "val_df = pd.DataFrame({'text': val_sentences,\n",
        "                       'target': val_labels,\n",
        "                       'pred': model_6_pretrained_preds,\n",
        "                       'pred_prob': tf.squeeze(model_6_pretrained_pred_probs)})\n",
        "val_df"
      ],
      "metadata": {
        "colab": {
          "base_uri": "https://localhost:8080/",
          "height": 424
        },
        "id": "41h72RQJnCt0",
        "outputId": "1696c916-f2b7-461e-95d7-96ed9ae040b0"
      },
      "execution_count": null,
      "outputs": [
        {
          "output_type": "execute_result",
          "data": {
            "text/plain": [
              "                                                  text  target  pred  \\\n",
              "0    DFR EP016 Monthly Meltdown - On Dnbheaven 2015...       0   0.0   \n",
              "1    FedEx no longer to transport bioterror germs i...       0   1.0   \n",
              "2    Gunmen kill four in El Salvador bus attack: Su...       1   1.0   \n",
              "3    @camilacabello97 Internally and externally scr...       1   0.0   \n",
              "4    Radiation emergency #preparedness starts with ...       1   1.0   \n",
              "..                                                 ...     ...   ...   \n",
              "757            That's the ultimate road to destruction       0   0.0   \n",
              "758  @SetZorah dad why dont you claim me that mean ...       0   0.0   \n",
              "759  FedEx will no longer transport bioterror patho...       0   1.0   \n",
              "760  Crack in the path where I wiped out this morni...       0   1.0   \n",
              "761  I liked a @YouTube video from @dannyonpc http:...       0   0.0   \n",
              "\n",
              "     pred_prob  \n",
              "0     0.159757  \n",
              "1     0.747162  \n",
              "2     0.988749  \n",
              "3     0.196229  \n",
              "4     0.707808  \n",
              "..         ...  \n",
              "757   0.137074  \n",
              "758   0.095865  \n",
              "759   0.876982  \n",
              "760   0.612631  \n",
              "761   0.117992  \n",
              "\n",
              "[762 rows x 4 columns]"
            ],
            "text/html": [
              "\n",
              "  <div id=\"df-fca93522-bafd-460c-8f3c-5dbf3f788eec\">\n",
              "    <div class=\"colab-df-container\">\n",
              "      <div>\n",
              "<style scoped>\n",
              "    .dataframe tbody tr th:only-of-type {\n",
              "        vertical-align: middle;\n",
              "    }\n",
              "\n",
              "    .dataframe tbody tr th {\n",
              "        vertical-align: top;\n",
              "    }\n",
              "\n",
              "    .dataframe thead th {\n",
              "        text-align: right;\n",
              "    }\n",
              "</style>\n",
              "<table border=\"1\" class=\"dataframe\">\n",
              "  <thead>\n",
              "    <tr style=\"text-align: right;\">\n",
              "      <th></th>\n",
              "      <th>text</th>\n",
              "      <th>target</th>\n",
              "      <th>pred</th>\n",
              "      <th>pred_prob</th>\n",
              "    </tr>\n",
              "  </thead>\n",
              "  <tbody>\n",
              "    <tr>\n",
              "      <th>0</th>\n",
              "      <td>DFR EP016 Monthly Meltdown - On Dnbheaven 2015...</td>\n",
              "      <td>0</td>\n",
              "      <td>0.0</td>\n",
              "      <td>0.159757</td>\n",
              "    </tr>\n",
              "    <tr>\n",
              "      <th>1</th>\n",
              "      <td>FedEx no longer to transport bioterror germs i...</td>\n",
              "      <td>0</td>\n",
              "      <td>1.0</td>\n",
              "      <td>0.747162</td>\n",
              "    </tr>\n",
              "    <tr>\n",
              "      <th>2</th>\n",
              "      <td>Gunmen kill four in El Salvador bus attack: Su...</td>\n",
              "      <td>1</td>\n",
              "      <td>1.0</td>\n",
              "      <td>0.988749</td>\n",
              "    </tr>\n",
              "    <tr>\n",
              "      <th>3</th>\n",
              "      <td>@camilacabello97 Internally and externally scr...</td>\n",
              "      <td>1</td>\n",
              "      <td>0.0</td>\n",
              "      <td>0.196229</td>\n",
              "    </tr>\n",
              "    <tr>\n",
              "      <th>4</th>\n",
              "      <td>Radiation emergency #preparedness starts with ...</td>\n",
              "      <td>1</td>\n",
              "      <td>1.0</td>\n",
              "      <td>0.707808</td>\n",
              "    </tr>\n",
              "    <tr>\n",
              "      <th>...</th>\n",
              "      <td>...</td>\n",
              "      <td>...</td>\n",
              "      <td>...</td>\n",
              "      <td>...</td>\n",
              "    </tr>\n",
              "    <tr>\n",
              "      <th>757</th>\n",
              "      <td>That's the ultimate road to destruction</td>\n",
              "      <td>0</td>\n",
              "      <td>0.0</td>\n",
              "      <td>0.137074</td>\n",
              "    </tr>\n",
              "    <tr>\n",
              "      <th>758</th>\n",
              "      <td>@SetZorah dad why dont you claim me that mean ...</td>\n",
              "      <td>0</td>\n",
              "      <td>0.0</td>\n",
              "      <td>0.095865</td>\n",
              "    </tr>\n",
              "    <tr>\n",
              "      <th>759</th>\n",
              "      <td>FedEx will no longer transport bioterror patho...</td>\n",
              "      <td>0</td>\n",
              "      <td>1.0</td>\n",
              "      <td>0.876982</td>\n",
              "    </tr>\n",
              "    <tr>\n",
              "      <th>760</th>\n",
              "      <td>Crack in the path where I wiped out this morni...</td>\n",
              "      <td>0</td>\n",
              "      <td>1.0</td>\n",
              "      <td>0.612631</td>\n",
              "    </tr>\n",
              "    <tr>\n",
              "      <th>761</th>\n",
              "      <td>I liked a @YouTube video from @dannyonpc http:...</td>\n",
              "      <td>0</td>\n",
              "      <td>0.0</td>\n",
              "      <td>0.117992</td>\n",
              "    </tr>\n",
              "  </tbody>\n",
              "</table>\n",
              "<p>762 rows × 4 columns</p>\n",
              "</div>\n",
              "      <button class=\"colab-df-convert\" onclick=\"convertToInteractive('df-fca93522-bafd-460c-8f3c-5dbf3f788eec')\"\n",
              "              title=\"Convert this dataframe to an interactive table.\"\n",
              "              style=\"display:none;\">\n",
              "        \n",
              "  <svg xmlns=\"http://www.w3.org/2000/svg\" height=\"24px\"viewBox=\"0 0 24 24\"\n",
              "       width=\"24px\">\n",
              "    <path d=\"M0 0h24v24H0V0z\" fill=\"none\"/>\n",
              "    <path d=\"M18.56 5.44l.94 2.06.94-2.06 2.06-.94-2.06-.94-.94-2.06-.94 2.06-2.06.94zm-11 1L8.5 8.5l.94-2.06 2.06-.94-2.06-.94L8.5 2.5l-.94 2.06-2.06.94zm10 10l.94 2.06.94-2.06 2.06-.94-2.06-.94-.94-2.06-.94 2.06-2.06.94z\"/><path d=\"M17.41 7.96l-1.37-1.37c-.4-.4-.92-.59-1.43-.59-.52 0-1.04.2-1.43.59L10.3 9.45l-7.72 7.72c-.78.78-.78 2.05 0 2.83L4 21.41c.39.39.9.59 1.41.59.51 0 1.02-.2 1.41-.59l7.78-7.78 2.81-2.81c.8-.78.8-2.07 0-2.86zM5.41 20L4 18.59l7.72-7.72 1.47 1.35L5.41 20z\"/>\n",
              "  </svg>\n",
              "      </button>\n",
              "      \n",
              "  <style>\n",
              "    .colab-df-container {\n",
              "      display:flex;\n",
              "      flex-wrap:wrap;\n",
              "      gap: 12px;\n",
              "    }\n",
              "\n",
              "    .colab-df-convert {\n",
              "      background-color: #E8F0FE;\n",
              "      border: none;\n",
              "      border-radius: 50%;\n",
              "      cursor: pointer;\n",
              "      display: none;\n",
              "      fill: #1967D2;\n",
              "      height: 32px;\n",
              "      padding: 0 0 0 0;\n",
              "      width: 32px;\n",
              "    }\n",
              "\n",
              "    .colab-df-convert:hover {\n",
              "      background-color: #E2EBFA;\n",
              "      box-shadow: 0px 1px 2px rgba(60, 64, 67, 0.3), 0px 1px 3px 1px rgba(60, 64, 67, 0.15);\n",
              "      fill: #174EA6;\n",
              "    }\n",
              "\n",
              "    [theme=dark] .colab-df-convert {\n",
              "      background-color: #3B4455;\n",
              "      fill: #D2E3FC;\n",
              "    }\n",
              "\n",
              "    [theme=dark] .colab-df-convert:hover {\n",
              "      background-color: #434B5C;\n",
              "      box-shadow: 0px 1px 3px 1px rgba(0, 0, 0, 0.15);\n",
              "      filter: drop-shadow(0px 1px 2px rgba(0, 0, 0, 0.3));\n",
              "      fill: #FFFFFF;\n",
              "    }\n",
              "  </style>\n",
              "\n",
              "      <script>\n",
              "        const buttonEl =\n",
              "          document.querySelector('#df-fca93522-bafd-460c-8f3c-5dbf3f788eec button.colab-df-convert');\n",
              "        buttonEl.style.display =\n",
              "          google.colab.kernel.accessAllowed ? 'block' : 'none';\n",
              "\n",
              "        async function convertToInteractive(key) {\n",
              "          const element = document.querySelector('#df-fca93522-bafd-460c-8f3c-5dbf3f788eec');\n",
              "          const dataTable =\n",
              "            await google.colab.kernel.invokeFunction('convertToInteractive',\n",
              "                                                     [key], {});\n",
              "          if (!dataTable) return;\n",
              "\n",
              "          const docLinkHtml = 'Like what you see? Visit the ' +\n",
              "            '<a target=\"_blank\" href=https://colab.research.google.com/notebooks/data_table.ipynb>data table notebook</a>'\n",
              "            + ' to learn more about interactive tables.';\n",
              "          element.innerHTML = '';\n",
              "          dataTable['output_type'] = 'display_data';\n",
              "          await google.colab.output.renderOutput(dataTable, element);\n",
              "          const docLink = document.createElement('div');\n",
              "          docLink.innerHTML = docLinkHtml;\n",
              "          element.appendChild(docLink);\n",
              "        }\n",
              "      </script>\n",
              "    </div>\n",
              "  </div>\n",
              "  "
            ]
          },
          "metadata": {},
          "execution_count": 109
        }
      ]
    },
    {
      "cell_type": "code",
      "source": [
        "most_wrong = val_df[val_df['target'] != val_df['pred']].sort_values('pred_prob', ascending=False)\n",
        "most_wrong"
      ],
      "metadata": {
        "colab": {
          "base_uri": "https://localhost:8080/",
          "height": 424
        },
        "id": "akxFaPq6nukL",
        "outputId": "7760008d-19c3-41ea-8d8d-5f8f957fe530"
      },
      "execution_count": null,
      "outputs": [
        {
          "output_type": "execute_result",
          "data": {
            "text/plain": [
              "                                                  text  target  pred  \\\n",
              "31   ? High Skies - Burning Buildings ? http://t.co...       0   1.0   \n",
              "759  FedEx will no longer transport bioterror patho...       0   1.0   \n",
              "628  @noah_anyname That's where the concentration c...       0   1.0   \n",
              "209  Ashes 2015: AustraliaÛªs collapse at Trent Br...       0   1.0   \n",
              "251  @AshGhebranious civil rights continued in the ...       0   1.0   \n",
              "..                                                 ...     ...   ...   \n",
              "411  @SoonerMagic_ I mean I'm a fan but I don't nee...       1   0.0   \n",
              "233                    I get to smoke my shit in peace       1   0.0   \n",
              "38   Why are you deluged with low self-image? Take ...       1   0.0   \n",
              "244  Reddit Will Now QuarantineÛ_ http://t.co/pkUA...       1   0.0   \n",
              "23   Ron &amp; Fez - Dave's High School Crush https...       1   0.0   \n",
              "\n",
              "     pred_prob  \n",
              "31    0.910196  \n",
              "759   0.876982  \n",
              "628   0.852300  \n",
              "209   0.835454  \n",
              "251   0.827213  \n",
              "..         ...  \n",
              "411   0.043918  \n",
              "233   0.042087  \n",
              "38    0.038998  \n",
              "244   0.038949  \n",
              "23    0.037186  \n",
              "\n",
              "[140 rows x 4 columns]"
            ],
            "text/html": [
              "\n",
              "  <div id=\"df-faab0df0-e7bf-4cf7-a8ec-415f5e08f617\">\n",
              "    <div class=\"colab-df-container\">\n",
              "      <div>\n",
              "<style scoped>\n",
              "    .dataframe tbody tr th:only-of-type {\n",
              "        vertical-align: middle;\n",
              "    }\n",
              "\n",
              "    .dataframe tbody tr th {\n",
              "        vertical-align: top;\n",
              "    }\n",
              "\n",
              "    .dataframe thead th {\n",
              "        text-align: right;\n",
              "    }\n",
              "</style>\n",
              "<table border=\"1\" class=\"dataframe\">\n",
              "  <thead>\n",
              "    <tr style=\"text-align: right;\">\n",
              "      <th></th>\n",
              "      <th>text</th>\n",
              "      <th>target</th>\n",
              "      <th>pred</th>\n",
              "      <th>pred_prob</th>\n",
              "    </tr>\n",
              "  </thead>\n",
              "  <tbody>\n",
              "    <tr>\n",
              "      <th>31</th>\n",
              "      <td>? High Skies - Burning Buildings ? http://t.co...</td>\n",
              "      <td>0</td>\n",
              "      <td>1.0</td>\n",
              "      <td>0.910196</td>\n",
              "    </tr>\n",
              "    <tr>\n",
              "      <th>759</th>\n",
              "      <td>FedEx will no longer transport bioterror patho...</td>\n",
              "      <td>0</td>\n",
              "      <td>1.0</td>\n",
              "      <td>0.876982</td>\n",
              "    </tr>\n",
              "    <tr>\n",
              "      <th>628</th>\n",
              "      <td>@noah_anyname That's where the concentration c...</td>\n",
              "      <td>0</td>\n",
              "      <td>1.0</td>\n",
              "      <td>0.852300</td>\n",
              "    </tr>\n",
              "    <tr>\n",
              "      <th>209</th>\n",
              "      <td>Ashes 2015: AustraliaÛªs collapse at Trent Br...</td>\n",
              "      <td>0</td>\n",
              "      <td>1.0</td>\n",
              "      <td>0.835454</td>\n",
              "    </tr>\n",
              "    <tr>\n",
              "      <th>251</th>\n",
              "      <td>@AshGhebranious civil rights continued in the ...</td>\n",
              "      <td>0</td>\n",
              "      <td>1.0</td>\n",
              "      <td>0.827213</td>\n",
              "    </tr>\n",
              "    <tr>\n",
              "      <th>...</th>\n",
              "      <td>...</td>\n",
              "      <td>...</td>\n",
              "      <td>...</td>\n",
              "      <td>...</td>\n",
              "    </tr>\n",
              "    <tr>\n",
              "      <th>411</th>\n",
              "      <td>@SoonerMagic_ I mean I'm a fan but I don't nee...</td>\n",
              "      <td>1</td>\n",
              "      <td>0.0</td>\n",
              "      <td>0.043918</td>\n",
              "    </tr>\n",
              "    <tr>\n",
              "      <th>233</th>\n",
              "      <td>I get to smoke my shit in peace</td>\n",
              "      <td>1</td>\n",
              "      <td>0.0</td>\n",
              "      <td>0.042087</td>\n",
              "    </tr>\n",
              "    <tr>\n",
              "      <th>38</th>\n",
              "      <td>Why are you deluged with low self-image? Take ...</td>\n",
              "      <td>1</td>\n",
              "      <td>0.0</td>\n",
              "      <td>0.038998</td>\n",
              "    </tr>\n",
              "    <tr>\n",
              "      <th>244</th>\n",
              "      <td>Reddit Will Now QuarantineÛ_ http://t.co/pkUA...</td>\n",
              "      <td>1</td>\n",
              "      <td>0.0</td>\n",
              "      <td>0.038949</td>\n",
              "    </tr>\n",
              "    <tr>\n",
              "      <th>23</th>\n",
              "      <td>Ron &amp;amp; Fez - Dave's High School Crush https...</td>\n",
              "      <td>1</td>\n",
              "      <td>0.0</td>\n",
              "      <td>0.037186</td>\n",
              "    </tr>\n",
              "  </tbody>\n",
              "</table>\n",
              "<p>140 rows × 4 columns</p>\n",
              "</div>\n",
              "      <button class=\"colab-df-convert\" onclick=\"convertToInteractive('df-faab0df0-e7bf-4cf7-a8ec-415f5e08f617')\"\n",
              "              title=\"Convert this dataframe to an interactive table.\"\n",
              "              style=\"display:none;\">\n",
              "        \n",
              "  <svg xmlns=\"http://www.w3.org/2000/svg\" height=\"24px\"viewBox=\"0 0 24 24\"\n",
              "       width=\"24px\">\n",
              "    <path d=\"M0 0h24v24H0V0z\" fill=\"none\"/>\n",
              "    <path d=\"M18.56 5.44l.94 2.06.94-2.06 2.06-.94-2.06-.94-.94-2.06-.94 2.06-2.06.94zm-11 1L8.5 8.5l.94-2.06 2.06-.94-2.06-.94L8.5 2.5l-.94 2.06-2.06.94zm10 10l.94 2.06.94-2.06 2.06-.94-2.06-.94-.94-2.06-.94 2.06-2.06.94z\"/><path d=\"M17.41 7.96l-1.37-1.37c-.4-.4-.92-.59-1.43-.59-.52 0-1.04.2-1.43.59L10.3 9.45l-7.72 7.72c-.78.78-.78 2.05 0 2.83L4 21.41c.39.39.9.59 1.41.59.51 0 1.02-.2 1.41-.59l7.78-7.78 2.81-2.81c.8-.78.8-2.07 0-2.86zM5.41 20L4 18.59l7.72-7.72 1.47 1.35L5.41 20z\"/>\n",
              "  </svg>\n",
              "      </button>\n",
              "      \n",
              "  <style>\n",
              "    .colab-df-container {\n",
              "      display:flex;\n",
              "      flex-wrap:wrap;\n",
              "      gap: 12px;\n",
              "    }\n",
              "\n",
              "    .colab-df-convert {\n",
              "      background-color: #E8F0FE;\n",
              "      border: none;\n",
              "      border-radius: 50%;\n",
              "      cursor: pointer;\n",
              "      display: none;\n",
              "      fill: #1967D2;\n",
              "      height: 32px;\n",
              "      padding: 0 0 0 0;\n",
              "      width: 32px;\n",
              "    }\n",
              "\n",
              "    .colab-df-convert:hover {\n",
              "      background-color: #E2EBFA;\n",
              "      box-shadow: 0px 1px 2px rgba(60, 64, 67, 0.3), 0px 1px 3px 1px rgba(60, 64, 67, 0.15);\n",
              "      fill: #174EA6;\n",
              "    }\n",
              "\n",
              "    [theme=dark] .colab-df-convert {\n",
              "      background-color: #3B4455;\n",
              "      fill: #D2E3FC;\n",
              "    }\n",
              "\n",
              "    [theme=dark] .colab-df-convert:hover {\n",
              "      background-color: #434B5C;\n",
              "      box-shadow: 0px 1px 3px 1px rgba(0, 0, 0, 0.15);\n",
              "      filter: drop-shadow(0px 1px 2px rgba(0, 0, 0, 0.3));\n",
              "      fill: #FFFFFF;\n",
              "    }\n",
              "  </style>\n",
              "\n",
              "      <script>\n",
              "        const buttonEl =\n",
              "          document.querySelector('#df-faab0df0-e7bf-4cf7-a8ec-415f5e08f617 button.colab-df-convert');\n",
              "        buttonEl.style.display =\n",
              "          google.colab.kernel.accessAllowed ? 'block' : 'none';\n",
              "\n",
              "        async function convertToInteractive(key) {\n",
              "          const element = document.querySelector('#df-faab0df0-e7bf-4cf7-a8ec-415f5e08f617');\n",
              "          const dataTable =\n",
              "            await google.colab.kernel.invokeFunction('convertToInteractive',\n",
              "                                                     [key], {});\n",
              "          if (!dataTable) return;\n",
              "\n",
              "          const docLinkHtml = 'Like what you see? Visit the ' +\n",
              "            '<a target=\"_blank\" href=https://colab.research.google.com/notebooks/data_table.ipynb>data table notebook</a>'\n",
              "            + ' to learn more about interactive tables.';\n",
              "          element.innerHTML = '';\n",
              "          dataTable['output_type'] = 'display_data';\n",
              "          await google.colab.output.renderOutput(dataTable, element);\n",
              "          const docLink = document.createElement('div');\n",
              "          docLink.innerHTML = docLinkHtml;\n",
              "          element.appendChild(docLink);\n",
              "        }\n",
              "      </script>\n",
              "    </div>\n",
              "  </div>\n",
              "  "
            ]
          },
          "metadata": {},
          "execution_count": 110
        }
      ]
    },
    {
      "cell_type": "code",
      "source": [
        "for row in most_wrong[:10].itertuples():\n",
        "  _, text, target, pred, pred_probs = row\n",
        "  print(f\"Target: {target}, Pred: {pred}, Prob: {pred_probs}\")\n",
        "  print(f\"Text:\\n{text}\\n\")"
      ],
      "metadata": {
        "colab": {
          "base_uri": "https://localhost:8080/"
        },
        "id": "gkGOKBi7oSqU",
        "outputId": "15fdd1f7-0eef-46ac-9d02-5e94aa57b0e5"
      },
      "execution_count": null,
      "outputs": [
        {
          "output_type": "stream",
          "name": "stdout",
          "text": [
            "Target: 0, Pred: 1.0, Prob: 0.9101957678794861\n",
            "Text:\n",
            "? High Skies - Burning Buildings ? http://t.co/uVq41i3Kx2 #nowplaying\n",
            "\n",
            "Target: 0, Pred: 1.0, Prob: 0.8769821524620056\n",
            "Text:\n",
            "FedEx will no longer transport bioterror pathogens in wake of anthrax lab mishaps http://t.co/lHpgxc4b8J\n",
            "\n",
            "Target: 0, Pred: 1.0, Prob: 0.8523000478744507\n",
            "Text:\n",
            "@noah_anyname That's where the concentration camps and mass murder come in. \n",
            " \n",
            "EVERY. FUCKING. TIME.\n",
            "\n",
            "Target: 0, Pred: 1.0, Prob: 0.8354544639587402\n",
            "Text:\n",
            "Ashes 2015: AustraliaÛªs collapse at Trent Bridge among worst in history: England bundled out Australia for 60 ... http://t.co/t5TrhjUAU0\n",
            "\n",
            "Target: 0, Pred: 1.0, Prob: 0.8272132873535156\n",
            "Text:\n",
            "@AshGhebranious civil rights continued in the 60s. And what about trans-generational trauma? if anything we should listen to the Americans.\n",
            "\n",
            "Target: 0, Pred: 1.0, Prob: 0.814815878868103\n",
            "Text:\n",
            "@SonofLiberty357 all illuminated by the brightly burning buildings all around the town!\n",
            "\n",
            "Target: 0, Pred: 1.0, Prob: 0.8108396530151367\n",
            "Text:\n",
            "[55436] 1950 LIONEL TRAINS SMOKE LOCOMOTIVES WITH MAGNE-TRACTION INSTRUCTIONS http://t.co/xEZBs3sq0y http://t.co/C2x0QoKGlY\n",
            "\n",
            "Target: 0, Pred: 1.0, Prob: 0.80312180519104\n",
            "Text:\n",
            "@madonnamking RSPCA site multiple 7 story high rise buildings next to low density character residential in an area that floods\n",
            "\n",
            "Target: 0, Pred: 1.0, Prob: 0.7669008374214172\n",
            "Text:\n",
            "@freefromwolves GodsLove &amp; #thankU brother Danny for RT of NEW VIDEO http://t.co/cybKsXHF7d The Coming Apocalyptic US Earthquake &amp; Tsunami\n",
            "\n",
            "Target: 0, Pred: 1.0, Prob: 0.7666252255439758\n",
            "Text:\n",
            "Air Group is here to the rescue! We have 24/7 Emergency Service! Learn more about it here - http://t.co/9lyx7zMtHE http://t.co/5PbC96rTMJ\n",
            "\n"
          ]
        }
      ]
    },
    {
      "cell_type": "code",
      "source": [
        "for row in most_wrong[-10:].itertuples():\n",
        "  _, text, target, pred, pred_probs = row\n",
        "  print(f\"Target: {target}, Pred: {pred}, Prob: {pred_probs}\")\n",
        "  print(f\"Text:\\n{text}\\n\")"
      ],
      "metadata": {
        "colab": {
          "base_uri": "https://localhost:8080/"
        },
        "id": "gV__d8y1pN9b",
        "outputId": "6341c0b8-dbeb-40ef-981c-3daca91348ef"
      },
      "execution_count": null,
      "outputs": [
        {
          "output_type": "stream",
          "name": "stdout",
          "text": [
            "Target: 1, Pred: 0.0, Prob: 0.06730347871780396\n",
            "Text:\n",
            "@DavidVonderhaar At least you were sincere ??\n",
            "\n",
            "Target: 1, Pred: 0.0, Prob: 0.05507579818367958\n",
            "Text:\n",
            "@willienelson We need help! Horses will die!Please RT &amp; sign petition!Take a stand &amp; be a voice for them! #gilbert23 https://t.co/e8dl1lNCVu\n",
            "\n",
            "Target: 1, Pred: 0.0, Prob: 0.05460336431860924\n",
            "Text:\n",
            "Lucas Duda is Ghost Rider. Not the Nic Cage version but an actual 'engulfed in flames' badass. #Mets\n",
            "\n",
            "Target: 1, Pred: 0.0, Prob: 0.054597001522779465\n",
            "Text:\n",
            "going to redo my nails and watch behind the scenes of desolation of smaug ayyy\n",
            "\n",
            "Target: 1, Pred: 0.0, Prob: 0.049637261778116226\n",
            "Text:\n",
            "You can never escape me. Bullets don't harm me. Nothing harms me. But I know pain. I know pain. Sometimes I share it. With someone like you.\n",
            "\n",
            "Target: 1, Pred: 0.0, Prob: 0.043918490409851074\n",
            "Text:\n",
            "@SoonerMagic_ I mean I'm a fan but I don't need a girl sounding off like a damn siren\n",
            "\n",
            "Target: 1, Pred: 0.0, Prob: 0.042086850851774216\n",
            "Text:\n",
            "I get to smoke my shit in peace\n",
            "\n",
            "Target: 1, Pred: 0.0, Prob: 0.03899792954325676\n",
            "Text:\n",
            "Why are you deluged with low self-image? Take the quiz: http://t.co/XsPqdOrIqj http://t.co/CQYvFR4UCy\n",
            "\n",
            "Target: 1, Pred: 0.0, Prob: 0.03894945606589317\n",
            "Text:\n",
            "Reddit Will Now QuarantineÛ_ http://t.co/pkUAMXw6pm #onlinecommunities #reddit #amageddon #freespeech #Business http://t.co/PAWvNJ4sAP\n",
            "\n",
            "Target: 1, Pred: 0.0, Prob: 0.037185799330472946\n",
            "Text:\n",
            "Ron &amp; Fez - Dave's High School Crush https://t.co/aN3W16c8F6 via @YouTube\n",
            "\n"
          ]
        }
      ]
    },
    {
      "cell_type": "code",
      "source": [
        "test_df"
      ],
      "metadata": {
        "colab": {
          "base_uri": "https://localhost:8080/",
          "height": 424
        },
        "id": "h9s0_2Ykpwfb",
        "outputId": "00a42679-1381-4e68-ff20-dc238522ad37"
      },
      "execution_count": null,
      "outputs": [
        {
          "output_type": "execute_result",
          "data": {
            "text/plain": [
              "         id keyword location  \\\n",
              "0         0     NaN      NaN   \n",
              "1         2     NaN      NaN   \n",
              "2         3     NaN      NaN   \n",
              "3         9     NaN      NaN   \n",
              "4        11     NaN      NaN   \n",
              "...     ...     ...      ...   \n",
              "3258  10861     NaN      NaN   \n",
              "3259  10865     NaN      NaN   \n",
              "3260  10868     NaN      NaN   \n",
              "3261  10874     NaN      NaN   \n",
              "3262  10875     NaN      NaN   \n",
              "\n",
              "                                                   text  \n",
              "0                    Just happened a terrible car crash  \n",
              "1     Heard about #earthquake is different cities, s...  \n",
              "2     there is a forest fire at spot pond, geese are...  \n",
              "3              Apocalypse lighting. #Spokane #wildfires  \n",
              "4         Typhoon Soudelor kills 28 in China and Taiwan  \n",
              "...                                                 ...  \n",
              "3258  EARTHQUAKE SAFETY LOS ANGELES ÛÒ SAFETY FASTE...  \n",
              "3259  Storm in RI worse than last hurricane. My city...  \n",
              "3260  Green Line derailment in Chicago http://t.co/U...  \n",
              "3261  MEG issues Hazardous Weather Outlook (HWO) htt...  \n",
              "3262  #CityofCalgary has activated its Municipal Eme...  \n",
              "\n",
              "[3263 rows x 4 columns]"
            ],
            "text/html": [
              "\n",
              "  <div id=\"df-41b09322-087a-48ae-8097-bce69af5781c\">\n",
              "    <div class=\"colab-df-container\">\n",
              "      <div>\n",
              "<style scoped>\n",
              "    .dataframe tbody tr th:only-of-type {\n",
              "        vertical-align: middle;\n",
              "    }\n",
              "\n",
              "    .dataframe tbody tr th {\n",
              "        vertical-align: top;\n",
              "    }\n",
              "\n",
              "    .dataframe thead th {\n",
              "        text-align: right;\n",
              "    }\n",
              "</style>\n",
              "<table border=\"1\" class=\"dataframe\">\n",
              "  <thead>\n",
              "    <tr style=\"text-align: right;\">\n",
              "      <th></th>\n",
              "      <th>id</th>\n",
              "      <th>keyword</th>\n",
              "      <th>location</th>\n",
              "      <th>text</th>\n",
              "    </tr>\n",
              "  </thead>\n",
              "  <tbody>\n",
              "    <tr>\n",
              "      <th>0</th>\n",
              "      <td>0</td>\n",
              "      <td>NaN</td>\n",
              "      <td>NaN</td>\n",
              "      <td>Just happened a terrible car crash</td>\n",
              "    </tr>\n",
              "    <tr>\n",
              "      <th>1</th>\n",
              "      <td>2</td>\n",
              "      <td>NaN</td>\n",
              "      <td>NaN</td>\n",
              "      <td>Heard about #earthquake is different cities, s...</td>\n",
              "    </tr>\n",
              "    <tr>\n",
              "      <th>2</th>\n",
              "      <td>3</td>\n",
              "      <td>NaN</td>\n",
              "      <td>NaN</td>\n",
              "      <td>there is a forest fire at spot pond, geese are...</td>\n",
              "    </tr>\n",
              "    <tr>\n",
              "      <th>3</th>\n",
              "      <td>9</td>\n",
              "      <td>NaN</td>\n",
              "      <td>NaN</td>\n",
              "      <td>Apocalypse lighting. #Spokane #wildfires</td>\n",
              "    </tr>\n",
              "    <tr>\n",
              "      <th>4</th>\n",
              "      <td>11</td>\n",
              "      <td>NaN</td>\n",
              "      <td>NaN</td>\n",
              "      <td>Typhoon Soudelor kills 28 in China and Taiwan</td>\n",
              "    </tr>\n",
              "    <tr>\n",
              "      <th>...</th>\n",
              "      <td>...</td>\n",
              "      <td>...</td>\n",
              "      <td>...</td>\n",
              "      <td>...</td>\n",
              "    </tr>\n",
              "    <tr>\n",
              "      <th>3258</th>\n",
              "      <td>10861</td>\n",
              "      <td>NaN</td>\n",
              "      <td>NaN</td>\n",
              "      <td>EARTHQUAKE SAFETY LOS ANGELES ÛÒ SAFETY FASTE...</td>\n",
              "    </tr>\n",
              "    <tr>\n",
              "      <th>3259</th>\n",
              "      <td>10865</td>\n",
              "      <td>NaN</td>\n",
              "      <td>NaN</td>\n",
              "      <td>Storm in RI worse than last hurricane. My city...</td>\n",
              "    </tr>\n",
              "    <tr>\n",
              "      <th>3260</th>\n",
              "      <td>10868</td>\n",
              "      <td>NaN</td>\n",
              "      <td>NaN</td>\n",
              "      <td>Green Line derailment in Chicago http://t.co/U...</td>\n",
              "    </tr>\n",
              "    <tr>\n",
              "      <th>3261</th>\n",
              "      <td>10874</td>\n",
              "      <td>NaN</td>\n",
              "      <td>NaN</td>\n",
              "      <td>MEG issues Hazardous Weather Outlook (HWO) htt...</td>\n",
              "    </tr>\n",
              "    <tr>\n",
              "      <th>3262</th>\n",
              "      <td>10875</td>\n",
              "      <td>NaN</td>\n",
              "      <td>NaN</td>\n",
              "      <td>#CityofCalgary has activated its Municipal Eme...</td>\n",
              "    </tr>\n",
              "  </tbody>\n",
              "</table>\n",
              "<p>3263 rows × 4 columns</p>\n",
              "</div>\n",
              "      <button class=\"colab-df-convert\" onclick=\"convertToInteractive('df-41b09322-087a-48ae-8097-bce69af5781c')\"\n",
              "              title=\"Convert this dataframe to an interactive table.\"\n",
              "              style=\"display:none;\">\n",
              "        \n",
              "  <svg xmlns=\"http://www.w3.org/2000/svg\" height=\"24px\"viewBox=\"0 0 24 24\"\n",
              "       width=\"24px\">\n",
              "    <path d=\"M0 0h24v24H0V0z\" fill=\"none\"/>\n",
              "    <path d=\"M18.56 5.44l.94 2.06.94-2.06 2.06-.94-2.06-.94-.94-2.06-.94 2.06-2.06.94zm-11 1L8.5 8.5l.94-2.06 2.06-.94-2.06-.94L8.5 2.5l-.94 2.06-2.06.94zm10 10l.94 2.06.94-2.06 2.06-.94-2.06-.94-.94-2.06-.94 2.06-2.06.94z\"/><path d=\"M17.41 7.96l-1.37-1.37c-.4-.4-.92-.59-1.43-.59-.52 0-1.04.2-1.43.59L10.3 9.45l-7.72 7.72c-.78.78-.78 2.05 0 2.83L4 21.41c.39.39.9.59 1.41.59.51 0 1.02-.2 1.41-.59l7.78-7.78 2.81-2.81c.8-.78.8-2.07 0-2.86zM5.41 20L4 18.59l7.72-7.72 1.47 1.35L5.41 20z\"/>\n",
              "  </svg>\n",
              "      </button>\n",
              "      \n",
              "  <style>\n",
              "    .colab-df-container {\n",
              "      display:flex;\n",
              "      flex-wrap:wrap;\n",
              "      gap: 12px;\n",
              "    }\n",
              "\n",
              "    .colab-df-convert {\n",
              "      background-color: #E8F0FE;\n",
              "      border: none;\n",
              "      border-radius: 50%;\n",
              "      cursor: pointer;\n",
              "      display: none;\n",
              "      fill: #1967D2;\n",
              "      height: 32px;\n",
              "      padding: 0 0 0 0;\n",
              "      width: 32px;\n",
              "    }\n",
              "\n",
              "    .colab-df-convert:hover {\n",
              "      background-color: #E2EBFA;\n",
              "      box-shadow: 0px 1px 2px rgba(60, 64, 67, 0.3), 0px 1px 3px 1px rgba(60, 64, 67, 0.15);\n",
              "      fill: #174EA6;\n",
              "    }\n",
              "\n",
              "    [theme=dark] .colab-df-convert {\n",
              "      background-color: #3B4455;\n",
              "      fill: #D2E3FC;\n",
              "    }\n",
              "\n",
              "    [theme=dark] .colab-df-convert:hover {\n",
              "      background-color: #434B5C;\n",
              "      box-shadow: 0px 1px 3px 1px rgba(0, 0, 0, 0.15);\n",
              "      filter: drop-shadow(0px 1px 2px rgba(0, 0, 0, 0.3));\n",
              "      fill: #FFFFFF;\n",
              "    }\n",
              "  </style>\n",
              "\n",
              "      <script>\n",
              "        const buttonEl =\n",
              "          document.querySelector('#df-41b09322-087a-48ae-8097-bce69af5781c button.colab-df-convert');\n",
              "        buttonEl.style.display =\n",
              "          google.colab.kernel.accessAllowed ? 'block' : 'none';\n",
              "\n",
              "        async function convertToInteractive(key) {\n",
              "          const element = document.querySelector('#df-41b09322-087a-48ae-8097-bce69af5781c');\n",
              "          const dataTable =\n",
              "            await google.colab.kernel.invokeFunction('convertToInteractive',\n",
              "                                                     [key], {});\n",
              "          if (!dataTable) return;\n",
              "\n",
              "          const docLinkHtml = 'Like what you see? Visit the ' +\n",
              "            '<a target=\"_blank\" href=https://colab.research.google.com/notebooks/data_table.ipynb>data table notebook</a>'\n",
              "            + ' to learn more about interactive tables.';\n",
              "          element.innerHTML = '';\n",
              "          dataTable['output_type'] = 'display_data';\n",
              "          await google.colab.output.renderOutput(dataTable, element);\n",
              "          const docLink = document.createElement('div');\n",
              "          docLink.innerHTML = docLinkHtml;\n",
              "          element.appendChild(docLink);\n",
              "        }\n",
              "      </script>\n",
              "    </div>\n",
              "  </div>\n",
              "  "
            ]
          },
          "metadata": {},
          "execution_count": 117
        }
      ]
    },
    {
      "cell_type": "code",
      "source": [
        "# Make prediction on test dataset\n",
        "\n",
        "test_sentences = test_df['text'].to_list()\n",
        "test_samples = random.sample(test_sentences, 10)\n",
        "for test_sample in test_samples:\n",
        "  pred_prob = tf.squeeze(model_6_pretrained.predict([test_sample]))\n",
        "  pred = tf.round(pred_prob)\n",
        "  print(f\"Pred: {int(pred)}, Prob: {pred_prob}\")\n",
        "  print(f\"Text:\\n{test_sample}\\n\")"
      ],
      "metadata": {
        "colab": {
          "base_uri": "https://localhost:8080/"
        },
        "id": "DZLmExfKqKxM",
        "outputId": "c741c784-1e31-4f7b-9c09-6fe32471aa81"
      },
      "execution_count": null,
      "outputs": [
        {
          "output_type": "stream",
          "name": "stdout",
          "text": [
            "Pred: 0, Prob: 0.48534095287323\n",
            "Text:\n",
            "Ppl living w/ HIV have been charged with aggravated assault and bioterrorism for things w/ low or no risk of transmission. #HIVIsNotaCrime\n",
            "\n",
            "Pred: 1, Prob: 0.8527683615684509\n",
            "Text:\n",
            "Attention Service Members Veterans Educators First Responders in Jacksonville FL http://t.co/4UrtBEAcE5\n",
            "\n",
            "Pred: 1, Prob: 0.5125895142555237\n",
            "Text:\n",
            "@tim55081 @BootlegAlbano @ShaunKing I know. He profits off the deaths of the people he claims to be fighting for. He makes me sick.\n",
            "\n",
            "Pred: 1, Prob: 0.9680105447769165\n",
            "Text:\n",
            "'The Latest: More Homes Razed by Northern California Wildfire' by THE ASSOCIATED PRESS via NYT http://t.co/rDF0ZuW7lZ\n",
            "\n",
            "Pred: 0, Prob: 0.32109662890434265\n",
            "Text:\n",
            "Salvation Army bid to demolish cottages http://t.co/3kuXonOchl #Southend http://t.co/enQaSCGFyw\n",
            "\n",
            "Pred: 1, Prob: 0.9557879567146301\n",
            "Text:\n",
            "Good morning. Slept about 6 hours. The heat wave hits Japan... The hot days still continue. I guess some people were killed by this climate.\n",
            "\n",
            "Pred: 0, Prob: 0.10679860413074493\n",
            "Text:\n",
            "Le Ever Blazing\n",
            "\n",
            "Pred: 0, Prob: 0.2903169095516205\n",
            "Text:\n",
            "just collecting the rubble\n",
            "\n",
            "Pred: 0, Prob: 0.2829391658306122\n",
            "Text:\n",
            "see the flames inside my eyes\n",
            "\n",
            "Pred: 1, Prob: 0.9621514678001404\n",
            "Text:\n",
            "Boston yesterday after an intense hailstorm. Photo by 'then0mads0ul'. http://t.co/uxgtXCArQ1\n",
            "\n"
          ]
        }
      ]
    },
    {
      "cell_type": "code",
      "source": [
        "# predict your own sentences!\n",
        "\n",
        "model_6_pretrained.predict(['killing spree'])"
      ],
      "metadata": {
        "colab": {
          "base_uri": "https://localhost:8080/"
        },
        "id": "RUlMIGKYqZgK",
        "outputId": "924f4883-2013-44de-9d60-016021065f26"
      },
      "execution_count": null,
      "outputs": [
        {
          "output_type": "execute_result",
          "data": {
            "text/plain": [
              "array([[0.15233645]], dtype=float32)"
            ]
          },
          "metadata": {},
          "execution_count": 138
        }
      ]
    },
    {
      "cell_type": "code",
      "source": [
        "# Lets measure the time of prediction\n",
        "\n",
        "import time\n",
        "def pred_timer(model, samples):\n",
        "  start_time = time.perf_counter()\n",
        "  model.predict(samples)\n",
        "  end_time = time.perf_counter()\n",
        "  total_time = end_time - start_time\n",
        "  time_per_pred = total_time/len(samples)\n",
        "  return total_time, time_per_pred"
      ],
      "metadata": {
        "id": "KDv_gkk2vjSf"
      },
      "execution_count": null,
      "outputs": []
    },
    {
      "cell_type": "code",
      "source": [
        "pred_timer(model_6_pretrained, val_sentences)"
      ],
      "metadata": {
        "colab": {
          "base_uri": "https://localhost:8080/"
        },
        "id": "8QFZQpNOwX25",
        "outputId": "6dbb3381-d6a8-4f6d-c261-3d21b0d70c13"
      },
      "execution_count": null,
      "outputs": [
        {
          "output_type": "execute_result",
          "data": {
            "text/plain": [
              "(0.53347949099998, 0.0007001043188976116)"
            ]
          },
          "metadata": {},
          "execution_count": 129
        }
      ]
    },
    {
      "cell_type": "code",
      "source": [
        "pred_timer(model_0, val_sentences)"
      ],
      "metadata": {
        "colab": {
          "base_uri": "https://localhost:8080/"
        },
        "id": "jdKD7L2xw1p5",
        "outputId": "39e3f8a1-9f22-4043-8199-0fb75b45f8f8"
      },
      "execution_count": null,
      "outputs": [
        {
          "output_type": "execute_result",
          "data": {
            "text/plain": [
              "(0.062076785000044765, 8.146559711291964e-05)"
            ]
          },
          "metadata": {},
          "execution_count": 133
        }
      ]
    },
    {
      "cell_type": "code",
      "source": [],
      "metadata": {
        "id": "DpfzxWviw_qI"
      },
      "execution_count": null,
      "outputs": []
    }
  ]
}